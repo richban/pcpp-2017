{
 "cells": [
  {
   "cell_type": "code",
   "execution_count": 1,
   "metadata": {},
   "outputs": [
    {
     "data": {
      "text/html": [
       "\n",
       "    <div class=\"bk-root\">\n",
       "        <a href=\"https://bokeh.pydata.org\" target=\"_blank\" class=\"bk-logo bk-logo-small bk-logo-notebook\"></a>\n",
       "        <span id=\"a8cedcf5-e6cb-4806-8b04-5768b6decf1b\">Loading BokehJS ...</span>\n",
       "    </div>"
      ]
     },
     "metadata": {},
     "output_type": "display_data"
    },
    {
     "data": {
      "application/javascript": [
       "\n",
       "(function(root) {\n",
       "  function now() {\n",
       "    return new Date();\n",
       "  }\n",
       "\n",
       "  var force = true;\n",
       "\n",
       "  if (typeof (root._bokeh_onload_callbacks) === \"undefined\" || force === true) {\n",
       "    root._bokeh_onload_callbacks = [];\n",
       "    root._bokeh_is_loading = undefined;\n",
       "  }\n",
       "\n",
       "  var JS_MIME_TYPE = 'application/javascript';\n",
       "  var HTML_MIME_TYPE = 'text/html';\n",
       "  var EXEC_MIME_TYPE = 'application/vnd.bokehjs_exec.v0+json';\n",
       "  var CLASS_NAME = 'output_bokeh rendered_html';\n",
       "\n",
       "  /**\n",
       "   * Render data to the DOM node\n",
       "   */\n",
       "  function render(props, node) {\n",
       "    var script = document.createElement(\"script\");\n",
       "    node.appendChild(script);\n",
       "  }\n",
       "\n",
       "  /**\n",
       "   * Handle when an output is cleared or removed\n",
       "   */\n",
       "  function handleClearOutput(event, handle) {\n",
       "    var cell = handle.cell;\n",
       "\n",
       "    var id = cell.output_area._bokeh_element_id;\n",
       "    var server_id = cell.output_area._bokeh_server_id;\n",
       "    // Clean up Bokeh references\n",
       "    if (id !== undefined) {\n",
       "      Bokeh.index[id].model.document.clear();\n",
       "      delete Bokeh.index[id];\n",
       "    }\n",
       "\n",
       "    if (server_id !== undefined) {\n",
       "      // Clean up Bokeh references\n",
       "      var cmd = \"from bokeh.io import _state; print(_state.uuid_to_server['\" + server_id + \"'].get_sessions()[0].document.roots[0]._id)\";\n",
       "      cell.notebook.kernel.execute(cmd, {\n",
       "        iopub: {\n",
       "          output: function(msg) {\n",
       "            var element_id = msg.content.text.trim();\n",
       "            Bokeh.index[element_id].model.document.clear();\n",
       "            delete Bokeh.index[element_id];\n",
       "          }\n",
       "        }\n",
       "      });\n",
       "      // Destroy server and session\n",
       "      var cmd = \"from bokeh import io; io._destroy_server('\" + server_id + \"')\";\n",
       "      cell.notebook.kernel.execute(cmd);\n",
       "    }\n",
       "  }\n",
       "\n",
       "  /**\n",
       "   * Handle when a new output is added\n",
       "   */\n",
       "  function handleAddOutput(event, handle) {\n",
       "    var output_area = handle.output_area;\n",
       "    var output = handle.output;\n",
       "\n",
       "    // limit handleAddOutput to display_data with EXEC_MIME_TYPE content only\n",
       "    if ((output.output_type != \"display_data\") || (!output.data.hasOwnProperty(EXEC_MIME_TYPE))) {\n",
       "      return\n",
       "    }\n",
       "\n",
       "    var toinsert = output_area.element.find(`.${CLASS_NAME.split(' ')[0]}`);\n",
       "\n",
       "    if (output.metadata[EXEC_MIME_TYPE][\"id\"] !== undefined) {\n",
       "      toinsert[0].firstChild.textContent = output.data[JS_MIME_TYPE];\n",
       "      // store reference to embed id on output_area\n",
       "      output_area._bokeh_element_id = output.metadata[EXEC_MIME_TYPE][\"id\"];\n",
       "    }\n",
       "    if (output.metadata[EXEC_MIME_TYPE][\"server_id\"] !== undefined) {\n",
       "      var bk_div = document.createElement(\"div\");\n",
       "      bk_div.innerHTML = output.data[HTML_MIME_TYPE];\n",
       "      var script_attrs = bk_div.children[0].attributes;\n",
       "      for (var i = 0; i < script_attrs.length; i++) {\n",
       "        toinsert[0].firstChild.setAttribute(script_attrs[i].name, script_attrs[i].value);\n",
       "      }\n",
       "      // store reference to server id on output_area\n",
       "      output_area._bokeh_server_id = output.metadata[EXEC_MIME_TYPE][\"server_id\"];\n",
       "    }\n",
       "  }\n",
       "\n",
       "  function register_renderer(events, OutputArea) {\n",
       "\n",
       "    function append_mime(data, metadata, element) {\n",
       "      // create a DOM node to render to\n",
       "      var toinsert = this.create_output_subarea(\n",
       "        metadata,\n",
       "        CLASS_NAME,\n",
       "        EXEC_MIME_TYPE\n",
       "      );\n",
       "      this.keyboard_manager.register_events(toinsert);\n",
       "      // Render to node\n",
       "      var props = {data: data, metadata: metadata[EXEC_MIME_TYPE]};\n",
       "      render(props, toinsert[0]);\n",
       "      element.append(toinsert);\n",
       "      return toinsert\n",
       "    }\n",
       "\n",
       "    /* Handle when an output is cleared or removed */\n",
       "    events.on('clear_output.CodeCell', handleClearOutput);\n",
       "    events.on('delete.Cell', handleClearOutput);\n",
       "\n",
       "    /* Handle when a new output is added */\n",
       "    events.on('output_added.OutputArea', handleAddOutput);\n",
       "\n",
       "    /**\n",
       "     * Register the mime type and append_mime function with output_area\n",
       "     */\n",
       "    OutputArea.prototype.register_mime_type(EXEC_MIME_TYPE, append_mime, {\n",
       "      /* Is output safe? */\n",
       "      safe: true,\n",
       "      /* Index of renderer in `output_area.display_order` */\n",
       "      index: 0\n",
       "    });\n",
       "  }\n",
       "\n",
       "  // register the mime type if in Jupyter Notebook environment and previously unregistered\n",
       "  if (root.Jupyter !== undefined) {\n",
       "    var events = require('base/js/events');\n",
       "    var OutputArea = require('notebook/js/outputarea').OutputArea;\n",
       "\n",
       "    if (OutputArea.prototype.mime_types().indexOf(EXEC_MIME_TYPE) == -1) {\n",
       "      register_renderer(events, OutputArea);\n",
       "    }\n",
       "  }\n",
       "\n",
       "  \n",
       "  if (typeof (root._bokeh_timeout) === \"undefined\" || force === true) {\n",
       "    root._bokeh_timeout = Date.now() + 5000;\n",
       "    root._bokeh_failed_load = false;\n",
       "  }\n",
       "\n",
       "  var NB_LOAD_WARNING = {'data': {'text/html':\n",
       "     \"<div style='background-color: #fdd'>\\n\"+\n",
       "     \"<p>\\n\"+\n",
       "     \"BokehJS does not appear to have successfully loaded. If loading BokehJS from CDN, this \\n\"+\n",
       "     \"may be due to a slow or bad network connection. Possible fixes:\\n\"+\n",
       "     \"</p>\\n\"+\n",
       "     \"<ul>\\n\"+\n",
       "     \"<li>re-rerun `output_notebook()` to attempt to load from CDN again, or</li>\\n\"+\n",
       "     \"<li>use INLINE resources instead, as so:</li>\\n\"+\n",
       "     \"</ul>\\n\"+\n",
       "     \"<code>\\n\"+\n",
       "     \"from bokeh.resources import INLINE\\n\"+\n",
       "     \"output_notebook(resources=INLINE)\\n\"+\n",
       "     \"</code>\\n\"+\n",
       "     \"</div>\"}};\n",
       "\n",
       "  function display_loaded() {\n",
       "    var el = document.getElementById(\"a8cedcf5-e6cb-4806-8b04-5768b6decf1b\");\n",
       "    if (el != null) {\n",
       "      el.textContent = \"BokehJS is loading...\";\n",
       "    }\n",
       "    if (root.Bokeh !== undefined) {\n",
       "      if (el != null) {\n",
       "        el.textContent = \"BokehJS \" + root.Bokeh.version + \" successfully loaded.\";\n",
       "      }\n",
       "    } else if (Date.now() < root._bokeh_timeout) {\n",
       "      setTimeout(display_loaded, 100)\n",
       "    }\n",
       "  }\n",
       "\n",
       "\n",
       "  function run_callbacks() {\n",
       "    try {\n",
       "      root._bokeh_onload_callbacks.forEach(function(callback) { callback() });\n",
       "    }\n",
       "    finally {\n",
       "      delete root._bokeh_onload_callbacks\n",
       "    }\n",
       "    console.info(\"Bokeh: all callbacks have finished\");\n",
       "  }\n",
       "\n",
       "  function load_libs(js_urls, callback) {\n",
       "    root._bokeh_onload_callbacks.push(callback);\n",
       "    if (root._bokeh_is_loading > 0) {\n",
       "      console.log(\"Bokeh: BokehJS is being loaded, scheduling callback at\", now());\n",
       "      return null;\n",
       "    }\n",
       "    if (js_urls == null || js_urls.length === 0) {\n",
       "      run_callbacks();\n",
       "      return null;\n",
       "    }\n",
       "    console.log(\"Bokeh: BokehJS not loaded, scheduling load and callback at\", now());\n",
       "    root._bokeh_is_loading = js_urls.length;\n",
       "    for (var i = 0; i < js_urls.length; i++) {\n",
       "      var url = js_urls[i];\n",
       "      var s = document.createElement('script');\n",
       "      s.src = url;\n",
       "      s.async = false;\n",
       "      s.onreadystatechange = s.onload = function() {\n",
       "        root._bokeh_is_loading--;\n",
       "        if (root._bokeh_is_loading === 0) {\n",
       "          console.log(\"Bokeh: all BokehJS libraries loaded\");\n",
       "          run_callbacks()\n",
       "        }\n",
       "      };\n",
       "      s.onerror = function() {\n",
       "        console.warn(\"failed to load library \" + url);\n",
       "      };\n",
       "      console.log(\"Bokeh: injecting script tag for BokehJS library: \", url);\n",
       "      document.getElementsByTagName(\"head\")[0].appendChild(s);\n",
       "    }\n",
       "  };var element = document.getElementById(\"a8cedcf5-e6cb-4806-8b04-5768b6decf1b\");\n",
       "  if (element == null) {\n",
       "    console.log(\"Bokeh: ERROR: autoload.js configured with elementid 'a8cedcf5-e6cb-4806-8b04-5768b6decf1b' but no matching script tag was found. \")\n",
       "    return false;\n",
       "  }\n",
       "\n",
       "  var js_urls = [\"https://cdn.pydata.org/bokeh/release/bokeh-0.12.9.min.js\", \"https://cdn.pydata.org/bokeh/release/bokeh-widgets-0.12.9.min.js\", \"https://cdn.pydata.org/bokeh/release/bokeh-tables-0.12.9.min.js\", \"https://cdn.pydata.org/bokeh/release/bokeh-gl-0.12.9.min.js\"];\n",
       "\n",
       "  var inline_js = [\n",
       "    function(Bokeh) {\n",
       "      Bokeh.set_log_level(\"info\");\n",
       "    },\n",
       "    \n",
       "    function(Bokeh) {\n",
       "      \n",
       "    },\n",
       "    function(Bokeh) {\n",
       "      console.log(\"Bokeh: injecting CSS: https://cdn.pydata.org/bokeh/release/bokeh-0.12.9.min.css\");\n",
       "      Bokeh.embed.inject_css(\"https://cdn.pydata.org/bokeh/release/bokeh-0.12.9.min.css\");\n",
       "      console.log(\"Bokeh: injecting CSS: https://cdn.pydata.org/bokeh/release/bokeh-widgets-0.12.9.min.css\");\n",
       "      Bokeh.embed.inject_css(\"https://cdn.pydata.org/bokeh/release/bokeh-widgets-0.12.9.min.css\");\n",
       "      console.log(\"Bokeh: injecting CSS: https://cdn.pydata.org/bokeh/release/bokeh-tables-0.12.9.min.css\");\n",
       "      Bokeh.embed.inject_css(\"https://cdn.pydata.org/bokeh/release/bokeh-tables-0.12.9.min.css\");\n",
       "    }\n",
       "  ];\n",
       "\n",
       "  function run_inline_js() {\n",
       "    \n",
       "    if ((root.Bokeh !== undefined) || (force === true)) {\n",
       "      for (var i = 0; i < inline_js.length; i++) {\n",
       "        inline_js[i].call(root, root.Bokeh);\n",
       "      }if (force === true) {\n",
       "        display_loaded();\n",
       "      }} else if (Date.now() < root._bokeh_timeout) {\n",
       "      setTimeout(run_inline_js, 100);\n",
       "    } else if (!root._bokeh_failed_load) {\n",
       "      console.log(\"Bokeh: BokehJS failed to load within specified timeout.\");\n",
       "      root._bokeh_failed_load = true;\n",
       "    } else if (force !== true) {\n",
       "      var cell = $(document.getElementById(\"a8cedcf5-e6cb-4806-8b04-5768b6decf1b\")).parents('.cell').data().cell;\n",
       "      cell.output_area.append_execute_result(NB_LOAD_WARNING)\n",
       "    }\n",
       "\n",
       "  }\n",
       "\n",
       "  if (root._bokeh_is_loading === 0) {\n",
       "    console.log(\"Bokeh: BokehJS loaded, going straight to plotting\");\n",
       "    run_inline_js();\n",
       "  } else {\n",
       "    load_libs(js_urls, function() {\n",
       "      console.log(\"Bokeh: BokehJS plotting callback run at\", now());\n",
       "      run_inline_js();\n",
       "    });\n",
       "  }\n",
       "}(window));"
      ],
      "application/vnd.bokehjs_load.v0+json": "\n(function(root) {\n  function now() {\n    return new Date();\n  }\n\n  var force = true;\n\n  if (typeof (root._bokeh_onload_callbacks) === \"undefined\" || force === true) {\n    root._bokeh_onload_callbacks = [];\n    root._bokeh_is_loading = undefined;\n  }\n\n  \n\n  \n  if (typeof (root._bokeh_timeout) === \"undefined\" || force === true) {\n    root._bokeh_timeout = Date.now() + 5000;\n    root._bokeh_failed_load = false;\n  }\n\n  var NB_LOAD_WARNING = {'data': {'text/html':\n     \"<div style='background-color: #fdd'>\\n\"+\n     \"<p>\\n\"+\n     \"BokehJS does not appear to have successfully loaded. If loading BokehJS from CDN, this \\n\"+\n     \"may be due to a slow or bad network connection. Possible fixes:\\n\"+\n     \"</p>\\n\"+\n     \"<ul>\\n\"+\n     \"<li>re-rerun `output_notebook()` to attempt to load from CDN again, or</li>\\n\"+\n     \"<li>use INLINE resources instead, as so:</li>\\n\"+\n     \"</ul>\\n\"+\n     \"<code>\\n\"+\n     \"from bokeh.resources import INLINE\\n\"+\n     \"output_notebook(resources=INLINE)\\n\"+\n     \"</code>\\n\"+\n     \"</div>\"}};\n\n  function display_loaded() {\n    var el = document.getElementById(\"a8cedcf5-e6cb-4806-8b04-5768b6decf1b\");\n    if (el != null) {\n      el.textContent = \"BokehJS is loading...\";\n    }\n    if (root.Bokeh !== undefined) {\n      if (el != null) {\n        el.textContent = \"BokehJS \" + root.Bokeh.version + \" successfully loaded.\";\n      }\n    } else if (Date.now() < root._bokeh_timeout) {\n      setTimeout(display_loaded, 100)\n    }\n  }\n\n\n  function run_callbacks() {\n    try {\n      root._bokeh_onload_callbacks.forEach(function(callback) { callback() });\n    }\n    finally {\n      delete root._bokeh_onload_callbacks\n    }\n    console.info(\"Bokeh: all callbacks have finished\");\n  }\n\n  function load_libs(js_urls, callback) {\n    root._bokeh_onload_callbacks.push(callback);\n    if (root._bokeh_is_loading > 0) {\n      console.log(\"Bokeh: BokehJS is being loaded, scheduling callback at\", now());\n      return null;\n    }\n    if (js_urls == null || js_urls.length === 0) {\n      run_callbacks();\n      return null;\n    }\n    console.log(\"Bokeh: BokehJS not loaded, scheduling load and callback at\", now());\n    root._bokeh_is_loading = js_urls.length;\n    for (var i = 0; i < js_urls.length; i++) {\n      var url = js_urls[i];\n      var s = document.createElement('script');\n      s.src = url;\n      s.async = false;\n      s.onreadystatechange = s.onload = function() {\n        root._bokeh_is_loading--;\n        if (root._bokeh_is_loading === 0) {\n          console.log(\"Bokeh: all BokehJS libraries loaded\");\n          run_callbacks()\n        }\n      };\n      s.onerror = function() {\n        console.warn(\"failed to load library \" + url);\n      };\n      console.log(\"Bokeh: injecting script tag for BokehJS library: \", url);\n      document.getElementsByTagName(\"head\")[0].appendChild(s);\n    }\n  };var element = document.getElementById(\"a8cedcf5-e6cb-4806-8b04-5768b6decf1b\");\n  if (element == null) {\n    console.log(\"Bokeh: ERROR: autoload.js configured with elementid 'a8cedcf5-e6cb-4806-8b04-5768b6decf1b' but no matching script tag was found. \")\n    return false;\n  }\n\n  var js_urls = [\"https://cdn.pydata.org/bokeh/release/bokeh-0.12.9.min.js\", \"https://cdn.pydata.org/bokeh/release/bokeh-widgets-0.12.9.min.js\", \"https://cdn.pydata.org/bokeh/release/bokeh-tables-0.12.9.min.js\", \"https://cdn.pydata.org/bokeh/release/bokeh-gl-0.12.9.min.js\"];\n\n  var inline_js = [\n    function(Bokeh) {\n      Bokeh.set_log_level(\"info\");\n    },\n    \n    function(Bokeh) {\n      \n    },\n    function(Bokeh) {\n      console.log(\"Bokeh: injecting CSS: https://cdn.pydata.org/bokeh/release/bokeh-0.12.9.min.css\");\n      Bokeh.embed.inject_css(\"https://cdn.pydata.org/bokeh/release/bokeh-0.12.9.min.css\");\n      console.log(\"Bokeh: injecting CSS: https://cdn.pydata.org/bokeh/release/bokeh-widgets-0.12.9.min.css\");\n      Bokeh.embed.inject_css(\"https://cdn.pydata.org/bokeh/release/bokeh-widgets-0.12.9.min.css\");\n      console.log(\"Bokeh: injecting CSS: https://cdn.pydata.org/bokeh/release/bokeh-tables-0.12.9.min.css\");\n      Bokeh.embed.inject_css(\"https://cdn.pydata.org/bokeh/release/bokeh-tables-0.12.9.min.css\");\n    }\n  ];\n\n  function run_inline_js() {\n    \n    if ((root.Bokeh !== undefined) || (force === true)) {\n      for (var i = 0; i < inline_js.length; i++) {\n        inline_js[i].call(root, root.Bokeh);\n      }if (force === true) {\n        display_loaded();\n      }} else if (Date.now() < root._bokeh_timeout) {\n      setTimeout(run_inline_js, 100);\n    } else if (!root._bokeh_failed_load) {\n      console.log(\"Bokeh: BokehJS failed to load within specified timeout.\");\n      root._bokeh_failed_load = true;\n    } else if (force !== true) {\n      var cell = $(document.getElementById(\"a8cedcf5-e6cb-4806-8b04-5768b6decf1b\")).parents('.cell').data().cell;\n      cell.output_area.append_execute_result(NB_LOAD_WARNING)\n    }\n\n  }\n\n  if (root._bokeh_is_loading === 0) {\n    console.log(\"Bokeh: BokehJS loaded, going straight to plotting\");\n    run_inline_js();\n  } else {\n    load_libs(js_urls, function() {\n      console.log(\"Bokeh: BokehJS plotting callback run at\", now());\n      run_inline_js();\n    });\n  }\n}(window));"
     },
     "metadata": {},
     "output_type": "display_data"
    }
   ],
   "source": [
    "import pandas as pa\n",
    "from bokeh.plotting import figure, output_file, show\n",
    "from bokeh.io import output_notebook\n",
    "output_notebook()"
   ]
  },
  {
   "cell_type": "code",
   "execution_count": 2,
   "metadata": {},
   "outputs": [],
   "source": [
    "path_w = 'newWorkStealingPoolData.txt'\n",
    "path_c = 'newCachedThreadPoolData.txt'\n",
    "path_atomic_w = ''\n",
    "path_atomic_c = 'atomicLongCached.txt'"
   ]
  },
  {
   "cell_type": "code",
   "execution_count": 3,
   "metadata": {},
   "outputs": [],
   "source": [
    "converters = {\n",
    "    1: lambda x: int(x),\n",
    "    2: lambda x: float(x),\n",
    "    4: lambda x: float(x),\n",
    "    5: lambda x: int(x),\n",
    "}"
   ]
  },
  {
   "cell_type": "code",
   "execution_count": 4,
   "metadata": {},
   "outputs": [],
   "source": [
    "names = [\"parTask\", \"taskCount\",\n",
    "         \"time\", \"us\", \"-\", \"taskCount\"]"
   ]
  },
  {
   "cell_type": "code",
   "execution_count": 8,
   "metadata": {},
   "outputs": [],
   "source": [
    "data = pa.read_csv(path_w, delim_whitespace=True, \n",
    "                   header=None, names=names,\n",
    "                   converters=converters, skiprows=12)\n",
    "\n",
    "data_c = pa.read_csv(path_c, delim_whitespace=True, \n",
    "                   header=None, names=names,\n",
    "                   converters=converters, skiprows=12)\n",
    "\n",
    "data_atomic_c = pa.read_csv(path_atomic_c, delim_whitespace=True, \n",
    "                   header=None, names=names,\n",
    "                   converters=converters, skiprows=12)"
   ]
  },
  {
   "cell_type": "code",
   "execution_count": 9,
   "metadata": {},
   "outputs": [],
   "source": [
    "data = data.drop('us', 1)\n",
    "data_c = data_c.drop('us', 1)\n",
    "data_atomic_c = data_atomic_c.drop('us', 1)"
   ]
  },
  {
   "cell_type": "code",
   "execution_count": 10,
   "metadata": {},
   "outputs": [],
   "source": [
    "runnable = data[:100]\n",
    "callable_ = data[100:]\n",
    "\n",
    "runnable_c = data_c[:100]\n",
    "callable_c = data_c[100:]\n",
    "\n",
    "# LongAdder cached executor\n",
    "runnable_atomic_c = data_atomic_c[:100]\n",
    "callable_atomic_c = data_atomic_c[100:]"
   ]
  },
  {
   "cell_type": "code",
   "execution_count": 11,
   "metadata": {},
   "outputs": [],
   "source": [
    "X_run = runnable[\"taskCount\"]\n",
    "Y_run = runnable[\"time\"]\n",
    "\n",
    "X_call = callable_[\"taskCount\"]\n",
    "Y_call = callable_[\"time\"]\n",
    "\n",
    "X_run_c = runnable_c[\"taskCount\"]\n",
    "Y_run_c = runnable[\"time\"]\n",
    "\n",
    "X_call_c = callable_c[\"taskCount\"]\n",
    "Y_call_c = callable_c[\"time\"]\n",
    "\n",
    "# LongAdder cached executor\n",
    "X_run_atomic_c = runnable_atomic_c[\"taskCount\"]\n",
    "Y_run_atomic_c = runnable_atomic_c[\"time\"]\n",
    "\n",
    "X_call_atomic_c = callable_atomic_c[\"taskCount\"]\n",
    "Y_call_atomic_c = callable_atomic_c[\"time\"]"
   ]
  },
  {
   "cell_type": "code",
   "execution_count": 12,
   "metadata": {},
   "outputs": [],
   "source": [
    "# new plot\n",
    "p1 = figure(\n",
    "    title=\"Executors.newWorkStealingPooll();\",\n",
    "    x_axis_label='# tasks', y_axis_label='time us'\n",
    ")\n",
    "\n",
    "# new plot\n",
    "p2 = figure(\n",
    "    title=\"Executors.newCachedThreadPool();\",\n",
    "    x_axis_label='# tasks', y_axis_label='time us'\n",
    ")\n",
    "\n",
    "# new plot\n",
    "p3 = figure(\n",
    "    title=\"LongAdder(): Executors.newCachedThreadPool();\",\n",
    "    x_axis_label='# tasks', y_axis_label='time us'\n",
    ")"
   ]
  },
  {
   "cell_type": "code",
   "execution_count": 13,
   "metadata": {},
   "outputs": [
    {
     "data": {
      "text/html": [
       "<div style=\"display: table;\"><div style=\"display: table-row;\"><div style=\"display: table-cell;\"><b title=\"bokeh.models.renderers.GlyphRenderer\">GlyphRenderer</b>(</div><div style=\"display: table-cell;\">id&nbsp;=&nbsp;'4d563f1b-38e9-476e-b511-7b72149d6738', <span id=\"1e6b51f3-2f99-46ca-8c01-392e2e1b0a56\" style=\"cursor: pointer;\">&hellip;)</span></div></div><div class=\"90e2c298-4627-49b9-88e5-849f62f790be\" style=\"display: none;\"><div style=\"display: table-cell;\"></div><div style=\"display: table-cell;\">data_source&nbsp;=&nbsp;ColumnDataSource(id='a4a673c5-c4c3-41da-a9b8-c0f55fef760c', ...),</div></div><div class=\"90e2c298-4627-49b9-88e5-849f62f790be\" style=\"display: none;\"><div style=\"display: table-cell;\"></div><div style=\"display: table-cell;\">glyph&nbsp;=&nbsp;Line(id='0ad5df5a-6e7b-478b-9788-40dc0ad13145', ...),</div></div><div class=\"90e2c298-4627-49b9-88e5-849f62f790be\" style=\"display: none;\"><div style=\"display: table-cell;\"></div><div style=\"display: table-cell;\">hover_glyph&nbsp;=&nbsp;None,</div></div><div class=\"90e2c298-4627-49b9-88e5-849f62f790be\" style=\"display: none;\"><div style=\"display: table-cell;\"></div><div style=\"display: table-cell;\">js_event_callbacks&nbsp;=&nbsp;{},</div></div><div class=\"90e2c298-4627-49b9-88e5-849f62f790be\" style=\"display: none;\"><div style=\"display: table-cell;\"></div><div style=\"display: table-cell;\">js_property_callbacks&nbsp;=&nbsp;{},</div></div><div class=\"90e2c298-4627-49b9-88e5-849f62f790be\" style=\"display: none;\"><div style=\"display: table-cell;\"></div><div style=\"display: table-cell;\">level&nbsp;=&nbsp;'glyph',</div></div><div class=\"90e2c298-4627-49b9-88e5-849f62f790be\" style=\"display: none;\"><div style=\"display: table-cell;\"></div><div style=\"display: table-cell;\">muted&nbsp;=&nbsp;False,</div></div><div class=\"90e2c298-4627-49b9-88e5-849f62f790be\" style=\"display: none;\"><div style=\"display: table-cell;\"></div><div style=\"display: table-cell;\">muted_glyph&nbsp;=&nbsp;None,</div></div><div class=\"90e2c298-4627-49b9-88e5-849f62f790be\" style=\"display: none;\"><div style=\"display: table-cell;\"></div><div style=\"display: table-cell;\">name&nbsp;=&nbsp;None,</div></div><div class=\"90e2c298-4627-49b9-88e5-849f62f790be\" style=\"display: none;\"><div style=\"display: table-cell;\"></div><div style=\"display: table-cell;\">nonselection_glyph&nbsp;=&nbsp;Line(id='ef62a933-a11f-44d1-b274-aa58d1bb1e54', ...),</div></div><div class=\"90e2c298-4627-49b9-88e5-849f62f790be\" style=\"display: none;\"><div style=\"display: table-cell;\"></div><div style=\"display: table-cell;\">selection_glyph&nbsp;=&nbsp;None,</div></div><div class=\"90e2c298-4627-49b9-88e5-849f62f790be\" style=\"display: none;\"><div style=\"display: table-cell;\"></div><div style=\"display: table-cell;\">subscribed_events&nbsp;=&nbsp;[],</div></div><div class=\"90e2c298-4627-49b9-88e5-849f62f790be\" style=\"display: none;\"><div style=\"display: table-cell;\"></div><div style=\"display: table-cell;\">tags&nbsp;=&nbsp;[],</div></div><div class=\"90e2c298-4627-49b9-88e5-849f62f790be\" style=\"display: none;\"><div style=\"display: table-cell;\"></div><div style=\"display: table-cell;\">view&nbsp;=&nbsp;CDSView(id='6cb8923d-31e4-49a3-8a00-e0c30adce5ee', ...),</div></div><div class=\"90e2c298-4627-49b9-88e5-849f62f790be\" style=\"display: none;\"><div style=\"display: table-cell;\"></div><div style=\"display: table-cell;\">visible&nbsp;=&nbsp;True,</div></div><div class=\"90e2c298-4627-49b9-88e5-849f62f790be\" style=\"display: none;\"><div style=\"display: table-cell;\"></div><div style=\"display: table-cell;\">x_range_name&nbsp;=&nbsp;'default',</div></div><div class=\"90e2c298-4627-49b9-88e5-849f62f790be\" style=\"display: none;\"><div style=\"display: table-cell;\"></div><div style=\"display: table-cell;\">y_range_name&nbsp;=&nbsp;'default')</div></div></div>\n",
       "<script>\n",
       "(function() {\n",
       "  var expanded = false;\n",
       "  var ellipsis = document.getElementById(\"1e6b51f3-2f99-46ca-8c01-392e2e1b0a56\");\n",
       "  ellipsis.addEventListener(\"click\", function() {\n",
       "    var rows = document.getElementsByClassName(\"90e2c298-4627-49b9-88e5-849f62f790be\");\n",
       "    for (var i = 0; i < rows.length; i++) {\n",
       "      var el = rows[i];\n",
       "      el.style.display = expanded ? \"none\" : \"table-row\";\n",
       "    }\n",
       "    ellipsis.innerHTML = expanded ? \"&hellip;)\" : \"&lsaquo;&lsaquo;&lsaquo;\";\n",
       "    expanded = !expanded;\n",
       "  });\n",
       "})();\n",
       "</script>\n"
      ],
      "text/plain": [
       "GlyphRenderer(id='4d563f1b-38e9-476e-b511-7b72149d6738', ...)"
      ]
     },
     "execution_count": 13,
     "metadata": {},
     "output_type": "execute_result"
    }
   ],
   "source": [
    "# renders\n",
    "p1.line(X_run, Y_run, legend=\"Runnable\", line_color=\"red\", line_width=3)\n",
    "p1.line(X_call, Y_call, legend=\"Callable\", line_width=3)\n",
    "\n",
    "p2.line(X_run_c, Y_run_c, legend=\"Runnable\", line_color=\"red\", line_width=3)\n",
    "p2.line(X_call_c, Y_call_c, legend=\"Callable\", line_width=3)\n",
    "\n",
    "p3.line(X_run_atomic_c, Y_run_atomic_c, legend=\"Runnable\", line_color=\"red\", line_width=3)\n",
    "p3.line(X_call_atomic_c, Y_call_atomic_c, legend=\"Callable\", line_width=3)"
   ]
  },
  {
   "cell_type": "code",
   "execution_count": 14,
   "metadata": {},
   "outputs": [],
   "source": [
    "# output to static HTML file\n",
    "output_file(\"Executors.newWorkStealingPool.html\")"
   ]
  },
  {
   "cell_type": "code",
   "execution_count": 15,
   "metadata": {},
   "outputs": [
    {
     "data": {
      "text/html": [
       "\n",
       "<div class=\"bk-root\">\n",
       "    <div class=\"bk-plotdiv\" id=\"c755393a-e906-4351-bb68-e5cbd0ed6781\"></div>\n",
       "</div>"
      ]
     },
     "metadata": {},
     "output_type": "display_data"
    },
    {
     "data": {
      "application/javascript": [
       "(function(root) {\n",
       "  function embed_document(root) {\n",
       "    var docs_json = {\"93bdb735-0517-4e66-9383-bc47c9115653\":{\"roots\":{\"references\":[{\"attributes\":{\"data_source\":{\"id\":\"a9e41999-7ae5-4b9e-94ff-ccb1ec950041\",\"type\":\"ColumnDataSource\"},\"glyph\":{\"id\":\"d6512518-8af4-4cfe-893e-5a35bca1b946\",\"type\":\"Line\"},\"hover_glyph\":null,\"muted_glyph\":null,\"nonselection_glyph\":{\"id\":\"2b163a97-8f02-48e1-93bc-83a46842a081\",\"type\":\"Line\"},\"selection_glyph\":null,\"view\":{\"id\":\"461ade96-3151-4b92-a308-4d5b12be064d\",\"type\":\"CDSView\"}},\"id\":\"e8a09d01-96fc-4b9c-9466-2d84e3a10f19\",\"type\":\"GlyphRenderer\"},{\"attributes\":{},\"id\":\"1d986a41-58b2-4a7c-a247-eec06c7a3d6f\",\"type\":\"BasicTickFormatter\"},{\"attributes\":{\"below\":[{\"id\":\"7b1aba3a-a711-4119-b132-cb9ea63a531f\",\"type\":\"LinearAxis\"}],\"left\":[{\"id\":\"3ee09547-965e-4cdd-9472-2d8d02419019\",\"type\":\"LinearAxis\"}],\"renderers\":[{\"id\":\"7b1aba3a-a711-4119-b132-cb9ea63a531f\",\"type\":\"LinearAxis\"},{\"id\":\"38793bc2-d614-4e95-9165-e2f404240a6e\",\"type\":\"Grid\"},{\"id\":\"3ee09547-965e-4cdd-9472-2d8d02419019\",\"type\":\"LinearAxis\"},{\"id\":\"f059df9c-b04f-41aa-9e35-8ab96aacb8ed\",\"type\":\"Grid\"},{\"id\":\"606df4b9-7321-4372-a99a-c5972cfc0abd\",\"type\":\"BoxAnnotation\"},{\"id\":\"d4f0faf0-0434-47b8-8043-f40af77e79c7\",\"type\":\"Legend\"},{\"id\":\"e8a09d01-96fc-4b9c-9466-2d84e3a10f19\",\"type\":\"GlyphRenderer\"},{\"id\":\"0a695879-2711-4d89-9376-66d57b38726e\",\"type\":\"GlyphRenderer\"}],\"title\":{\"id\":\"b5ad9d0c-88fa-41fd-9869-26c594c6ceee\",\"type\":\"Title\"},\"toolbar\":{\"id\":\"3914371c-5608-4008-a604-4ef2c03bde01\",\"type\":\"Toolbar\"},\"x_range\":{\"id\":\"e91bb2bb-c7a5-482c-ae84-0e78c3803d18\",\"type\":\"DataRange1d\"},\"x_scale\":{\"id\":\"8c50897f-9bd8-4460-a4ce-d80d50e29075\",\"type\":\"LinearScale\"},\"y_range\":{\"id\":\"a8a3f0bd-db89-4e9f-9c69-eb9ac811ca78\",\"type\":\"DataRange1d\"},\"y_scale\":{\"id\":\"b3825565-276b-4b78-85c9-b592883a8fd5\",\"type\":\"LinearScale\"}},\"id\":\"0fe63f2b-64c7-45ea-959b-2ff5a0572b49\",\"subtype\":\"Figure\",\"type\":\"Plot\"},{\"attributes\":{\"active_drag\":\"auto\",\"active_inspect\":\"auto\",\"active_scroll\":\"auto\",\"active_tap\":\"auto\",\"tools\":[{\"id\":\"362329f8-ef4d-4613-a8aa-fab849f864fc\",\"type\":\"PanTool\"},{\"id\":\"4ac02501-d6c8-4296-9d3c-5dacfe238516\",\"type\":\"WheelZoomTool\"},{\"id\":\"30356df0-a3b2-454a-8c94-58a743500cbb\",\"type\":\"BoxZoomTool\"},{\"id\":\"65aa95d7-bd0b-48a8-bdb2-80255152f221\",\"type\":\"SaveTool\"},{\"id\":\"36db3a32-b148-4174-9bef-048aeceea74b\",\"type\":\"ResetTool\"},{\"id\":\"dc33eb74-a135-4a88-bc3d-1c2d5c34374a\",\"type\":\"HelpTool\"}]},\"id\":\"3914371c-5608-4008-a604-4ef2c03bde01\",\"type\":\"Toolbar\"},{\"attributes\":{\"source\":{\"id\":\"a9e41999-7ae5-4b9e-94ff-ccb1ec950041\",\"type\":\"ColumnDataSource\"}},\"id\":\"461ade96-3151-4b92-a308-4d5b12be064d\",\"type\":\"CDSView\"},{\"attributes\":{\"callback\":null,\"column_names\":[\"x\",\"y\"],\"data\":{\"x\":[1,2,3,4,5,6,7,8,9,10,11,12,13,14,15,16,17,18,19,20,21,22,23,24,25,26,27,28,29,30,31,32,33,34,35,36,37,38,39,40,41,42,43,44,45,46,47,48,49,50,51,52,53,54,55,56,57,58,59,60,61,62,63,64,65,66,67,68,69,70,71,72,73,74,75,76,77,78,79,80,81,82,83,84,85,86,87,88,89,90,91,92,93,94,95,96,97,98,99,100],\"y\":{\"__ndarray__\":\"AAAAAEAzxkAzMzMzs0i7QDMzMzOzP7NAZmZmZmYmrkBmZmZmZqerQGZmZmZmLKpAmpmZmZnkp0AzMzMzMw6nQAAAAAAAr6hAmpmZmZmhqUAAAAAAAAWoQM3MzMzMIqdAZmZmZmbgpkBmZmZmZuWnQAAAAAAAhqZAZmZmZmY0p0CamZmZmZWmQGZmZmZmZadAzczMzMwAp0CamZmZmZmmQGZmZmZmtqZAMzMzMzNVpkDNzMzMzGSmQDMzMzMzdKVAzczMzMx6p0DNzMzMzCWmQDMzMzMzAKdAMzMzMzNnpkBmZmZmZhymQDMzMzMz9aVAmpmZmZkRpkBmZmZmZlOmQDMzMzMz9aVAZmZmZmbipUAzMzMzM9+lQDMzMzMzR6VAZmZmZmaApUAzMzMzM7SlQAAAAAAAhKVAMzMzMzP+pEAAAAAAAJWlQAAAAAAAV6VAzczMzMx2pUAzMzMzMxalQM3MzMzMx6VAmpmZmZkQpUAzMzMzM6qlQM3MzMzMKqVAMzMzMzOSpUCamZmZmaOkQGZmZmZmTaVAzczMzMyUpUDNzMzMzDqlQDMzMzMztaVAmpmZmZnwpUAAAAAAABumQJqZmZmZK6dAzczMzMx8pUAAAAAAAL6lQGZmZmZmw6VAZmZmZmaLpUAAAAAAALClQAAAAAAAxKRAAAAAAAAypUAAAAAAADamQDMzMzMzIKZAmpmZmZnopEAzMzMzM76lQDMzMzMzF6ZAmpmZmZkRpkAzMzMzMy2nQDMzMzMzZ6VAMzMzMzMBpkAAAAAAAHqlQAAAAAAAiaVAZmZmZmaHpUAAAAAAANOlQJqZmZmZ/KRAZmZmZmbXpUAAAAAAAGClQM3MzMzMraVAMzMzMzPYpUCamZmZmTKlQJqZmZmZQqVAmpmZmZnNpUDNzMzMzKKlQJqZmZmZ9qVAZmZmZmaDpUAzMzMzMwmmQAAAAAAAEKZAMzMzMzMJpUDNzMzMzO6kQAAAAAAAE6VAAAAAAACppUAzMzMzM7ClQGZmZmZm46RAmpmZmZkkpUDNzMzMzC+lQGZmZmZmSqVAZmZmZmY2pUA=\",\"dtype\":\"float64\",\"shape\":[100]}}},\"id\":\"86a2e8d4-6a2c-4fe5-bab6-c92fd683ae0c\",\"type\":\"ColumnDataSource\"},{\"attributes\":{\"callback\":null},\"id\":\"e91bb2bb-c7a5-482c-ae84-0e78c3803d18\",\"type\":\"DataRange1d\"},{\"attributes\":{\"callback\":null,\"column_names\":[\"x\",\"y\"],\"data\":{\"x\":[1,2,3,4,5,6,7,8,9,10,11,12,13,14,15,16,17,18,19,20,21,22,23,24,25,26,27,28,29,30,31,32,33,34,35,36,37,38,39,40,41,42,43,44,45,46,47,48,49,50,51,52,53,54,55,56,57,58,59,60,61,62,63,64,65,66,67,68,69,70,71,72,73,74,75,76,77,78,79,80,81,82,83,84,85,86,87,88,89,90,91,92,93,94,95,96,97,98,99,100],\"y\":{\"__ndarray__\":\"AAAAAEDzxUBmZmZmZq+7QGZmZmbm5rNAMzMzMzMRr0BmZmZmZvWsQDMzMzMziqpAZmZmZmYHqUCamZmZmQKoQDMzMzMzAKpAZmZmZmaMqUBmZmZmZp2pQM3MzMzMb6hAmpmZmZl/qEAzMzMzM+enQAAAAAAAWqdAmpmZmZn/p0AzMzMzM/OnQDMzMzMzNqhAZmZmZmbsp0CamZmZmbCmQAAAAAAA/adAzczMzMwwp0DNzMzMzBynQM3MzMzMEadAAAAAAABfp0DNzMzMzFanQAAAAAAA4qdAAAAAAACfp0BmZmZmZsGmQM3MzMzMJqdAZmZmZmbhpkDNzMzMzAunQDMzMzMzbKdAzczMzMw2p0CamZmZmSWnQJqZmZmZhKdAAAAAAAC3p0AzMzMzMxenQGZmZmZmZqdAMzMzMzMRp0CamZmZmRqnQGZmZmZmTqdAzczMzMyYp0AzMzMzMy2nQM3MzMzM/6ZAmpmZmZkjp0CamZmZmeimQGZmZmZm96ZAmpmZmZnVp0AAAAAAACanQJqZmZmZLadAAAAAAACep0AzMzMzM+2mQAAAAAAAb6dAAAAAAAB3p0AAAAAAAE2nQM3MzMzMWadAAAAAAACNp0AAAAAAAE+nQM3MzMzMiKdAAAAAAABMp0BmZmZmZhSnQM3MzMzMpqdAzczMzMwJp0DNzMzMzGOnQAAAAAAAH6dAmpmZmZmxp0AzMzMzM5+nQM3MzMzMLadAAAAAAABlp0AAAAAAAFenQM3MzMzMNadAZmZmZmbvpkCamZmZmfGmQM3MzMzMUKdAzczMzMxkp0DNzMzMzEKnQGZmZmZmhqdAmpmZmZkAp0AzMzMzM2enQDMzMzMza6dAzczMzMyMp0AzMzMzM3unQDMzMzMzRadAAAAAAABap0AzMzMzM1enQJqZmZmZMadAzczMzMxzp0CamZmZmUynQM3MzMzMe6dAmpmZmZmLp0AzMzMzM4SnQJqZmZmZs6hAzczMzMwhqkBmZmZmZrCnQAAAAAAA+6ZAmpmZmZn2p0CamZmZmZenQM3MzMzMOKhAAAAAAAD8p0A=\",\"dtype\":\"float64\",\"shape\":[100]}}},\"id\":\"a9e41999-7ae5-4b9e-94ff-ccb1ec950041\",\"type\":\"ColumnDataSource\"},{\"attributes\":{\"plot\":null,\"text\":\"Executors.newWorkStealingPooll();\"},\"id\":\"b5ad9d0c-88fa-41fd-9869-26c594c6ceee\",\"type\":\"Title\"},{\"attributes\":{\"axis_label\":\"# tasks\",\"formatter\":{\"id\":\"fa32e8f6-a945-4bf6-9ec0-04150283173b\",\"type\":\"BasicTickFormatter\"},\"plot\":{\"id\":\"0fe63f2b-64c7-45ea-959b-2ff5a0572b49\",\"subtype\":\"Figure\",\"type\":\"Plot\"},\"ticker\":{\"id\":\"8a73e908-9df4-4831-83a9-915afdc87382\",\"type\":\"BasicTicker\"}},\"id\":\"7b1aba3a-a711-4119-b132-cb9ea63a531f\",\"type\":\"LinearAxis\"},{\"attributes\":{},\"id\":\"8c50897f-9bd8-4460-a4ce-d80d50e29075\",\"type\":\"LinearScale\"},{\"attributes\":{},\"id\":\"0ff3a5d4-5f10-4146-b093-707a300bb097\",\"type\":\"BasicTicker\"},{\"attributes\":{\"callback\":null},\"id\":\"a8a3f0bd-db89-4e9f-9c69-eb9ac811ca78\",\"type\":\"DataRange1d\"},{\"attributes\":{\"label\":{\"value\":\"Callable\"},\"renderers\":[{\"id\":\"0a695879-2711-4d89-9376-66d57b38726e\",\"type\":\"GlyphRenderer\"}]},\"id\":\"84900f06-a3c0-424d-883c-ded96d4dda9f\",\"type\":\"LegendItem\"},{\"attributes\":{},\"id\":\"b3825565-276b-4b78-85c9-b592883a8fd5\",\"type\":\"LinearScale\"},{\"attributes\":{\"label\":{\"value\":\"Runnable\"},\"renderers\":[{\"id\":\"e8a09d01-96fc-4b9c-9466-2d84e3a10f19\",\"type\":\"GlyphRenderer\"}]},\"id\":\"7e4c4852-654c-4aca-b6d6-9c58b3fce72a\",\"type\":\"LegendItem\"},{\"attributes\":{},\"id\":\"fa32e8f6-a945-4bf6-9ec0-04150283173b\",\"type\":\"BasicTickFormatter\"},{\"attributes\":{\"dimension\":1,\"plot\":{\"id\":\"0fe63f2b-64c7-45ea-959b-2ff5a0572b49\",\"subtype\":\"Figure\",\"type\":\"Plot\"},\"ticker\":{\"id\":\"0ff3a5d4-5f10-4146-b093-707a300bb097\",\"type\":\"BasicTicker\"}},\"id\":\"f059df9c-b04f-41aa-9e35-8ab96aacb8ed\",\"type\":\"Grid\"},{\"attributes\":{\"bottom_units\":\"screen\",\"fill_alpha\":{\"value\":0.5},\"fill_color\":{\"value\":\"lightgrey\"},\"left_units\":\"screen\",\"level\":\"overlay\",\"line_alpha\":{\"value\":1.0},\"line_color\":{\"value\":\"black\"},\"line_dash\":[4,4],\"line_width\":{\"value\":2},\"plot\":null,\"render_mode\":\"css\",\"right_units\":\"screen\",\"top_units\":\"screen\"},\"id\":\"606df4b9-7321-4372-a99a-c5972cfc0abd\",\"type\":\"BoxAnnotation\"},{\"attributes\":{\"line_alpha\":{\"value\":0.1},\"line_color\":{\"value\":\"#1f77b4\"},\"line_width\":{\"value\":3},\"x\":{\"field\":\"x\"},\"y\":{\"field\":\"y\"}},\"id\":\"ba5539a4-292d-4cbc-9de3-4ebebb36fc18\",\"type\":\"Line\"},{\"attributes\":{\"line_alpha\":{\"value\":0.1},\"line_color\":{\"value\":\"#1f77b4\"},\"line_width\":{\"value\":3},\"x\":{\"field\":\"x\"},\"y\":{\"field\":\"y\"}},\"id\":\"2b163a97-8f02-48e1-93bc-83a46842a081\",\"type\":\"Line\"},{\"attributes\":{},\"id\":\"362329f8-ef4d-4613-a8aa-fab849f864fc\",\"type\":\"PanTool\"},{\"attributes\":{\"axis_label\":\"time us\",\"formatter\":{\"id\":\"1d986a41-58b2-4a7c-a247-eec06c7a3d6f\",\"type\":\"BasicTickFormatter\"},\"plot\":{\"id\":\"0fe63f2b-64c7-45ea-959b-2ff5a0572b49\",\"subtype\":\"Figure\",\"type\":\"Plot\"},\"ticker\":{\"id\":\"0ff3a5d4-5f10-4146-b093-707a300bb097\",\"type\":\"BasicTicker\"}},\"id\":\"3ee09547-965e-4cdd-9472-2d8d02419019\",\"type\":\"LinearAxis\"},{\"attributes\":{},\"id\":\"36db3a32-b148-4174-9bef-048aeceea74b\",\"type\":\"ResetTool\"},{\"attributes\":{\"line_color\":{\"value\":\"red\"},\"line_width\":{\"value\":3},\"x\":{\"field\":\"x\"},\"y\":{\"field\":\"y\"}},\"id\":\"d6512518-8af4-4cfe-893e-5a35bca1b946\",\"type\":\"Line\"},{\"attributes\":{\"items\":[{\"id\":\"7e4c4852-654c-4aca-b6d6-9c58b3fce72a\",\"type\":\"LegendItem\"},{\"id\":\"84900f06-a3c0-424d-883c-ded96d4dda9f\",\"type\":\"LegendItem\"}],\"plot\":{\"id\":\"0fe63f2b-64c7-45ea-959b-2ff5a0572b49\",\"subtype\":\"Figure\",\"type\":\"Plot\"}},\"id\":\"d4f0faf0-0434-47b8-8043-f40af77e79c7\",\"type\":\"Legend\"},{\"attributes\":{},\"id\":\"8a73e908-9df4-4831-83a9-915afdc87382\",\"type\":\"BasicTicker\"},{\"attributes\":{\"data_source\":{\"id\":\"86a2e8d4-6a2c-4fe5-bab6-c92fd683ae0c\",\"type\":\"ColumnDataSource\"},\"glyph\":{\"id\":\"dbd9c8e3-ad93-43a7-8eef-ed585227f5eb\",\"type\":\"Line\"},\"hover_glyph\":null,\"muted_glyph\":null,\"nonselection_glyph\":{\"id\":\"ba5539a4-292d-4cbc-9de3-4ebebb36fc18\",\"type\":\"Line\"},\"selection_glyph\":null,\"view\":{\"id\":\"628a9888-7268-44ca-a376-64305b0583bd\",\"type\":\"CDSView\"}},\"id\":\"0a695879-2711-4d89-9376-66d57b38726e\",\"type\":\"GlyphRenderer\"},{\"attributes\":{},\"id\":\"65aa95d7-bd0b-48a8-bdb2-80255152f221\",\"type\":\"SaveTool\"},{\"attributes\":{\"source\":{\"id\":\"86a2e8d4-6a2c-4fe5-bab6-c92fd683ae0c\",\"type\":\"ColumnDataSource\"}},\"id\":\"628a9888-7268-44ca-a376-64305b0583bd\",\"type\":\"CDSView\"},{\"attributes\":{},\"id\":\"4ac02501-d6c8-4296-9d3c-5dacfe238516\",\"type\":\"WheelZoomTool\"},{\"attributes\":{\"plot\":{\"id\":\"0fe63f2b-64c7-45ea-959b-2ff5a0572b49\",\"subtype\":\"Figure\",\"type\":\"Plot\"},\"ticker\":{\"id\":\"8a73e908-9df4-4831-83a9-915afdc87382\",\"type\":\"BasicTicker\"}},\"id\":\"38793bc2-d614-4e95-9165-e2f404240a6e\",\"type\":\"Grid\"},{\"attributes\":{\"line_color\":{\"value\":\"#1f77b4\"},\"line_width\":{\"value\":3},\"x\":{\"field\":\"x\"},\"y\":{\"field\":\"y\"}},\"id\":\"dbd9c8e3-ad93-43a7-8eef-ed585227f5eb\",\"type\":\"Line\"},{\"attributes\":{\"overlay\":{\"id\":\"606df4b9-7321-4372-a99a-c5972cfc0abd\",\"type\":\"BoxAnnotation\"}},\"id\":\"30356df0-a3b2-454a-8c94-58a743500cbb\",\"type\":\"BoxZoomTool\"},{\"attributes\":{},\"id\":\"dc33eb74-a135-4a88-bc3d-1c2d5c34374a\",\"type\":\"HelpTool\"}],\"root_ids\":[\"0fe63f2b-64c7-45ea-959b-2ff5a0572b49\"]},\"title\":\"Bokeh Application\",\"version\":\"0.12.9\"}};\n",
       "    var render_items = [{\"docid\":\"93bdb735-0517-4e66-9383-bc47c9115653\",\"elementid\":\"c755393a-e906-4351-bb68-e5cbd0ed6781\",\"modelid\":\"0fe63f2b-64c7-45ea-959b-2ff5a0572b49\"}];\n",
       "\n",
       "    root.Bokeh.embed.embed_items(docs_json, render_items);\n",
       "  }\n",
       "\n",
       "  if (root.Bokeh !== undefined) {\n",
       "    embed_document(root);\n",
       "  } else {\n",
       "    var attempts = 0;\n",
       "    var timer = setInterval(function(root) {\n",
       "      if (root.Bokeh !== undefined) {\n",
       "        embed_document(root);\n",
       "        clearInterval(timer);\n",
       "      }\n",
       "      attempts++;\n",
       "      if (attempts > 100) {\n",
       "        console.log(\"Bokeh: ERROR: Unable to embed document because BokehJS library is missing\")\n",
       "        clearInterval(timer);\n",
       "      }\n",
       "    }, 10, root)\n",
       "  }\n",
       "})(window);"
      ],
      "application/vnd.bokehjs_exec.v0+json": ""
     },
     "metadata": {
      "application/vnd.bokehjs_exec.v0+json": {
       "id": "0fe63f2b-64c7-45ea-959b-2ff5a0572b49"
      }
     },
     "output_type": "display_data"
    }
   ],
   "source": [
    "show(p1)"
   ]
  },
  {
   "cell_type": "code",
   "execution_count": 16,
   "metadata": {},
   "outputs": [],
   "source": [
    "# output to static HTML file\n",
    "output_file(\"Executors.newCachedThreadPool.html\")"
   ]
  },
  {
   "cell_type": "code",
   "execution_count": 17,
   "metadata": {},
   "outputs": [
    {
     "data": {
      "text/html": [
       "\n",
       "<div class=\"bk-root\">\n",
       "    <div class=\"bk-plotdiv\" id=\"3068d3ba-a7d4-44c7-8c36-475fef9d8f7a\"></div>\n",
       "</div>"
      ]
     },
     "metadata": {},
     "output_type": "display_data"
    },
    {
     "data": {
      "application/javascript": [
       "(function(root) {\n",
       "  function embed_document(root) {\n",
       "    var docs_json = {\"7ce6f59e-bb6b-4fd9-9455-b1f84a1192f3\":{\"roots\":{\"references\":[{\"attributes\":{\"plot\":{\"id\":\"0faa3d8f-6754-4bea-823a-9ecb503276ba\",\"subtype\":\"Figure\",\"type\":\"Plot\"},\"ticker\":{\"id\":\"798c985b-b3a4-498e-8ac0-510f823c3149\",\"type\":\"BasicTicker\"}},\"id\":\"b8c837e1-0316-4c4d-9dfd-884f3c20f071\",\"type\":\"Grid\"},{\"attributes\":{},\"id\":\"5be297c0-0459-49c0-88bd-6a0bb2363f9e\",\"type\":\"LinearScale\"},{\"attributes\":{\"callback\":null},\"id\":\"7379b637-2f71-4594-a104-6b203e6664a2\",\"type\":\"DataRange1d\"},{\"attributes\":{},\"id\":\"798c985b-b3a4-498e-8ac0-510f823c3149\",\"type\":\"BasicTicker\"},{\"attributes\":{\"line_color\":{\"value\":\"#1f77b4\"},\"line_width\":{\"value\":3},\"x\":{\"field\":\"x\"},\"y\":{\"field\":\"y\"}},\"id\":\"11fb1da0-160a-4f79-bfd4-5f97037a6c01\",\"type\":\"Line\"},{\"attributes\":{\"line_alpha\":{\"value\":0.1},\"line_color\":{\"value\":\"#1f77b4\"},\"line_width\":{\"value\":3},\"x\":{\"field\":\"x\"},\"y\":{\"field\":\"y\"}},\"id\":\"ae8ef98b-01b0-4366-8904-d61cca6b612d\",\"type\":\"Line\"},{\"attributes\":{\"axis_label\":\"# tasks\",\"formatter\":{\"id\":\"4e5e353f-74ca-4e2c-8c17-4b3fb2783485\",\"type\":\"BasicTickFormatter\"},\"plot\":{\"id\":\"0faa3d8f-6754-4bea-823a-9ecb503276ba\",\"subtype\":\"Figure\",\"type\":\"Plot\"},\"ticker\":{\"id\":\"798c985b-b3a4-498e-8ac0-510f823c3149\",\"type\":\"BasicTicker\"}},\"id\":\"86b0cc86-07ba-4737-91a3-8a1f6d0e3bbd\",\"type\":\"LinearAxis\"},{\"attributes\":{\"data_source\":{\"id\":\"dd02b9fb-2e51-4c57-9367-ef4913408416\",\"type\":\"ColumnDataSource\"},\"glyph\":{\"id\":\"11fb1da0-160a-4f79-bfd4-5f97037a6c01\",\"type\":\"Line\"},\"hover_glyph\":null,\"muted_glyph\":null,\"nonselection_glyph\":{\"id\":\"ae8ef98b-01b0-4366-8904-d61cca6b612d\",\"type\":\"Line\"},\"selection_glyph\":null,\"view\":{\"id\":\"dc0a3ef7-753f-4310-ab21-c7a88e8db73a\",\"type\":\"CDSView\"}},\"id\":\"dc0e1597-c9e8-4c74-8961-f05eebe544e3\",\"type\":\"GlyphRenderer\"},{\"attributes\":{\"source\":{\"id\":\"dd02b9fb-2e51-4c57-9367-ef4913408416\",\"type\":\"ColumnDataSource\"}},\"id\":\"dc0a3ef7-753f-4310-ab21-c7a88e8db73a\",\"type\":\"CDSView\"},{\"attributes\":{},\"id\":\"249dc07b-449a-43f7-9d54-ad9f84968b74\",\"type\":\"BasicTicker\"},{\"attributes\":{\"axis_label\":\"time us\",\"formatter\":{\"id\":\"fb9e77f7-d1cc-4dcd-9354-0017af437aaa\",\"type\":\"BasicTickFormatter\"},\"plot\":{\"id\":\"0faa3d8f-6754-4bea-823a-9ecb503276ba\",\"subtype\":\"Figure\",\"type\":\"Plot\"},\"ticker\":{\"id\":\"249dc07b-449a-43f7-9d54-ad9f84968b74\",\"type\":\"BasicTicker\"}},\"id\":\"9052a76e-87c9-4195-ba8d-3b8ba51dd1a3\",\"type\":\"LinearAxis\"},{\"attributes\":{\"label\":{\"value\":\"Callable\"},\"renderers\":[{\"id\":\"dc0e1597-c9e8-4c74-8961-f05eebe544e3\",\"type\":\"GlyphRenderer\"}]},\"id\":\"eda8be2c-ae42-4cb6-a427-0b5de9e1571d\",\"type\":\"LegendItem\"},{\"attributes\":{\"callback\":null,\"column_names\":[\"x\",\"y\"],\"data\":{\"x\":[1,2,3,4,5,6,7,8,9,10,11,12,13,14,15,16,17,18,19,20,21,22,23,24,25,26,27,28,29,30,31,32,33,34,35,36,37,38,39,40,41,42,43,44,45,46,47,48,49,50,51,52,53,54,55,56,57,58,59,60,61,62,63,64,65,66,67,68,69,70,71,72,73,74,75,76,77,78,79,80,81,82,83,84,85,86,87,88,89,90,91,92,93,94,95,96,97,98,99,100],\"y\":{\"__ndarray__\":\"AAAAAECsxUDNzMzMTDi7QM3MzMzMN7NAZmZmZmbbrUAzMzMzM6OpQGZmZmZm2ahAmpmZmZnSp0AAAAAAAGOmQJqZmZmZFalAAAAAAACeqEAzMzMzM7moQAAAAAAAZadAmpmZmZnhpkAzMzMzM1GmQAAAAAAA26VAzczMzMy/pUAAAAAAAOSlQGZmZmZm5KVAmpmZmZnnpUAAAAAAAI2lQDMzMzMzeKZAzczMzMx3pUBmZmZmZgClQM3MzMzMFKVAzczMzMyHpUDNzMzMzMakQJqZmZmZ5qRAZmZmZmarpEAzMzMzMwSlQAAAAAAAlKRAZmZmZmaGpECamZmZmZOkQM3MzMzM7KRAzczMzMwEpUBmZmZmZo+kQJqZmZmZ76RAAAAAAADupEBmZmZmZtGkQM3MzMzMX6RAzczMzMwVpUBmZmZmZv+kQM3MzMzMFqVAZmZmZmbspECamZmZmcSkQM3MzMzM9qRAZmZmZmb4pECamZmZmb+kQDMzMzMz5KRAzczMzMzKpEAAAAAAAJSkQJqZmZmZvqRAMzMzMzMopUAzMzMzM++kQGZmZmZm86RAZmZmZmazpEDNzMzMzOqkQM3MzMzMw6RAMzMzMzO3pEAAAAAAAK2kQGZmZmZmuqRAMzMzMzOepEDNzMzMzNakQGZmZmZmtaRAAAAAAADVpEAAAAAAAJekQM3MzMzM3KRAZmZmZmawpEDNzMzMzKekQDMzMzMzmaRAzczMzMywpEDNzMzMzNSkQM3MzMzMs6RAmpmZmZm2pEAzMzMzM7CkQJqZmZmZu6RAmpmZmZmjpECamZmZmcKkQJqZmZmZ2qRAmpmZmZm5pEAzMzMzM62kQGZmZmZmq6RAmpmZmZnTpEDNzMzMzMGkQM3MzMzMtaRAMzMzMzPXpEBmZmZmZgWlQM3MzMzMy6RAAAAAAAADpUCamZmZmeSkQJqZmZmZBaVAAAAAAAARpUDNzMzMzAelQAAAAAAA0qRAZmZmZmYxpUDNzMzMzBOlQM3MzMzMtKRAmpmZmZkupUBmZmZmZt6kQAAAAAAAyaRAMzMzMzOlpEA=\",\"dtype\":\"float64\",\"shape\":[100]}}},\"id\":\"dd02b9fb-2e51-4c57-9367-ef4913408416\",\"type\":\"ColumnDataSource\"},{\"attributes\":{\"bottom_units\":\"screen\",\"fill_alpha\":{\"value\":0.5},\"fill_color\":{\"value\":\"lightgrey\"},\"left_units\":\"screen\",\"level\":\"overlay\",\"line_alpha\":{\"value\":1.0},\"line_color\":{\"value\":\"black\"},\"line_dash\":[4,4],\"line_width\":{\"value\":2},\"plot\":null,\"render_mode\":\"css\",\"right_units\":\"screen\",\"top_units\":\"screen\"},\"id\":\"2701ae39-ad97-4d2b-8e4f-2abc2d72c526\",\"type\":\"BoxAnnotation\"},{\"attributes\":{\"below\":[{\"id\":\"86b0cc86-07ba-4737-91a3-8a1f6d0e3bbd\",\"type\":\"LinearAxis\"}],\"left\":[{\"id\":\"9052a76e-87c9-4195-ba8d-3b8ba51dd1a3\",\"type\":\"LinearAxis\"}],\"renderers\":[{\"id\":\"86b0cc86-07ba-4737-91a3-8a1f6d0e3bbd\",\"type\":\"LinearAxis\"},{\"id\":\"b8c837e1-0316-4c4d-9dfd-884f3c20f071\",\"type\":\"Grid\"},{\"id\":\"9052a76e-87c9-4195-ba8d-3b8ba51dd1a3\",\"type\":\"LinearAxis\"},{\"id\":\"83ea8035-140e-4844-aad2-43b6fed3479a\",\"type\":\"Grid\"},{\"id\":\"2701ae39-ad97-4d2b-8e4f-2abc2d72c526\",\"type\":\"BoxAnnotation\"},{\"id\":\"3e7c5591-eb83-4ad3-adad-3628c39556a5\",\"type\":\"Legend\"},{\"id\":\"9a971a64-7c9c-46c2-9683-8e57537e2358\",\"type\":\"GlyphRenderer\"},{\"id\":\"dc0e1597-c9e8-4c74-8961-f05eebe544e3\",\"type\":\"GlyphRenderer\"}],\"title\":{\"id\":\"9f1f0186-9f75-493c-bfc3-928983e6e5e5\",\"type\":\"Title\"},\"toolbar\":{\"id\":\"a4edb94b-2c09-4f46-84c7-7d0e545658b7\",\"type\":\"Toolbar\"},\"x_range\":{\"id\":\"6c1be7ea-c6aa-4972-aa5e-d23252b4ad8a\",\"type\":\"DataRange1d\"},\"x_scale\":{\"id\":\"5be297c0-0459-49c0-88bd-6a0bb2363f9e\",\"type\":\"LinearScale\"},\"y_range\":{\"id\":\"7379b637-2f71-4594-a104-6b203e6664a2\",\"type\":\"DataRange1d\"},\"y_scale\":{\"id\":\"3cce18e3-5aa4-455e-9572-aa43a442dff4\",\"type\":\"LinearScale\"}},\"id\":\"0faa3d8f-6754-4bea-823a-9ecb503276ba\",\"subtype\":\"Figure\",\"type\":\"Plot\"},{\"attributes\":{\"active_drag\":\"auto\",\"active_inspect\":\"auto\",\"active_scroll\":\"auto\",\"active_tap\":\"auto\",\"tools\":[{\"id\":\"7edd37b6-4772-4eea-9312-81b696d8bbc8\",\"type\":\"PanTool\"},{\"id\":\"78939df3-96ca-432a-8e2c-f0b3879bd0df\",\"type\":\"WheelZoomTool\"},{\"id\":\"9dcdb599-e5c2-41b5-86ad-41c304bdcfa0\",\"type\":\"BoxZoomTool\"},{\"id\":\"aa1215e9-ce8e-4626-bc83-a1e4d772560c\",\"type\":\"SaveTool\"},{\"id\":\"a5f6ab28-81d0-4803-8f97-4da995cdf56d\",\"type\":\"ResetTool\"},{\"id\":\"e29b992e-0e32-45cf-8f78-d194c26b1d00\",\"type\":\"HelpTool\"}]},\"id\":\"a4edb94b-2c09-4f46-84c7-7d0e545658b7\",\"type\":\"Toolbar\"},{\"attributes\":{\"plot\":null,\"text\":\"Executors.newCachedThreadPool();\"},\"id\":\"9f1f0186-9f75-493c-bfc3-928983e6e5e5\",\"type\":\"Title\"},{\"attributes\":{},\"id\":\"7edd37b6-4772-4eea-9312-81b696d8bbc8\",\"type\":\"PanTool\"},{\"attributes\":{},\"id\":\"78939df3-96ca-432a-8e2c-f0b3879bd0df\",\"type\":\"WheelZoomTool\"},{\"attributes\":{\"line_alpha\":{\"value\":0.1},\"line_color\":{\"value\":\"#1f77b4\"},\"line_width\":{\"value\":3},\"x\":{\"field\":\"x\"},\"y\":{\"field\":\"y\"}},\"id\":\"cab204be-2aed-4980-96b7-303786f8c355\",\"type\":\"Line\"},{\"attributes\":{\"callback\":null},\"id\":\"6c1be7ea-c6aa-4972-aa5e-d23252b4ad8a\",\"type\":\"DataRange1d\"},{\"attributes\":{\"overlay\":{\"id\":\"2701ae39-ad97-4d2b-8e4f-2abc2d72c526\",\"type\":\"BoxAnnotation\"}},\"id\":\"9dcdb599-e5c2-41b5-86ad-41c304bdcfa0\",\"type\":\"BoxZoomTool\"},{\"attributes\":{},\"id\":\"aa1215e9-ce8e-4626-bc83-a1e4d772560c\",\"type\":\"SaveTool\"},{\"attributes\":{},\"id\":\"a5f6ab28-81d0-4803-8f97-4da995cdf56d\",\"type\":\"ResetTool\"},{\"attributes\":{\"label\":{\"value\":\"Runnable\"},\"renderers\":[{\"id\":\"9a971a64-7c9c-46c2-9683-8e57537e2358\",\"type\":\"GlyphRenderer\"}]},\"id\":\"12f5671a-f5e0-4782-b1a5-384f5ba358ce\",\"type\":\"LegendItem\"},{\"attributes\":{},\"id\":\"e29b992e-0e32-45cf-8f78-d194c26b1d00\",\"type\":\"HelpTool\"},{\"attributes\":{\"source\":{\"id\":\"6f4df9e3-9a69-4f45-a94e-f7e2259a5252\",\"type\":\"ColumnDataSource\"}},\"id\":\"9ca9a5a9-6138-4a48-8de7-72b2a3d11b81\",\"type\":\"CDSView\"},{\"attributes\":{},\"id\":\"4e5e353f-74ca-4e2c-8c17-4b3fb2783485\",\"type\":\"BasicTickFormatter\"},{\"attributes\":{\"callback\":null,\"column_names\":[\"x\",\"y\"],\"data\":{\"x\":[1,2,3,4,5,6,7,8,9,10,11,12,13,14,15,16,17,18,19,20,21,22,23,24,25,26,27,28,29,30,31,32,33,34,35,36,37,38,39,40,41,42,43,44,45,46,47,48,49,50,51,52,53,54,55,56,57,58,59,60,61,62,63,64,65,66,67,68,69,70,71,72,73,74,75,76,77,78,79,80,81,82,83,84,85,86,87,88,89,90,91,92,93,94,95,96,97,98,99,100],\"y\":{\"__ndarray__\":\"AAAAAEDzxUBmZmZmZq+7QGZmZmbm5rNAMzMzMzMRr0BmZmZmZvWsQDMzMzMziqpAZmZmZmYHqUCamZmZmQKoQDMzMzMzAKpAZmZmZmaMqUBmZmZmZp2pQM3MzMzMb6hAmpmZmZl/qEAzMzMzM+enQAAAAAAAWqdAmpmZmZn/p0AzMzMzM/OnQDMzMzMzNqhAZmZmZmbsp0CamZmZmbCmQAAAAAAA/adAzczMzMwwp0DNzMzMzBynQM3MzMzMEadAAAAAAABfp0DNzMzMzFanQAAAAAAA4qdAAAAAAACfp0BmZmZmZsGmQM3MzMzMJqdAZmZmZmbhpkDNzMzMzAunQDMzMzMzbKdAzczMzMw2p0CamZmZmSWnQJqZmZmZhKdAAAAAAAC3p0AzMzMzMxenQGZmZmZmZqdAMzMzMzMRp0CamZmZmRqnQGZmZmZmTqdAzczMzMyYp0AzMzMzMy2nQM3MzMzM/6ZAmpmZmZkjp0CamZmZmeimQGZmZmZm96ZAmpmZmZnVp0AAAAAAACanQJqZmZmZLadAAAAAAACep0AzMzMzM+2mQAAAAAAAb6dAAAAAAAB3p0AAAAAAAE2nQM3MzMzMWadAAAAAAACNp0AAAAAAAE+nQM3MzMzMiKdAAAAAAABMp0BmZmZmZhSnQM3MzMzMpqdAzczMzMwJp0DNzMzMzGOnQAAAAAAAH6dAmpmZmZmxp0AzMzMzM5+nQM3MzMzMLadAAAAAAABlp0AAAAAAAFenQM3MzMzMNadAZmZmZmbvpkCamZmZmfGmQM3MzMzMUKdAzczMzMxkp0DNzMzMzEKnQGZmZmZmhqdAmpmZmZkAp0AzMzMzM2enQDMzMzMza6dAzczMzMyMp0AzMzMzM3unQDMzMzMzRadAAAAAAABap0AzMzMzM1enQJqZmZmZMadAzczMzMxzp0CamZmZmUynQM3MzMzMe6dAmpmZmZmLp0AzMzMzM4SnQJqZmZmZs6hAzczMzMwhqkBmZmZmZrCnQAAAAAAA+6ZAmpmZmZn2p0CamZmZmZenQM3MzMzMOKhAAAAAAAD8p0A=\",\"dtype\":\"float64\",\"shape\":[100]}}},\"id\":\"6f4df9e3-9a69-4f45-a94e-f7e2259a5252\",\"type\":\"ColumnDataSource\"},{\"attributes\":{\"line_color\":{\"value\":\"red\"},\"line_width\":{\"value\":3},\"x\":{\"field\":\"x\"},\"y\":{\"field\":\"y\"}},\"id\":\"16d37b07-51f4-4ea7-802f-7424c5dd7aa0\",\"type\":\"Line\"},{\"attributes\":{\"items\":[{\"id\":\"12f5671a-f5e0-4782-b1a5-384f5ba358ce\",\"type\":\"LegendItem\"},{\"id\":\"eda8be2c-ae42-4cb6-a427-0b5de9e1571d\",\"type\":\"LegendItem\"}],\"plot\":{\"id\":\"0faa3d8f-6754-4bea-823a-9ecb503276ba\",\"subtype\":\"Figure\",\"type\":\"Plot\"}},\"id\":\"3e7c5591-eb83-4ad3-adad-3628c39556a5\",\"type\":\"Legend\"},{\"attributes\":{},\"id\":\"fb9e77f7-d1cc-4dcd-9354-0017af437aaa\",\"type\":\"BasicTickFormatter\"},{\"attributes\":{\"dimension\":1,\"plot\":{\"id\":\"0faa3d8f-6754-4bea-823a-9ecb503276ba\",\"subtype\":\"Figure\",\"type\":\"Plot\"},\"ticker\":{\"id\":\"249dc07b-449a-43f7-9d54-ad9f84968b74\",\"type\":\"BasicTicker\"}},\"id\":\"83ea8035-140e-4844-aad2-43b6fed3479a\",\"type\":\"Grid\"},{\"attributes\":{\"data_source\":{\"id\":\"6f4df9e3-9a69-4f45-a94e-f7e2259a5252\",\"type\":\"ColumnDataSource\"},\"glyph\":{\"id\":\"16d37b07-51f4-4ea7-802f-7424c5dd7aa0\",\"type\":\"Line\"},\"hover_glyph\":null,\"muted_glyph\":null,\"nonselection_glyph\":{\"id\":\"cab204be-2aed-4980-96b7-303786f8c355\",\"type\":\"Line\"},\"selection_glyph\":null,\"view\":{\"id\":\"9ca9a5a9-6138-4a48-8de7-72b2a3d11b81\",\"type\":\"CDSView\"}},\"id\":\"9a971a64-7c9c-46c2-9683-8e57537e2358\",\"type\":\"GlyphRenderer\"},{\"attributes\":{},\"id\":\"3cce18e3-5aa4-455e-9572-aa43a442dff4\",\"type\":\"LinearScale\"}],\"root_ids\":[\"0faa3d8f-6754-4bea-823a-9ecb503276ba\"]},\"title\":\"Bokeh Application\",\"version\":\"0.12.9\"}};\n",
       "    var render_items = [{\"docid\":\"7ce6f59e-bb6b-4fd9-9455-b1f84a1192f3\",\"elementid\":\"3068d3ba-a7d4-44c7-8c36-475fef9d8f7a\",\"modelid\":\"0faa3d8f-6754-4bea-823a-9ecb503276ba\"}];\n",
       "\n",
       "    root.Bokeh.embed.embed_items(docs_json, render_items);\n",
       "  }\n",
       "\n",
       "  if (root.Bokeh !== undefined) {\n",
       "    embed_document(root);\n",
       "  } else {\n",
       "    var attempts = 0;\n",
       "    var timer = setInterval(function(root) {\n",
       "      if (root.Bokeh !== undefined) {\n",
       "        embed_document(root);\n",
       "        clearInterval(timer);\n",
       "      }\n",
       "      attempts++;\n",
       "      if (attempts > 100) {\n",
       "        console.log(\"Bokeh: ERROR: Unable to embed document because BokehJS library is missing\")\n",
       "        clearInterval(timer);\n",
       "      }\n",
       "    }, 10, root)\n",
       "  }\n",
       "})(window);"
      ],
      "application/vnd.bokehjs_exec.v0+json": ""
     },
     "metadata": {
      "application/vnd.bokehjs_exec.v0+json": {
       "id": "0faa3d8f-6754-4bea-823a-9ecb503276ba"
      }
     },
     "output_type": "display_data"
    }
   ],
   "source": [
    "show(p2)"
   ]
  },
  {
   "cell_type": "code",
   "execution_count": 18,
   "metadata": {},
   "outputs": [],
   "source": [
    "# output to static HTML file\n",
    "output_file(\"LongAdderExecutors.newCachedThreadPool.html\")"
   ]
  },
  {
   "cell_type": "code",
   "execution_count": 19,
   "metadata": {},
   "outputs": [
    {
     "data": {
      "text/html": [
       "\n",
       "<div class=\"bk-root\">\n",
       "    <div class=\"bk-plotdiv\" id=\"cdefb3c6-fc03-4801-be36-43cdbbc4225d\"></div>\n",
       "</div>"
      ]
     },
     "metadata": {},
     "output_type": "display_data"
    },
    {
     "data": {
      "application/javascript": [
       "(function(root) {\n",
       "  function embed_document(root) {\n",
       "    var docs_json = {\"415dcb37-a412-4a2d-8cb6-8240b81cdc97\":{\"roots\":{\"references\":[{\"attributes\":{},\"id\":\"55fa5aa9-01f1-41d5-823a-9ddcd9674b88\",\"type\":\"ResetTool\"},{\"attributes\":{\"dimension\":1,\"plot\":{\"id\":\"4c63161c-dbb9-4c1f-8826-8834dda2aa1e\",\"subtype\":\"Figure\",\"type\":\"Plot\"},\"ticker\":{\"id\":\"acbe7974-3a48-4e4c-961d-4788515094e6\",\"type\":\"BasicTicker\"}},\"id\":\"91f41322-ad56-4da3-8559-a665e7e977e8\",\"type\":\"Grid\"},{\"attributes\":{\"callback\":null,\"column_names\":[\"x\",\"y\"],\"data\":{\"x\":[1,2,3,4,5,6,7,8,9,10,11,12,13,14,15,16,17,18,19,20,21,22,23,24,25,26,27,28,29,30,31,32,33,34,35,36,37,38,39,40,41,42,43,44,45,46,47,48,49,50,51,52,53,54,55,56,57,58,59,60,61,62,63,64,65,66,67,68,69,70,71,72,73,74,75,76,77,78,79,80,81,82,83,84,85,86,87,88,89,90,91,92,93,94,95,96,97,98,99,100],\"y\":{\"__ndarray__\":\"AAAAAIDhxUBmZmZm5le7QM3MzMzMWLNAmpmZmZkprkDNzMzMzOupQJqZmZmZDKlAZmZmZmatp0BmZmZmZhSoQGZmZmZmlKhAzczMzMw9qUDNzMzMzHCoQGZmZmZmzqdAMzMzMzP4pkCamZmZmZWmQM3MzMzMVqZAZmZmZmbgpUCamZmZmTemQAAAAAAAJaZAZmZmZmYSpkDNzMzMzOylQJqZmZmZbaVAAAAAAABIpUDNzMzMzDOlQGZmZmZmQKVAMzMzMzMopUBmZmZmZq+lQDMzMzMzK6VAmpmZmZkKpUCamZmZmYylQJqZmZmZ16VAmpmZmZn8pEBmZmZmZv2kQJqZmZmZfKVAAAAAAABUpUBmZmZmZoClQDMzMzMzsKVAzczMzMyjpUDNzMzMzKelQGZmZmZmcKVAAAAAAACHpUBmZmZmZmalQGZmZmZml6VAZmZmZmZtpUAAAAAAAFGlQDMzMzMzdqVAMzMzMzM3pUAAAAAAAGmlQM3MzMzMMKVAMzMzMzN7pUAzMzMzM3ilQGZmZmZmcqVAZmZmZmY7pUCamZmZmV+lQAAAAAAAT6VAAAAAAAB/pUAzMzMzM1KlQDMzMzMzYqVAAAAAAAB1pUDNzMzMzGalQAAAAAAAjKVAAAAAAAAwpUDNzMzMzE6lQM3MzMzMiKVAmpmZmZmTpUDNzMzMzG6lQDMzMzMzQqVAZmZmZmZ8pUAzMzMzM2ylQJqZmZmZOaVAAAAAAABLpUBmZmZmZlmlQM3MzMzMsaVAmpmZmZmjpUAzMzMzM2qlQJqZmZmZXaVAMzMzMzN4pUAAAAAAAF6lQGZmZmZmd6VAMzMzMzNnpUAzMzMzM6ClQGZmZmZmV6VAAAAAAABbpUBmZmZmZnelQM3MzMzMdaVAMzMzMzOQpUDNzMzMzHqlQAAAAAAAbqVAZmZmZmZ1pUCamZmZmYClQAAAAAAAqKVAzczMzMyIpUAzMzMzM2elQM3MzMzMwqVAMzMzMzNkpUBmZmZmZr2lQAAAAAAAfqVAzczMzMyxpUAzMzMzM4ilQDMzMzMzZqVAAAAAAACWpUA=\",\"dtype\":\"float64\",\"shape\":[100]}}},\"id\":\"a4a673c5-c4c3-41da-a9b8-c0f55fef760c\",\"type\":\"ColumnDataSource\"},{\"attributes\":{\"callback\":null,\"column_names\":[\"x\",\"y\"],\"data\":{\"x\":[1,2,3,4,5,6,7,8,9,10,11,12,13,14,15,16,17,18,19,20,21,22,23,24,25,26,27,28,29,30,31,32,33,34,35,36,37,38,39,40,41,42,43,44,45,46,47,48,49,50,51,52,53,54,55,56,57,58,59,60,61,62,63,64,65,66,67,68,69,70,71,72,73,74,75,76,77,78,79,80,81,82,83,84,85,86,87,88,89,90,91,92,93,94,95,96,97,98,99,100],\"y\":{\"__ndarray__\":\"mpmZmVkbxkBmZmZmZmG6QM3MzMxMT7FAZmZmZmbzrUBmZmZmZl6pQM3MzMzMkqZAzczMzMz7pUAAAAAAAMalQJqZmZmZZKZAzczMzMzKpkAzMzMzM0imQGZmZmZmsaVAzczMzMxepUAAAAAAAO6kQJqZmZmZPaVAzczMzMygpEBmZmZmZl2kQM3MzMzMLqRAAAAAAAATpEAAAAAAAPyjQAAAAAAAEqRAMzMzMzMApECamZmZmXKjQDMzMzMz36NAMzMzMzNoo0CamZmZmdmjQDMzMzMzf6NAZmZmZmbYo0AzMzMzM8ijQJqZmZmZV6NAAAAAAABHo0AzMzMzM4OjQGZmZmZmdqNAZmZmZmZ2o0CamZmZmWCjQJqZmZmZlKNAMzMzMzNzo0DNzMzMzDekQM3MzMzMnKNAzczMzMy2o0DNzMzMzOGjQDMzMzMzxKNAMzMzMzOlo0DNzMzMzN+jQM3MzMzMmKNAZmZmZmalo0BmZmZmZr6jQJqZmZmZ9KNAAAAAAAAFpEDNzMzMzPmjQJqZmZmZ8KNAmpmZmZn+o0DNzMzMzOujQGZmZmZmCqRAMzMzMzO7o0DNzMzMzKqjQJqZmZmZyKNAZmZmZma8o0DNzMzMzCmkQAAAAAAACKRAMzMzMzMGpEDNzMzMzCikQM3MzMzM8qNAMzMzMzNApEAAAAAAAAykQM3MzMzMKaRAMzMzMzMMpECamZmZmc+jQJqZmZmZRqRAZmZmZmbvo0BmZmZmZuKjQM3MzMzMHqRAmpmZmZnio0DNzMzMzF6kQM3MzMzMFqRAAAAAAAA1pEAAAAAAAMKkQDMzMzMzFKVAMzMzMzMDpEAAAAAAAIWkQDMzMzMzSqRAmpmZmZlJpECamZmZmQOkQDMzMzMzMKRAMzMzMzPTpUAAAAAAAEqkQAAAAAAAe6RAmpmZmZk4pECamZmZmTykQJqZmZmZEKRAAAAAAABZpECamZmZmUukQAAAAAAASKRAAAAAAABtpEDNzMzMzICkQM3MzMzMb6RAAAAAAABhpEAzMzMzMzykQDMzMzMzZ6RAAAAAAAB8pEA=\",\"dtype\":\"float64\",\"shape\":[100]}}},\"id\":\"9e86df0c-e740-4ab7-a211-3d35e5005f97\",\"type\":\"ColumnDataSource\"},{\"attributes\":{},\"id\":\"9435744c-8929-4fce-afaa-bbccec9cde41\",\"type\":\"HelpTool\"},{\"attributes\":{\"active_drag\":\"auto\",\"active_inspect\":\"auto\",\"active_scroll\":\"auto\",\"active_tap\":\"auto\",\"tools\":[{\"id\":\"752cdbae-1aba-48a9-af92-8947dd23ff05\",\"type\":\"PanTool\"},{\"id\":\"16d0eb3a-f98a-4cdb-9722-4dae74690486\",\"type\":\"WheelZoomTool\"},{\"id\":\"b1dc9434-73a9-4162-be82-5e6f6ef0d1c6\",\"type\":\"BoxZoomTool\"},{\"id\":\"5a7a7161-2717-451b-84f0-5052b898f255\",\"type\":\"SaveTool\"},{\"id\":\"55fa5aa9-01f1-41d5-823a-9ddcd9674b88\",\"type\":\"ResetTool\"},{\"id\":\"9435744c-8929-4fce-afaa-bbccec9cde41\",\"type\":\"HelpTool\"}]},\"id\":\"a41e335c-3942-48dc-b7e2-f49f1cf54571\",\"type\":\"Toolbar\"},{\"attributes\":{\"callback\":null},\"id\":\"0d4e38c5-ae05-4d78-be71-69eb35ae283d\",\"type\":\"DataRange1d\"},{\"attributes\":{},\"id\":\"5a7a7161-2717-451b-84f0-5052b898f255\",\"type\":\"SaveTool\"},{\"attributes\":{\"line_color\":{\"value\":\"red\"},\"line_width\":{\"value\":3},\"x\":{\"field\":\"x\"},\"y\":{\"field\":\"y\"}},\"id\":\"ec767565-cb81-4606-91af-e66e7f7390eb\",\"type\":\"Line\"},{\"attributes\":{\"bottom_units\":\"screen\",\"fill_alpha\":{\"value\":0.5},\"fill_color\":{\"value\":\"lightgrey\"},\"left_units\":\"screen\",\"level\":\"overlay\",\"line_alpha\":{\"value\":1.0},\"line_color\":{\"value\":\"black\"},\"line_dash\":[4,4],\"line_width\":{\"value\":2},\"plot\":null,\"render_mode\":\"css\",\"right_units\":\"screen\",\"top_units\":\"screen\"},\"id\":\"3f4dfccc-d825-4f24-818c-1714fcd17fc2\",\"type\":\"BoxAnnotation\"},{\"attributes\":{},\"id\":\"c423db33-67ca-4e7f-a131-33e9723dcecc\",\"type\":\"BasicTickFormatter\"},{\"attributes\":{},\"id\":\"752cdbae-1aba-48a9-af92-8947dd23ff05\",\"type\":\"PanTool\"},{\"attributes\":{\"line_alpha\":{\"value\":0.1},\"line_color\":{\"value\":\"#1f77b4\"},\"line_width\":{\"value\":3},\"x\":{\"field\":\"x\"},\"y\":{\"field\":\"y\"}},\"id\":\"592ab34f-621b-45dc-bc3e-1d4a93e46ebd\",\"type\":\"Line\"},{\"attributes\":{\"data_source\":{\"id\":\"9e86df0c-e740-4ab7-a211-3d35e5005f97\",\"type\":\"ColumnDataSource\"},\"glyph\":{\"id\":\"ec767565-cb81-4606-91af-e66e7f7390eb\",\"type\":\"Line\"},\"hover_glyph\":null,\"muted_glyph\":null,\"nonselection_glyph\":{\"id\":\"592ab34f-621b-45dc-bc3e-1d4a93e46ebd\",\"type\":\"Line\"},\"selection_glyph\":null,\"view\":{\"id\":\"cd00437f-d14f-4939-9972-16fbfe305298\",\"type\":\"CDSView\"}},\"id\":\"0956a355-4e22-4253-bead-f55a0da36187\",\"type\":\"GlyphRenderer\"},{\"attributes\":{},\"id\":\"16d0eb3a-f98a-4cdb-9722-4dae74690486\",\"type\":\"WheelZoomTool\"},{\"attributes\":{\"label\":{\"value\":\"Runnable\"},\"renderers\":[{\"id\":\"0956a355-4e22-4253-bead-f55a0da36187\",\"type\":\"GlyphRenderer\"}]},\"id\":\"186f86f6-fcd9-489e-a049-6131c93ec9af\",\"type\":\"LegendItem\"},{\"attributes\":{},\"id\":\"004e3619-2cb0-4627-890a-c89e8e9a80bc\",\"type\":\"BasicTickFormatter\"},{\"attributes\":{\"source\":{\"id\":\"9e86df0c-e740-4ab7-a211-3d35e5005f97\",\"type\":\"ColumnDataSource\"}},\"id\":\"cd00437f-d14f-4939-9972-16fbfe305298\",\"type\":\"CDSView\"},{\"attributes\":{\"line_alpha\":{\"value\":0.1},\"line_color\":{\"value\":\"#1f77b4\"},\"line_width\":{\"value\":3},\"x\":{\"field\":\"x\"},\"y\":{\"field\":\"y\"}},\"id\":\"ef62a933-a11f-44d1-b274-aa58d1bb1e54\",\"type\":\"Line\"},{\"attributes\":{\"items\":[{\"id\":\"186f86f6-fcd9-489e-a049-6131c93ec9af\",\"type\":\"LegendItem\"},{\"id\":\"94771847-95ca-4c75-ba1f-0c2dd647de87\",\"type\":\"LegendItem\"}],\"plot\":{\"id\":\"4c63161c-dbb9-4c1f-8826-8834dda2aa1e\",\"subtype\":\"Figure\",\"type\":\"Plot\"}},\"id\":\"9e47a797-7658-405a-b7b5-3ab06a2b70e9\",\"type\":\"Legend\"},{\"attributes\":{\"data_source\":{\"id\":\"a4a673c5-c4c3-41da-a9b8-c0f55fef760c\",\"type\":\"ColumnDataSource\"},\"glyph\":{\"id\":\"0ad5df5a-6e7b-478b-9788-40dc0ad13145\",\"type\":\"Line\"},\"hover_glyph\":null,\"muted_glyph\":null,\"nonselection_glyph\":{\"id\":\"ef62a933-a11f-44d1-b274-aa58d1bb1e54\",\"type\":\"Line\"},\"selection_glyph\":null,\"view\":{\"id\":\"6cb8923d-31e4-49a3-8a00-e0c30adce5ee\",\"type\":\"CDSView\"}},\"id\":\"4d563f1b-38e9-476e-b511-7b72149d6738\",\"type\":\"GlyphRenderer\"},{\"attributes\":{\"label\":{\"value\":\"Callable\"},\"renderers\":[{\"id\":\"4d563f1b-38e9-476e-b511-7b72149d6738\",\"type\":\"GlyphRenderer\"}]},\"id\":\"94771847-95ca-4c75-ba1f-0c2dd647de87\",\"type\":\"LegendItem\"},{\"attributes\":{\"source\":{\"id\":\"a4a673c5-c4c3-41da-a9b8-c0f55fef760c\",\"type\":\"ColumnDataSource\"}},\"id\":\"6cb8923d-31e4-49a3-8a00-e0c30adce5ee\",\"type\":\"CDSView\"},{\"attributes\":{},\"id\":\"acbe7974-3a48-4e4c-961d-4788515094e6\",\"type\":\"BasicTicker\"},{\"attributes\":{\"line_color\":{\"value\":\"#1f77b4\"},\"line_width\":{\"value\":3},\"x\":{\"field\":\"x\"},\"y\":{\"field\":\"y\"}},\"id\":\"0ad5df5a-6e7b-478b-9788-40dc0ad13145\",\"type\":\"Line\"},{\"attributes\":{\"below\":[{\"id\":\"180925d0-5b8b-4f28-8e2d-24cb66fc50ac\",\"type\":\"LinearAxis\"}],\"left\":[{\"id\":\"dc9cb4f6-57ec-4d9f-84a4-c5ff1477c1e2\",\"type\":\"LinearAxis\"}],\"renderers\":[{\"id\":\"180925d0-5b8b-4f28-8e2d-24cb66fc50ac\",\"type\":\"LinearAxis\"},{\"id\":\"e56b86ca-59e6-4ac5-905e-3fec8be111ac\",\"type\":\"Grid\"},{\"id\":\"dc9cb4f6-57ec-4d9f-84a4-c5ff1477c1e2\",\"type\":\"LinearAxis\"},{\"id\":\"91f41322-ad56-4da3-8559-a665e7e977e8\",\"type\":\"Grid\"},{\"id\":\"3f4dfccc-d825-4f24-818c-1714fcd17fc2\",\"type\":\"BoxAnnotation\"},{\"id\":\"9e47a797-7658-405a-b7b5-3ab06a2b70e9\",\"type\":\"Legend\"},{\"id\":\"0956a355-4e22-4253-bead-f55a0da36187\",\"type\":\"GlyphRenderer\"},{\"id\":\"4d563f1b-38e9-476e-b511-7b72149d6738\",\"type\":\"GlyphRenderer\"}],\"title\":{\"id\":\"faf059af-1dcd-4cc0-adf3-262a608e3b03\",\"type\":\"Title\"},\"toolbar\":{\"id\":\"a41e335c-3942-48dc-b7e2-f49f1cf54571\",\"type\":\"Toolbar\"},\"x_range\":{\"id\":\"0d4e38c5-ae05-4d78-be71-69eb35ae283d\",\"type\":\"DataRange1d\"},\"x_scale\":{\"id\":\"3f6e9f18-d57d-45e9-a5a6-4cc2fef8bf04\",\"type\":\"LinearScale\"},\"y_range\":{\"id\":\"01906da6-aebf-4b2f-b534-a2ad8654184f\",\"type\":\"DataRange1d\"},\"y_scale\":{\"id\":\"9094934d-ac2f-4f4a-a7d3-6aaf7cdbd9da\",\"type\":\"LinearScale\"}},\"id\":\"4c63161c-dbb9-4c1f-8826-8834dda2aa1e\",\"subtype\":\"Figure\",\"type\":\"Plot\"},{\"attributes\":{},\"id\":\"9094934d-ac2f-4f4a-a7d3-6aaf7cdbd9da\",\"type\":\"LinearScale\"},{\"attributes\":{\"plot\":null,\"text\":\"LongAdder(): Executors.newCachedThreadPool();\"},\"id\":\"faf059af-1dcd-4cc0-adf3-262a608e3b03\",\"type\":\"Title\"},{\"attributes\":{},\"id\":\"3f6e9f18-d57d-45e9-a5a6-4cc2fef8bf04\",\"type\":\"LinearScale\"},{\"attributes\":{\"callback\":null},\"id\":\"01906da6-aebf-4b2f-b534-a2ad8654184f\",\"type\":\"DataRange1d\"},{\"attributes\":{\"overlay\":{\"id\":\"3f4dfccc-d825-4f24-818c-1714fcd17fc2\",\"type\":\"BoxAnnotation\"}},\"id\":\"b1dc9434-73a9-4162-be82-5e6f6ef0d1c6\",\"type\":\"BoxZoomTool\"},{\"attributes\":{\"plot\":{\"id\":\"4c63161c-dbb9-4c1f-8826-8834dda2aa1e\",\"subtype\":\"Figure\",\"type\":\"Plot\"},\"ticker\":{\"id\":\"22aba3b3-f9d6-4045-920c-d7defa0cf7c5\",\"type\":\"BasicTicker\"}},\"id\":\"e56b86ca-59e6-4ac5-905e-3fec8be111ac\",\"type\":\"Grid\"},{\"attributes\":{\"axis_label\":\"# tasks\",\"formatter\":{\"id\":\"c423db33-67ca-4e7f-a131-33e9723dcecc\",\"type\":\"BasicTickFormatter\"},\"plot\":{\"id\":\"4c63161c-dbb9-4c1f-8826-8834dda2aa1e\",\"subtype\":\"Figure\",\"type\":\"Plot\"},\"ticker\":{\"id\":\"22aba3b3-f9d6-4045-920c-d7defa0cf7c5\",\"type\":\"BasicTicker\"}},\"id\":\"180925d0-5b8b-4f28-8e2d-24cb66fc50ac\",\"type\":\"LinearAxis\"},{\"attributes\":{},\"id\":\"22aba3b3-f9d6-4045-920c-d7defa0cf7c5\",\"type\":\"BasicTicker\"},{\"attributes\":{\"axis_label\":\"time us\",\"formatter\":{\"id\":\"004e3619-2cb0-4627-890a-c89e8e9a80bc\",\"type\":\"BasicTickFormatter\"},\"plot\":{\"id\":\"4c63161c-dbb9-4c1f-8826-8834dda2aa1e\",\"subtype\":\"Figure\",\"type\":\"Plot\"},\"ticker\":{\"id\":\"acbe7974-3a48-4e4c-961d-4788515094e6\",\"type\":\"BasicTicker\"}},\"id\":\"dc9cb4f6-57ec-4d9f-84a4-c5ff1477c1e2\",\"type\":\"LinearAxis\"}],\"root_ids\":[\"4c63161c-dbb9-4c1f-8826-8834dda2aa1e\"]},\"title\":\"Bokeh Application\",\"version\":\"0.12.9\"}};\n",
       "    var render_items = [{\"docid\":\"415dcb37-a412-4a2d-8cb6-8240b81cdc97\",\"elementid\":\"cdefb3c6-fc03-4801-be36-43cdbbc4225d\",\"modelid\":\"4c63161c-dbb9-4c1f-8826-8834dda2aa1e\"}];\n",
       "\n",
       "    root.Bokeh.embed.embed_items(docs_json, render_items);\n",
       "  }\n",
       "\n",
       "  if (root.Bokeh !== undefined) {\n",
       "    embed_document(root);\n",
       "  } else {\n",
       "    var attempts = 0;\n",
       "    var timer = setInterval(function(root) {\n",
       "      if (root.Bokeh !== undefined) {\n",
       "        embed_document(root);\n",
       "        clearInterval(timer);\n",
       "      }\n",
       "      attempts++;\n",
       "      if (attempts > 100) {\n",
       "        console.log(\"Bokeh: ERROR: Unable to embed document because BokehJS library is missing\")\n",
       "        clearInterval(timer);\n",
       "      }\n",
       "    }, 10, root)\n",
       "  }\n",
       "})(window);"
      ],
      "application/vnd.bokehjs_exec.v0+json": ""
     },
     "metadata": {
      "application/vnd.bokehjs_exec.v0+json": {
       "id": "4c63161c-dbb9-4c1f-8826-8834dda2aa1e"
      }
     },
     "output_type": "display_data"
    }
   ],
   "source": [
    "show(p3)"
   ]
  },
  {
   "cell_type": "code",
   "execution_count": null,
   "metadata": {},
   "outputs": [],
   "source": []
  }
 ],
 "metadata": {
  "kernelspec": {
   "display_name": "Python 3",
   "language": "python",
   "name": "python3"
  },
  "language_info": {
   "codemirror_mode": {
    "name": "ipython",
    "version": 3
   },
   "file_extension": ".py",
   "mimetype": "text/x-python",
   "name": "python",
   "nbconvert_exporter": "python",
   "pygments_lexer": "ipython3",
   "version": "3.6.2"
  }
 },
 "nbformat": 4,
 "nbformat_minor": 2
}
