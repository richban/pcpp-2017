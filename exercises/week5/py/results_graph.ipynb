{
 "cells": [
  {
   "cell_type": "code",
   "execution_count": 30,
   "metadata": {},
   "outputs": [
    {
     "data": {
      "text/html": [
       "\n",
       "    <div class=\"bk-root\">\n",
       "        <a href=\"https://bokeh.pydata.org\" target=\"_blank\" class=\"bk-logo bk-logo-small bk-logo-notebook\"></a>\n",
       "        <span id=\"13c30beb-613e-48f1-8441-b5d6bded5c2f\">Loading BokehJS ...</span>\n",
       "    </div>"
      ]
     },
     "metadata": {},
     "output_type": "display_data"
    },
    {
     "data": {
      "application/javascript": [
       "\n",
       "(function(root) {\n",
       "  function now() {\n",
       "    return new Date();\n",
       "  }\n",
       "\n",
       "  var force = true;\n",
       "\n",
       "  if (typeof (root._bokeh_onload_callbacks) === \"undefined\" || force === true) {\n",
       "    root._bokeh_onload_callbacks = [];\n",
       "    root._bokeh_is_loading = undefined;\n",
       "  }\n",
       "\n",
       "  var JS_MIME_TYPE = 'application/javascript';\n",
       "  var HTML_MIME_TYPE = 'text/html';\n",
       "  var EXEC_MIME_TYPE = 'application/vnd.bokehjs_exec.v0+json';\n",
       "  var CLASS_NAME = 'output_bokeh rendered_html';\n",
       "\n",
       "  /**\n",
       "   * Render data to the DOM node\n",
       "   */\n",
       "  function render(props, node) {\n",
       "    var script = document.createElement(\"script\");\n",
       "    node.appendChild(script);\n",
       "  }\n",
       "\n",
       "  /**\n",
       "   * Handle when an output is cleared or removed\n",
       "   */\n",
       "  function handleClearOutput(event, handle) {\n",
       "    var cell = handle.cell;\n",
       "\n",
       "    var id = cell.output_area._bokeh_element_id;\n",
       "    var server_id = cell.output_area._bokeh_server_id;\n",
       "    // Clean up Bokeh references\n",
       "    if (id !== undefined) {\n",
       "      Bokeh.index[id].model.document.clear();\n",
       "      delete Bokeh.index[id];\n",
       "    }\n",
       "\n",
       "    if (server_id !== undefined) {\n",
       "      // Clean up Bokeh references\n",
       "      var cmd = \"from bokeh.io import _state; print(_state.uuid_to_server['\" + server_id + \"'].get_sessions()[0].document.roots[0]._id)\";\n",
       "      cell.notebook.kernel.execute(cmd, {\n",
       "        iopub: {\n",
       "          output: function(msg) {\n",
       "            var element_id = msg.content.text.trim();\n",
       "            Bokeh.index[element_id].model.document.clear();\n",
       "            delete Bokeh.index[element_id];\n",
       "          }\n",
       "        }\n",
       "      });\n",
       "      // Destroy server and session\n",
       "      var cmd = \"from bokeh import io; io._destroy_server('\" + server_id + \"')\";\n",
       "      cell.notebook.kernel.execute(cmd);\n",
       "    }\n",
       "  }\n",
       "\n",
       "  /**\n",
       "   * Handle when a new output is added\n",
       "   */\n",
       "  function handleAddOutput(event, handle) {\n",
       "    var output_area = handle.output_area;\n",
       "    var output = handle.output;\n",
       "\n",
       "    // limit handleAddOutput to display_data with EXEC_MIME_TYPE content only\n",
       "    if ((output.output_type != \"display_data\") || (!output.data.hasOwnProperty(EXEC_MIME_TYPE))) {\n",
       "      return\n",
       "    }\n",
       "\n",
       "    var toinsert = output_area.element.find(`.${CLASS_NAME.split(' ')[0]}`);\n",
       "\n",
       "    if (output.metadata[EXEC_MIME_TYPE][\"id\"] !== undefined) {\n",
       "      toinsert[0].firstChild.textContent = output.data[JS_MIME_TYPE];\n",
       "      // store reference to embed id on output_area\n",
       "      output_area._bokeh_element_id = output.metadata[EXEC_MIME_TYPE][\"id\"];\n",
       "    }\n",
       "    if (output.metadata[EXEC_MIME_TYPE][\"server_id\"] !== undefined) {\n",
       "      var bk_div = document.createElement(\"div\");\n",
       "      bk_div.innerHTML = output.data[HTML_MIME_TYPE];\n",
       "      var script_attrs = bk_div.children[0].attributes;\n",
       "      for (var i = 0; i < script_attrs.length; i++) {\n",
       "        toinsert[0].firstChild.setAttribute(script_attrs[i].name, script_attrs[i].value);\n",
       "      }\n",
       "      // store reference to server id on output_area\n",
       "      output_area._bokeh_server_id = output.metadata[EXEC_MIME_TYPE][\"server_id\"];\n",
       "    }\n",
       "  }\n",
       "\n",
       "  function register_renderer(events, OutputArea) {\n",
       "\n",
       "    function append_mime(data, metadata, element) {\n",
       "      // create a DOM node to render to\n",
       "      var toinsert = this.create_output_subarea(\n",
       "        metadata,\n",
       "        CLASS_NAME,\n",
       "        EXEC_MIME_TYPE\n",
       "      );\n",
       "      this.keyboard_manager.register_events(toinsert);\n",
       "      // Render to node\n",
       "      var props = {data: data, metadata: metadata[EXEC_MIME_TYPE]};\n",
       "      render(props, toinsert[0]);\n",
       "      element.append(toinsert);\n",
       "      return toinsert\n",
       "    }\n",
       "\n",
       "    /* Handle when an output is cleared or removed */\n",
       "    events.on('clear_output.CodeCell', handleClearOutput);\n",
       "    events.on('delete.Cell', handleClearOutput);\n",
       "\n",
       "    /* Handle when a new output is added */\n",
       "    events.on('output_added.OutputArea', handleAddOutput);\n",
       "\n",
       "    /**\n",
       "     * Register the mime type and append_mime function with output_area\n",
       "     */\n",
       "    OutputArea.prototype.register_mime_type(EXEC_MIME_TYPE, append_mime, {\n",
       "      /* Is output safe? */\n",
       "      safe: true,\n",
       "      /* Index of renderer in `output_area.display_order` */\n",
       "      index: 0\n",
       "    });\n",
       "  }\n",
       "\n",
       "  // register the mime type if in Jupyter Notebook environment and previously unregistered\n",
       "  if (root.Jupyter !== undefined) {\n",
       "    var events = require('base/js/events');\n",
       "    var OutputArea = require('notebook/js/outputarea').OutputArea;\n",
       "\n",
       "    if (OutputArea.prototype.mime_types().indexOf(EXEC_MIME_TYPE) == -1) {\n",
       "      register_renderer(events, OutputArea);\n",
       "    }\n",
       "  }\n",
       "\n",
       "  \n",
       "  if (typeof (root._bokeh_timeout) === \"undefined\" || force === true) {\n",
       "    root._bokeh_timeout = Date.now() + 5000;\n",
       "    root._bokeh_failed_load = false;\n",
       "  }\n",
       "\n",
       "  var NB_LOAD_WARNING = {'data': {'text/html':\n",
       "     \"<div style='background-color: #fdd'>\\n\"+\n",
       "     \"<p>\\n\"+\n",
       "     \"BokehJS does not appear to have successfully loaded. If loading BokehJS from CDN, this \\n\"+\n",
       "     \"may be due to a slow or bad network connection. Possible fixes:\\n\"+\n",
       "     \"</p>\\n\"+\n",
       "     \"<ul>\\n\"+\n",
       "     \"<li>re-rerun `output_notebook()` to attempt to load from CDN again, or</li>\\n\"+\n",
       "     \"<li>use INLINE resources instead, as so:</li>\\n\"+\n",
       "     \"</ul>\\n\"+\n",
       "     \"<code>\\n\"+\n",
       "     \"from bokeh.resources import INLINE\\n\"+\n",
       "     \"output_notebook(resources=INLINE)\\n\"+\n",
       "     \"</code>\\n\"+\n",
       "     \"</div>\"}};\n",
       "\n",
       "  function display_loaded() {\n",
       "    var el = document.getElementById(\"13c30beb-613e-48f1-8441-b5d6bded5c2f\");\n",
       "    if (el != null) {\n",
       "      el.textContent = \"BokehJS is loading...\";\n",
       "    }\n",
       "    if (root.Bokeh !== undefined) {\n",
       "      if (el != null) {\n",
       "        el.textContent = \"BokehJS \" + root.Bokeh.version + \" successfully loaded.\";\n",
       "      }\n",
       "    } else if (Date.now() < root._bokeh_timeout) {\n",
       "      setTimeout(display_loaded, 100)\n",
       "    }\n",
       "  }\n",
       "\n",
       "\n",
       "  function run_callbacks() {\n",
       "    try {\n",
       "      root._bokeh_onload_callbacks.forEach(function(callback) { callback() });\n",
       "    }\n",
       "    finally {\n",
       "      delete root._bokeh_onload_callbacks\n",
       "    }\n",
       "    console.info(\"Bokeh: all callbacks have finished\");\n",
       "  }\n",
       "\n",
       "  function load_libs(js_urls, callback) {\n",
       "    root._bokeh_onload_callbacks.push(callback);\n",
       "    if (root._bokeh_is_loading > 0) {\n",
       "      console.log(\"Bokeh: BokehJS is being loaded, scheduling callback at\", now());\n",
       "      return null;\n",
       "    }\n",
       "    if (js_urls == null || js_urls.length === 0) {\n",
       "      run_callbacks();\n",
       "      return null;\n",
       "    }\n",
       "    console.log(\"Bokeh: BokehJS not loaded, scheduling load and callback at\", now());\n",
       "    root._bokeh_is_loading = js_urls.length;\n",
       "    for (var i = 0; i < js_urls.length; i++) {\n",
       "      var url = js_urls[i];\n",
       "      var s = document.createElement('script');\n",
       "      s.src = url;\n",
       "      s.async = false;\n",
       "      s.onreadystatechange = s.onload = function() {\n",
       "        root._bokeh_is_loading--;\n",
       "        if (root._bokeh_is_loading === 0) {\n",
       "          console.log(\"Bokeh: all BokehJS libraries loaded\");\n",
       "          run_callbacks()\n",
       "        }\n",
       "      };\n",
       "      s.onerror = function() {\n",
       "        console.warn(\"failed to load library \" + url);\n",
       "      };\n",
       "      console.log(\"Bokeh: injecting script tag for BokehJS library: \", url);\n",
       "      document.getElementsByTagName(\"head\")[0].appendChild(s);\n",
       "    }\n",
       "  };var element = document.getElementById(\"13c30beb-613e-48f1-8441-b5d6bded5c2f\");\n",
       "  if (element == null) {\n",
       "    console.log(\"Bokeh: ERROR: autoload.js configured with elementid '13c30beb-613e-48f1-8441-b5d6bded5c2f' but no matching script tag was found. \")\n",
       "    return false;\n",
       "  }\n",
       "\n",
       "  var js_urls = [\"https://cdn.pydata.org/bokeh/release/bokeh-0.12.9.min.js\", \"https://cdn.pydata.org/bokeh/release/bokeh-widgets-0.12.9.min.js\", \"https://cdn.pydata.org/bokeh/release/bokeh-tables-0.12.9.min.js\", \"https://cdn.pydata.org/bokeh/release/bokeh-gl-0.12.9.min.js\"];\n",
       "\n",
       "  var inline_js = [\n",
       "    function(Bokeh) {\n",
       "      Bokeh.set_log_level(\"info\");\n",
       "    },\n",
       "    \n",
       "    function(Bokeh) {\n",
       "      \n",
       "    },\n",
       "    function(Bokeh) {\n",
       "      console.log(\"Bokeh: injecting CSS: https://cdn.pydata.org/bokeh/release/bokeh-0.12.9.min.css\");\n",
       "      Bokeh.embed.inject_css(\"https://cdn.pydata.org/bokeh/release/bokeh-0.12.9.min.css\");\n",
       "      console.log(\"Bokeh: injecting CSS: https://cdn.pydata.org/bokeh/release/bokeh-widgets-0.12.9.min.css\");\n",
       "      Bokeh.embed.inject_css(\"https://cdn.pydata.org/bokeh/release/bokeh-widgets-0.12.9.min.css\");\n",
       "      console.log(\"Bokeh: injecting CSS: https://cdn.pydata.org/bokeh/release/bokeh-tables-0.12.9.min.css\");\n",
       "      Bokeh.embed.inject_css(\"https://cdn.pydata.org/bokeh/release/bokeh-tables-0.12.9.min.css\");\n",
       "    }\n",
       "  ];\n",
       "\n",
       "  function run_inline_js() {\n",
       "    \n",
       "    if ((root.Bokeh !== undefined) || (force === true)) {\n",
       "      for (var i = 0; i < inline_js.length; i++) {\n",
       "        inline_js[i].call(root, root.Bokeh);\n",
       "      }if (force === true) {\n",
       "        display_loaded();\n",
       "      }} else if (Date.now() < root._bokeh_timeout) {\n",
       "      setTimeout(run_inline_js, 100);\n",
       "    } else if (!root._bokeh_failed_load) {\n",
       "      console.log(\"Bokeh: BokehJS failed to load within specified timeout.\");\n",
       "      root._bokeh_failed_load = true;\n",
       "    } else if (force !== true) {\n",
       "      var cell = $(document.getElementById(\"13c30beb-613e-48f1-8441-b5d6bded5c2f\")).parents('.cell').data().cell;\n",
       "      cell.output_area.append_execute_result(NB_LOAD_WARNING)\n",
       "    }\n",
       "\n",
       "  }\n",
       "\n",
       "  if (root._bokeh_is_loading === 0) {\n",
       "    console.log(\"Bokeh: BokehJS loaded, going straight to plotting\");\n",
       "    run_inline_js();\n",
       "  } else {\n",
       "    load_libs(js_urls, function() {\n",
       "      console.log(\"Bokeh: BokehJS plotting callback run at\", now());\n",
       "      run_inline_js();\n",
       "    });\n",
       "  }\n",
       "}(window));"
      ],
      "application/vnd.bokehjs_load.v0+json": "\n(function(root) {\n  function now() {\n    return new Date();\n  }\n\n  var force = true;\n\n  if (typeof (root._bokeh_onload_callbacks) === \"undefined\" || force === true) {\n    root._bokeh_onload_callbacks = [];\n    root._bokeh_is_loading = undefined;\n  }\n\n  \n\n  \n  if (typeof (root._bokeh_timeout) === \"undefined\" || force === true) {\n    root._bokeh_timeout = Date.now() + 5000;\n    root._bokeh_failed_load = false;\n  }\n\n  var NB_LOAD_WARNING = {'data': {'text/html':\n     \"<div style='background-color: #fdd'>\\n\"+\n     \"<p>\\n\"+\n     \"BokehJS does not appear to have successfully loaded. If loading BokehJS from CDN, this \\n\"+\n     \"may be due to a slow or bad network connection. Possible fixes:\\n\"+\n     \"</p>\\n\"+\n     \"<ul>\\n\"+\n     \"<li>re-rerun `output_notebook()` to attempt to load from CDN again, or</li>\\n\"+\n     \"<li>use INLINE resources instead, as so:</li>\\n\"+\n     \"</ul>\\n\"+\n     \"<code>\\n\"+\n     \"from bokeh.resources import INLINE\\n\"+\n     \"output_notebook(resources=INLINE)\\n\"+\n     \"</code>\\n\"+\n     \"</div>\"}};\n\n  function display_loaded() {\n    var el = document.getElementById(\"13c30beb-613e-48f1-8441-b5d6bded5c2f\");\n    if (el != null) {\n      el.textContent = \"BokehJS is loading...\";\n    }\n    if (root.Bokeh !== undefined) {\n      if (el != null) {\n        el.textContent = \"BokehJS \" + root.Bokeh.version + \" successfully loaded.\";\n      }\n    } else if (Date.now() < root._bokeh_timeout) {\n      setTimeout(display_loaded, 100)\n    }\n  }\n\n\n  function run_callbacks() {\n    try {\n      root._bokeh_onload_callbacks.forEach(function(callback) { callback() });\n    }\n    finally {\n      delete root._bokeh_onload_callbacks\n    }\n    console.info(\"Bokeh: all callbacks have finished\");\n  }\n\n  function load_libs(js_urls, callback) {\n    root._bokeh_onload_callbacks.push(callback);\n    if (root._bokeh_is_loading > 0) {\n      console.log(\"Bokeh: BokehJS is being loaded, scheduling callback at\", now());\n      return null;\n    }\n    if (js_urls == null || js_urls.length === 0) {\n      run_callbacks();\n      return null;\n    }\n    console.log(\"Bokeh: BokehJS not loaded, scheduling load and callback at\", now());\n    root._bokeh_is_loading = js_urls.length;\n    for (var i = 0; i < js_urls.length; i++) {\n      var url = js_urls[i];\n      var s = document.createElement('script');\n      s.src = url;\n      s.async = false;\n      s.onreadystatechange = s.onload = function() {\n        root._bokeh_is_loading--;\n        if (root._bokeh_is_loading === 0) {\n          console.log(\"Bokeh: all BokehJS libraries loaded\");\n          run_callbacks()\n        }\n      };\n      s.onerror = function() {\n        console.warn(\"failed to load library \" + url);\n      };\n      console.log(\"Bokeh: injecting script tag for BokehJS library: \", url);\n      document.getElementsByTagName(\"head\")[0].appendChild(s);\n    }\n  };var element = document.getElementById(\"13c30beb-613e-48f1-8441-b5d6bded5c2f\");\n  if (element == null) {\n    console.log(\"Bokeh: ERROR: autoload.js configured with elementid '13c30beb-613e-48f1-8441-b5d6bded5c2f' but no matching script tag was found. \")\n    return false;\n  }\n\n  var js_urls = [\"https://cdn.pydata.org/bokeh/release/bokeh-0.12.9.min.js\", \"https://cdn.pydata.org/bokeh/release/bokeh-widgets-0.12.9.min.js\", \"https://cdn.pydata.org/bokeh/release/bokeh-tables-0.12.9.min.js\", \"https://cdn.pydata.org/bokeh/release/bokeh-gl-0.12.9.min.js\"];\n\n  var inline_js = [\n    function(Bokeh) {\n      Bokeh.set_log_level(\"info\");\n    },\n    \n    function(Bokeh) {\n      \n    },\n    function(Bokeh) {\n      console.log(\"Bokeh: injecting CSS: https://cdn.pydata.org/bokeh/release/bokeh-0.12.9.min.css\");\n      Bokeh.embed.inject_css(\"https://cdn.pydata.org/bokeh/release/bokeh-0.12.9.min.css\");\n      console.log(\"Bokeh: injecting CSS: https://cdn.pydata.org/bokeh/release/bokeh-widgets-0.12.9.min.css\");\n      Bokeh.embed.inject_css(\"https://cdn.pydata.org/bokeh/release/bokeh-widgets-0.12.9.min.css\");\n      console.log(\"Bokeh: injecting CSS: https://cdn.pydata.org/bokeh/release/bokeh-tables-0.12.9.min.css\");\n      Bokeh.embed.inject_css(\"https://cdn.pydata.org/bokeh/release/bokeh-tables-0.12.9.min.css\");\n    }\n  ];\n\n  function run_inline_js() {\n    \n    if ((root.Bokeh !== undefined) || (force === true)) {\n      for (var i = 0; i < inline_js.length; i++) {\n        inline_js[i].call(root, root.Bokeh);\n      }if (force === true) {\n        display_loaded();\n      }} else if (Date.now() < root._bokeh_timeout) {\n      setTimeout(run_inline_js, 100);\n    } else if (!root._bokeh_failed_load) {\n      console.log(\"Bokeh: BokehJS failed to load within specified timeout.\");\n      root._bokeh_failed_load = true;\n    } else if (force !== true) {\n      var cell = $(document.getElementById(\"13c30beb-613e-48f1-8441-b5d6bded5c2f\")).parents('.cell').data().cell;\n      cell.output_area.append_execute_result(NB_LOAD_WARNING)\n    }\n\n  }\n\n  if (root._bokeh_is_loading === 0) {\n    console.log(\"Bokeh: BokehJS loaded, going straight to plotting\");\n    run_inline_js();\n  } else {\n    load_libs(js_urls, function() {\n      console.log(\"Bokeh: BokehJS plotting callback run at\", now());\n      run_inline_js();\n    });\n  }\n}(window));"
     },
     "metadata": {},
     "output_type": "display_data"
    }
   ],
   "source": [
    "import pandas as pa\n",
    "from bokeh.plotting import figure, output_file, show\n",
    "from bokeh.io import output_notebook\n",
    "output_notebook()"
   ]
  },
  {
   "cell_type": "code",
   "execution_count": 31,
   "metadata": {},
   "outputs": [],
   "source": [
    "path_w = 'newWorkStealingPoolData.txt'\n",
    "path_c = 'newCachedThreadPoolData.txt'"
   ]
  },
  {
   "cell_type": "code",
   "execution_count": 32,
   "metadata": {},
   "outputs": [],
   "source": [
    "converters = {\n",
    "    1: lambda x: int(x),\n",
    "    2: lambda x: float(x),\n",
    "    4: lambda x: float(x),\n",
    "    5: lambda x: int(x),\n",
    "}"
   ]
  },
  {
   "cell_type": "code",
   "execution_count": 33,
   "metadata": {},
   "outputs": [],
   "source": [
    "names = [\"parTask\", \"taskCount\",\n",
    "         \"time\", \"us\", \"-\", \"taskCount\"]"
   ]
  },
  {
   "cell_type": "code",
   "execution_count": 34,
   "metadata": {},
   "outputs": [],
   "source": [
    "data = pa.read_csv(path_w, delim_whitespace=True, \n",
    "                   header=None, names=names,\n",
    "                   converters=converters, skiprows=12)\n",
    "\n",
    "data_c = pa.read_csv(path_c, delim_whitespace=True, \n",
    "                   header=None, names=names,\n",
    "                   converters=converters, skiprows=12)"
   ]
  },
  {
   "cell_type": "code",
   "execution_count": 35,
   "metadata": {},
   "outputs": [],
   "source": [
    "data = data.drop('us', 1)\n",
    "data_c = data_c.drop('us', 1)\n"
   ]
  },
  {
   "cell_type": "code",
   "execution_count": 36,
   "metadata": {},
   "outputs": [],
   "source": [
    "runnable = data[:100]\n",
    "callable_ = data[100:]\n",
    "\n",
    "runnable_c = data_c[:100]\n",
    "callable_c = data_c[100:]"
   ]
  },
  {
   "cell_type": "code",
   "execution_count": 37,
   "metadata": {},
   "outputs": [],
   "source": [
    "X_run = runnable[\"taskCount\"]\n",
    "Y_run = runnable[\"time\"]\n",
    "\n",
    "X_call = callable_[\"taskCount\"]\n",
    "Y_call = callable_[\"time\"]\n",
    "\n",
    "X_run_c = runnable_c[\"taskCount\"]\n",
    "Y_run_c = runnable[\"time\"]\n",
    "\n",
    "X_call_c = callable_c[\"taskCount\"]\n",
    "Y_call_c = callable_c[\"time\"]"
   ]
  },
  {
   "cell_type": "code",
   "execution_count": 38,
   "metadata": {},
   "outputs": [],
   "source": [
    "# new plot\n",
    "p1 = figure(\n",
    "    title=\"Executors.newWorkStealingPooll();\",\n",
    "    x_axis_label='# tasks', y_axis_label='time us'\n",
    ")\n",
    "\n",
    "# new plot\n",
    "p2 = figure(\n",
    "    title=\"Executors.newCachedThreadPool();\",\n",
    "    x_axis_label='# tasks', y_axis_label='time us'\n",
    ")"
   ]
  },
  {
   "cell_type": "code",
   "execution_count": 39,
   "metadata": {},
   "outputs": [
    {
     "data": {
      "text/html": [
       "<div style=\"display: table;\"><div style=\"display: table-row;\"><div style=\"display: table-cell;\"><b title=\"bokeh.models.renderers.GlyphRenderer\">GlyphRenderer</b>(</div><div style=\"display: table-cell;\">id&nbsp;=&nbsp;'be0186f4-5775-4462-a861-63416f5b337a', <span id=\"1ac83934-517d-4320-b61a-fc2ca2e387a8\" style=\"cursor: pointer;\">&hellip;)</span></div></div><div class=\"edee584d-ac9c-4ec7-a28d-6c073639fecb\" style=\"display: none;\"><div style=\"display: table-cell;\"></div><div style=\"display: table-cell;\">data_source&nbsp;=&nbsp;ColumnDataSource(id='a61746b2-01a4-4a95-b763-24e9c4240a99', ...),</div></div><div class=\"edee584d-ac9c-4ec7-a28d-6c073639fecb\" style=\"display: none;\"><div style=\"display: table-cell;\"></div><div style=\"display: table-cell;\">glyph&nbsp;=&nbsp;Line(id='10580fe3-370a-449e-89c1-6e13722b3de3', ...),</div></div><div class=\"edee584d-ac9c-4ec7-a28d-6c073639fecb\" style=\"display: none;\"><div style=\"display: table-cell;\"></div><div style=\"display: table-cell;\">hover_glyph&nbsp;=&nbsp;None,</div></div><div class=\"edee584d-ac9c-4ec7-a28d-6c073639fecb\" style=\"display: none;\"><div style=\"display: table-cell;\"></div><div style=\"display: table-cell;\">js_event_callbacks&nbsp;=&nbsp;{},</div></div><div class=\"edee584d-ac9c-4ec7-a28d-6c073639fecb\" style=\"display: none;\"><div style=\"display: table-cell;\"></div><div style=\"display: table-cell;\">js_property_callbacks&nbsp;=&nbsp;{},</div></div><div class=\"edee584d-ac9c-4ec7-a28d-6c073639fecb\" style=\"display: none;\"><div style=\"display: table-cell;\"></div><div style=\"display: table-cell;\">level&nbsp;=&nbsp;'glyph',</div></div><div class=\"edee584d-ac9c-4ec7-a28d-6c073639fecb\" style=\"display: none;\"><div style=\"display: table-cell;\"></div><div style=\"display: table-cell;\">muted&nbsp;=&nbsp;False,</div></div><div class=\"edee584d-ac9c-4ec7-a28d-6c073639fecb\" style=\"display: none;\"><div style=\"display: table-cell;\"></div><div style=\"display: table-cell;\">muted_glyph&nbsp;=&nbsp;None,</div></div><div class=\"edee584d-ac9c-4ec7-a28d-6c073639fecb\" style=\"display: none;\"><div style=\"display: table-cell;\"></div><div style=\"display: table-cell;\">name&nbsp;=&nbsp;None,</div></div><div class=\"edee584d-ac9c-4ec7-a28d-6c073639fecb\" style=\"display: none;\"><div style=\"display: table-cell;\"></div><div style=\"display: table-cell;\">nonselection_glyph&nbsp;=&nbsp;Line(id='d0994510-87e8-4660-866f-a1cf77ab766f', ...),</div></div><div class=\"edee584d-ac9c-4ec7-a28d-6c073639fecb\" style=\"display: none;\"><div style=\"display: table-cell;\"></div><div style=\"display: table-cell;\">selection_glyph&nbsp;=&nbsp;None,</div></div><div class=\"edee584d-ac9c-4ec7-a28d-6c073639fecb\" style=\"display: none;\"><div style=\"display: table-cell;\"></div><div style=\"display: table-cell;\">subscribed_events&nbsp;=&nbsp;[],</div></div><div class=\"edee584d-ac9c-4ec7-a28d-6c073639fecb\" style=\"display: none;\"><div style=\"display: table-cell;\"></div><div style=\"display: table-cell;\">tags&nbsp;=&nbsp;[],</div></div><div class=\"edee584d-ac9c-4ec7-a28d-6c073639fecb\" style=\"display: none;\"><div style=\"display: table-cell;\"></div><div style=\"display: table-cell;\">view&nbsp;=&nbsp;CDSView(id='151eeda4-ad05-47b2-af0c-6c05d4b38b11', ...),</div></div><div class=\"edee584d-ac9c-4ec7-a28d-6c073639fecb\" style=\"display: none;\"><div style=\"display: table-cell;\"></div><div style=\"display: table-cell;\">visible&nbsp;=&nbsp;True,</div></div><div class=\"edee584d-ac9c-4ec7-a28d-6c073639fecb\" style=\"display: none;\"><div style=\"display: table-cell;\"></div><div style=\"display: table-cell;\">x_range_name&nbsp;=&nbsp;'default',</div></div><div class=\"edee584d-ac9c-4ec7-a28d-6c073639fecb\" style=\"display: none;\"><div style=\"display: table-cell;\"></div><div style=\"display: table-cell;\">y_range_name&nbsp;=&nbsp;'default')</div></div></div>\n",
       "<script>\n",
       "(function() {\n",
       "  var expanded = false;\n",
       "  var ellipsis = document.getElementById(\"1ac83934-517d-4320-b61a-fc2ca2e387a8\");\n",
       "  ellipsis.addEventListener(\"click\", function() {\n",
       "    var rows = document.getElementsByClassName(\"edee584d-ac9c-4ec7-a28d-6c073639fecb\");\n",
       "    for (var i = 0; i < rows.length; i++) {\n",
       "      var el = rows[i];\n",
       "      el.style.display = expanded ? \"none\" : \"table-row\";\n",
       "    }\n",
       "    ellipsis.innerHTML = expanded ? \"&hellip;)\" : \"&lsaquo;&lsaquo;&lsaquo;\";\n",
       "    expanded = !expanded;\n",
       "  });\n",
       "})();\n",
       "</script>\n"
      ],
      "text/plain": [
       "GlyphRenderer(id='be0186f4-5775-4462-a861-63416f5b337a', ...)"
      ]
     },
     "execution_count": 39,
     "metadata": {},
     "output_type": "execute_result"
    }
   ],
   "source": [
    "# renders\n",
    "p1.line(X_run, Y_run, legend=\"Runnable\", line_color=\"red\", line_width=3)\n",
    "p1.line(X_call, Y_call, legend=\"Callable\", line_width=3)\n",
    "\n",
    "p2.line(X_run_c, Y_run_c, legend=\"Runnable\", line_color=\"red\", line_width=3)\n",
    "p2.line(X_call_c, Y_call_c, legend=\"Callable\", line_width=3)"
   ]
  },
  {
   "cell_type": "code",
   "execution_count": 40,
   "metadata": {},
   "outputs": [],
   "source": [
    "# output to static HTML file\n",
    "output_file(\"Executors.newWorkStealingPool.html\")"
   ]
  },
  {
   "cell_type": "code",
   "execution_count": 41,
   "metadata": {},
   "outputs": [
    {
     "data": {
      "text/html": [
       "\n",
       "<div class=\"bk-root\">\n",
       "    <div class=\"bk-plotdiv\" id=\"2059ddda-a16f-4e21-878e-7d84676ed5cf\"></div>\n",
       "</div>"
      ]
     },
     "metadata": {},
     "output_type": "display_data"
    },
    {
     "data": {
      "application/javascript": [
       "(function(root) {\n",
       "  function embed_document(root) {\n",
       "    var docs_json = {\"8d9ae6f8-c3a7-486a-ae65-a3f46a302d27\":{\"roots\":{\"references\":[{\"attributes\":{\"line_color\":{\"value\":\"red\"},\"line_width\":{\"value\":3},\"x\":{\"field\":\"x\"},\"y\":{\"field\":\"y\"}},\"id\":\"807b92ac-a106-4158-9123-178d4bb31e57\",\"type\":\"Line\"},{\"attributes\":{\"line_alpha\":{\"value\":0.1},\"line_color\":{\"value\":\"#1f77b4\"},\"line_width\":{\"value\":3},\"x\":{\"field\":\"x\"},\"y\":{\"field\":\"y\"}},\"id\":\"f1be6046-c4ac-449c-8550-f698d70bf334\",\"type\":\"Line\"},{\"attributes\":{},\"id\":\"d1bb7636-4626-4ae5-8921-509036e873bb\",\"type\":\"BasicTicker\"},{\"attributes\":{\"source\":{\"id\":\"17ece6e6-efc9-400d-b798-debe27b52d91\",\"type\":\"ColumnDataSource\"}},\"id\":\"6cc4ce49-2471-429f-b7aa-12f7f081ef6e\",\"type\":\"CDSView\"},{\"attributes\":{\"dimension\":1,\"plot\":{\"id\":\"50350c46-a0b9-4ca9-a9a3-fd2c39413204\",\"subtype\":\"Figure\",\"type\":\"Plot\"},\"ticker\":{\"id\":\"a713e427-1053-4402-9ecc-73689b96b472\",\"type\":\"BasicTicker\"}},\"id\":\"f4ee6410-877f-45ef-8b20-c97b29b268b5\",\"type\":\"Grid\"},{\"attributes\":{\"data_source\":{\"id\":\"17ece6e6-efc9-400d-b798-debe27b52d91\",\"type\":\"ColumnDataSource\"},\"glyph\":{\"id\":\"807b92ac-a106-4158-9123-178d4bb31e57\",\"type\":\"Line\"},\"hover_glyph\":null,\"muted_glyph\":null,\"nonselection_glyph\":{\"id\":\"f1be6046-c4ac-449c-8550-f698d70bf334\",\"type\":\"Line\"},\"selection_glyph\":null,\"view\":{\"id\":\"6cc4ce49-2471-429f-b7aa-12f7f081ef6e\",\"type\":\"CDSView\"}},\"id\":\"46f30467-db7c-4b73-9fbd-ea19d03796ec\",\"type\":\"GlyphRenderer\"},{\"attributes\":{\"axis_label\":\"# tasks\",\"formatter\":{\"id\":\"ca064767-a2f0-4522-91d5-0456b88d4992\",\"type\":\"BasicTickFormatter\"},\"plot\":{\"id\":\"50350c46-a0b9-4ca9-a9a3-fd2c39413204\",\"subtype\":\"Figure\",\"type\":\"Plot\"},\"ticker\":{\"id\":\"d1bb7636-4626-4ae5-8921-509036e873bb\",\"type\":\"BasicTicker\"}},\"id\":\"4a7222b6-e546-4c5d-92ed-3a2d9656f32b\",\"type\":\"LinearAxis\"},{\"attributes\":{},\"id\":\"35d31aa9-20ff-47fb-a689-7c0c99ecddbd\",\"type\":\"BasicTickFormatter\"},{\"attributes\":{},\"id\":\"85b02fe8-7d06-4625-b626-ed0681742b7d\",\"type\":\"HelpTool\"},{\"attributes\":{},\"id\":\"a713e427-1053-4402-9ecc-73689b96b472\",\"type\":\"BasicTicker\"},{\"attributes\":{},\"id\":\"941c1774-60e1-4370-88ee-1c53c7744bdf\",\"type\":\"SaveTool\"},{\"attributes\":{\"axis_label\":\"time us\",\"formatter\":{\"id\":\"35d31aa9-20ff-47fb-a689-7c0c99ecddbd\",\"type\":\"BasicTickFormatter\"},\"plot\":{\"id\":\"50350c46-a0b9-4ca9-a9a3-fd2c39413204\",\"subtype\":\"Figure\",\"type\":\"Plot\"},\"ticker\":{\"id\":\"a713e427-1053-4402-9ecc-73689b96b472\",\"type\":\"BasicTicker\"}},\"id\":\"05c33f15-85ec-4d3a-bfa6-9c685722c9d9\",\"type\":\"LinearAxis\"},{\"attributes\":{\"line_alpha\":{\"value\":0.1},\"line_color\":{\"value\":\"#1f77b4\"},\"line_width\":{\"value\":3},\"x\":{\"field\":\"x\"},\"y\":{\"field\":\"y\"}},\"id\":\"184e7e44-8949-4b0e-b908-91b4adb95b68\",\"type\":\"Line\"},{\"attributes\":{},\"id\":\"f7ecb2ce-1967-4484-aa47-64788418a4cb\",\"type\":\"PanTool\"},{\"attributes\":{},\"id\":\"ca064767-a2f0-4522-91d5-0456b88d4992\",\"type\":\"BasicTickFormatter\"},{\"attributes\":{\"active_drag\":\"auto\",\"active_inspect\":\"auto\",\"active_scroll\":\"auto\",\"active_tap\":\"auto\",\"tools\":[{\"id\":\"f7ecb2ce-1967-4484-aa47-64788418a4cb\",\"type\":\"PanTool\"},{\"id\":\"13696196-e7d4-46e6-bd76-b0cf1670d112\",\"type\":\"WheelZoomTool\"},{\"id\":\"6ad7c49a-8e5b-49cc-aa49-04d7e66e8832\",\"type\":\"BoxZoomTool\"},{\"id\":\"941c1774-60e1-4370-88ee-1c53c7744bdf\",\"type\":\"SaveTool\"},{\"id\":\"8449581f-b03e-4bbc-921b-d9c52d9e835f\",\"type\":\"ResetTool\"},{\"id\":\"85b02fe8-7d06-4625-b626-ed0681742b7d\",\"type\":\"HelpTool\"}]},\"id\":\"ffc3260c-b9a2-4bab-9f4c-0be6fa2f5006\",\"type\":\"Toolbar\"},{\"attributes\":{\"items\":[{\"id\":\"c19cc4ba-0b25-4057-bf4c-e6a5bfd8f351\",\"type\":\"LegendItem\"},{\"id\":\"9412b130-5000-4e44-bc2f-f24816a012f5\",\"type\":\"LegendItem\"}],\"plot\":{\"id\":\"50350c46-a0b9-4ca9-a9a3-fd2c39413204\",\"subtype\":\"Figure\",\"type\":\"Plot\"}},\"id\":\"20f37e1d-1983-4dfb-ac01-60493dd765b9\",\"type\":\"Legend\"},{\"attributes\":{},\"id\":\"13696196-e7d4-46e6-bd76-b0cf1670d112\",\"type\":\"WheelZoomTool\"},{\"attributes\":{\"label\":{\"value\":\"Runnable\"},\"renderers\":[{\"id\":\"46f30467-db7c-4b73-9fbd-ea19d03796ec\",\"type\":\"GlyphRenderer\"}]},\"id\":\"c19cc4ba-0b25-4057-bf4c-e6a5bfd8f351\",\"type\":\"LegendItem\"},{\"attributes\":{\"callback\":null},\"id\":\"35435358-2a7c-47f6-8be9-eaf38f16e79b\",\"type\":\"DataRange1d\"},{\"attributes\":{},\"id\":\"8449581f-b03e-4bbc-921b-d9c52d9e835f\",\"type\":\"ResetTool\"},{\"attributes\":{\"data_source\":{\"id\":\"754cdf14-18ea-4c3a-bf47-5f4c7b7a1a45\",\"type\":\"ColumnDataSource\"},\"glyph\":{\"id\":\"2fa8db61-7c2c-4895-b97b-fba24136a92c\",\"type\":\"Line\"},\"hover_glyph\":null,\"muted_glyph\":null,\"nonselection_glyph\":{\"id\":\"184e7e44-8949-4b0e-b908-91b4adb95b68\",\"type\":\"Line\"},\"selection_glyph\":null,\"view\":{\"id\":\"d2f79554-5523-4fb6-8295-22099248fd6a\",\"type\":\"CDSView\"}},\"id\":\"afeb58fc-8e30-4481-8d22-d4e827f42236\",\"type\":\"GlyphRenderer\"},{\"attributes\":{\"label\":{\"value\":\"Callable\"},\"renderers\":[{\"id\":\"afeb58fc-8e30-4481-8d22-d4e827f42236\",\"type\":\"GlyphRenderer\"}]},\"id\":\"9412b130-5000-4e44-bc2f-f24816a012f5\",\"type\":\"LegendItem\"},{\"attributes\":{},\"id\":\"40464872-a34d-4285-a2e5-53cc16c982e1\",\"type\":\"LinearScale\"},{\"attributes\":{\"overlay\":{\"id\":\"9ec0d770-c5a0-4936-a311-8b2f4c67d84a\",\"type\":\"BoxAnnotation\"}},\"id\":\"6ad7c49a-8e5b-49cc-aa49-04d7e66e8832\",\"type\":\"BoxZoomTool\"},{\"attributes\":{\"plot\":null,\"text\":\"Executors.newWorkStealingPooll();\"},\"id\":\"157caceb-1261-4f5f-9fec-fb0f9a62e19f\",\"type\":\"Title\"},{\"attributes\":{\"callback\":null},\"id\":\"4683db32-d56b-4127-b904-24c9fdd0aab0\",\"type\":\"DataRange1d\"},{\"attributes\":{\"source\":{\"id\":\"754cdf14-18ea-4c3a-bf47-5f4c7b7a1a45\",\"type\":\"ColumnDataSource\"}},\"id\":\"d2f79554-5523-4fb6-8295-22099248fd6a\",\"type\":\"CDSView\"},{\"attributes\":{\"line_color\":{\"value\":\"#1f77b4\"},\"line_width\":{\"value\":3},\"x\":{\"field\":\"x\"},\"y\":{\"field\":\"y\"}},\"id\":\"2fa8db61-7c2c-4895-b97b-fba24136a92c\",\"type\":\"Line\"},{\"attributes\":{\"callback\":null,\"column_names\":[\"x\",\"y\"],\"data\":{\"x\":[1,2,3,4,5,6,7,8,9,10,11,12,13,14,15,16,17,18,19,20,21,22,23,24,25,26,27,28,29,30,31,32,33,34,35,36,37,38,39,40,41,42,43,44,45,46,47,48,49,50,51,52,53,54,55,56,57,58,59,60,61,62,63,64,65,66,67,68,69,70,71,72,73,74,75,76,77,78,79,80,81,82,83,84,85,86,87,88,89,90,91,92,93,94,95,96,97,98,99,100],\"y\":{\"__ndarray__\":\"AAAAAEAzxkAzMzMzs0i7QDMzMzOzP7NAZmZmZmYmrkBmZmZmZqerQGZmZmZmLKpAmpmZmZnkp0AzMzMzMw6nQAAAAAAAr6hAmpmZmZmhqUAAAAAAAAWoQM3MzMzMIqdAZmZmZmbgpkBmZmZmZuWnQAAAAAAAhqZAZmZmZmY0p0CamZmZmZWmQGZmZmZmZadAzczMzMwAp0CamZmZmZmmQGZmZmZmtqZAMzMzMzNVpkDNzMzMzGSmQDMzMzMzdKVAzczMzMx6p0DNzMzMzCWmQDMzMzMzAKdAMzMzMzNnpkBmZmZmZhymQDMzMzMz9aVAmpmZmZkRpkBmZmZmZlOmQDMzMzMz9aVAZmZmZmbipUAzMzMzM9+lQDMzMzMzR6VAZmZmZmaApUAzMzMzM7SlQAAAAAAAhKVAMzMzMzP+pEAAAAAAAJWlQAAAAAAAV6VAzczMzMx2pUAzMzMzMxalQM3MzMzMx6VAmpmZmZkQpUAzMzMzM6qlQM3MzMzMKqVAMzMzMzOSpUCamZmZmaOkQGZmZmZmTaVAzczMzMyUpUDNzMzMzDqlQDMzMzMztaVAmpmZmZnwpUAAAAAAABumQJqZmZmZK6dAzczMzMx8pUAAAAAAAL6lQGZmZmZmw6VAZmZmZmaLpUAAAAAAALClQAAAAAAAxKRAAAAAAAAypUAAAAAAADamQDMzMzMzIKZAmpmZmZnopEAzMzMzM76lQDMzMzMzF6ZAmpmZmZkRpkAzMzMzMy2nQDMzMzMzZ6VAMzMzMzMBpkAAAAAAAHqlQAAAAAAAiaVAZmZmZmaHpUAAAAAAANOlQJqZmZmZ/KRAZmZmZmbXpUAAAAAAAGClQM3MzMzMraVAMzMzMzPYpUCamZmZmTKlQJqZmZmZQqVAmpmZmZnNpUDNzMzMzKKlQJqZmZmZ9qVAZmZmZmaDpUAzMzMzMwmmQAAAAAAAEKZAMzMzMzMJpUDNzMzMzO6kQAAAAAAAE6VAAAAAAACppUAzMzMzM7ClQGZmZmZm46RAmpmZmZkkpUDNzMzMzC+lQGZmZmZmSqVAZmZmZmY2pUA=\",\"dtype\":\"float64\",\"shape\":[100]}}},\"id\":\"754cdf14-18ea-4c3a-bf47-5f4c7b7a1a45\",\"type\":\"ColumnDataSource\"},{\"attributes\":{\"callback\":null,\"column_names\":[\"x\",\"y\"],\"data\":{\"x\":[1,2,3,4,5,6,7,8,9,10,11,12,13,14,15,16,17,18,19,20,21,22,23,24,25,26,27,28,29,30,31,32,33,34,35,36,37,38,39,40,41,42,43,44,45,46,47,48,49,50,51,52,53,54,55,56,57,58,59,60,61,62,63,64,65,66,67,68,69,70,71,72,73,74,75,76,77,78,79,80,81,82,83,84,85,86,87,88,89,90,91,92,93,94,95,96,97,98,99,100],\"y\":{\"__ndarray__\":\"AAAAAEDzxUBmZmZmZq+7QGZmZmbm5rNAMzMzMzMRr0BmZmZmZvWsQDMzMzMziqpAZmZmZmYHqUCamZmZmQKoQDMzMzMzAKpAZmZmZmaMqUBmZmZmZp2pQM3MzMzMb6hAmpmZmZl/qEAzMzMzM+enQAAAAAAAWqdAmpmZmZn/p0AzMzMzM/OnQDMzMzMzNqhAZmZmZmbsp0CamZmZmbCmQAAAAAAA/adAzczMzMwwp0DNzMzMzBynQM3MzMzMEadAAAAAAABfp0DNzMzMzFanQAAAAAAA4qdAAAAAAACfp0BmZmZmZsGmQM3MzMzMJqdAZmZmZmbhpkDNzMzMzAunQDMzMzMzbKdAzczMzMw2p0CamZmZmSWnQJqZmZmZhKdAAAAAAAC3p0AzMzMzMxenQGZmZmZmZqdAMzMzMzMRp0CamZmZmRqnQGZmZmZmTqdAzczMzMyYp0AzMzMzMy2nQM3MzMzM/6ZAmpmZmZkjp0CamZmZmeimQGZmZmZm96ZAmpmZmZnVp0AAAAAAACanQJqZmZmZLadAAAAAAACep0AzMzMzM+2mQAAAAAAAb6dAAAAAAAB3p0AAAAAAAE2nQM3MzMzMWadAAAAAAACNp0AAAAAAAE+nQM3MzMzMiKdAAAAAAABMp0BmZmZmZhSnQM3MzMzMpqdAzczMzMwJp0DNzMzMzGOnQAAAAAAAH6dAmpmZmZmxp0AzMzMzM5+nQM3MzMzMLadAAAAAAABlp0AAAAAAAFenQM3MzMzMNadAZmZmZmbvpkCamZmZmfGmQM3MzMzMUKdAzczMzMxkp0DNzMzMzEKnQGZmZmZmhqdAmpmZmZkAp0AzMzMzM2enQDMzMzMza6dAzczMzMyMp0AzMzMzM3unQDMzMzMzRadAAAAAAABap0AzMzMzM1enQJqZmZmZMadAzczMzMxzp0CamZmZmUynQM3MzMzMe6dAmpmZmZmLp0AzMzMzM4SnQJqZmZmZs6hAzczMzMwhqkBmZmZmZrCnQAAAAAAA+6ZAmpmZmZn2p0CamZmZmZenQM3MzMzMOKhAAAAAAAD8p0A=\",\"dtype\":\"float64\",\"shape\":[100]}}},\"id\":\"17ece6e6-efc9-400d-b798-debe27b52d91\",\"type\":\"ColumnDataSource\"},{\"attributes\":{\"plot\":{\"id\":\"50350c46-a0b9-4ca9-a9a3-fd2c39413204\",\"subtype\":\"Figure\",\"type\":\"Plot\"},\"ticker\":{\"id\":\"d1bb7636-4626-4ae5-8921-509036e873bb\",\"type\":\"BasicTicker\"}},\"id\":\"98545016-a4e3-4f40-a49b-c18efc20210f\",\"type\":\"Grid\"},{\"attributes\":{\"below\":[{\"id\":\"4a7222b6-e546-4c5d-92ed-3a2d9656f32b\",\"type\":\"LinearAxis\"}],\"left\":[{\"id\":\"05c33f15-85ec-4d3a-bfa6-9c685722c9d9\",\"type\":\"LinearAxis\"}],\"renderers\":[{\"id\":\"4a7222b6-e546-4c5d-92ed-3a2d9656f32b\",\"type\":\"LinearAxis\"},{\"id\":\"98545016-a4e3-4f40-a49b-c18efc20210f\",\"type\":\"Grid\"},{\"id\":\"05c33f15-85ec-4d3a-bfa6-9c685722c9d9\",\"type\":\"LinearAxis\"},{\"id\":\"f4ee6410-877f-45ef-8b20-c97b29b268b5\",\"type\":\"Grid\"},{\"id\":\"9ec0d770-c5a0-4936-a311-8b2f4c67d84a\",\"type\":\"BoxAnnotation\"},{\"id\":\"20f37e1d-1983-4dfb-ac01-60493dd765b9\",\"type\":\"Legend\"},{\"id\":\"46f30467-db7c-4b73-9fbd-ea19d03796ec\",\"type\":\"GlyphRenderer\"},{\"id\":\"afeb58fc-8e30-4481-8d22-d4e827f42236\",\"type\":\"GlyphRenderer\"}],\"title\":{\"id\":\"157caceb-1261-4f5f-9fec-fb0f9a62e19f\",\"type\":\"Title\"},\"toolbar\":{\"id\":\"ffc3260c-b9a2-4bab-9f4c-0be6fa2f5006\",\"type\":\"Toolbar\"},\"x_range\":{\"id\":\"35435358-2a7c-47f6-8be9-eaf38f16e79b\",\"type\":\"DataRange1d\"},\"x_scale\":{\"id\":\"40464872-a34d-4285-a2e5-53cc16c982e1\",\"type\":\"LinearScale\"},\"y_range\":{\"id\":\"4683db32-d56b-4127-b904-24c9fdd0aab0\",\"type\":\"DataRange1d\"},\"y_scale\":{\"id\":\"c0290ae4-d02b-4214-9383-6a5a949b95d6\",\"type\":\"LinearScale\"}},\"id\":\"50350c46-a0b9-4ca9-a9a3-fd2c39413204\",\"subtype\":\"Figure\",\"type\":\"Plot\"},{\"attributes\":{},\"id\":\"c0290ae4-d02b-4214-9383-6a5a949b95d6\",\"type\":\"LinearScale\"},{\"attributes\":{\"bottom_units\":\"screen\",\"fill_alpha\":{\"value\":0.5},\"fill_color\":{\"value\":\"lightgrey\"},\"left_units\":\"screen\",\"level\":\"overlay\",\"line_alpha\":{\"value\":1.0},\"line_color\":{\"value\":\"black\"},\"line_dash\":[4,4],\"line_width\":{\"value\":2},\"plot\":null,\"render_mode\":\"css\",\"right_units\":\"screen\",\"top_units\":\"screen\"},\"id\":\"9ec0d770-c5a0-4936-a311-8b2f4c67d84a\",\"type\":\"BoxAnnotation\"}],\"root_ids\":[\"50350c46-a0b9-4ca9-a9a3-fd2c39413204\"]},\"title\":\"Bokeh Application\",\"version\":\"0.12.9\"}};\n",
       "    var render_items = [{\"docid\":\"8d9ae6f8-c3a7-486a-ae65-a3f46a302d27\",\"elementid\":\"2059ddda-a16f-4e21-878e-7d84676ed5cf\",\"modelid\":\"50350c46-a0b9-4ca9-a9a3-fd2c39413204\"}];\n",
       "\n",
       "    root.Bokeh.embed.embed_items(docs_json, render_items);\n",
       "  }\n",
       "\n",
       "  if (root.Bokeh !== undefined) {\n",
       "    embed_document(root);\n",
       "  } else {\n",
       "    var attempts = 0;\n",
       "    var timer = setInterval(function(root) {\n",
       "      if (root.Bokeh !== undefined) {\n",
       "        embed_document(root);\n",
       "        clearInterval(timer);\n",
       "      }\n",
       "      attempts++;\n",
       "      if (attempts > 100) {\n",
       "        console.log(\"Bokeh: ERROR: Unable to embed document because BokehJS library is missing\")\n",
       "        clearInterval(timer);\n",
       "      }\n",
       "    }, 10, root)\n",
       "  }\n",
       "})(window);"
      ],
      "application/vnd.bokehjs_exec.v0+json": ""
     },
     "metadata": {
      "application/vnd.bokehjs_exec.v0+json": {
       "id": "50350c46-a0b9-4ca9-a9a3-fd2c39413204"
      }
     },
     "output_type": "display_data"
    }
   ],
   "source": [
    "show(p1)"
   ]
  },
  {
   "cell_type": "code",
   "execution_count": 42,
   "metadata": {},
   "outputs": [],
   "source": [
    "# output to static HTML file\n",
    "output_file(\"Executors.newCachedThreadPool.html\")"
   ]
  },
  {
   "cell_type": "code",
   "execution_count": 43,
   "metadata": {},
   "outputs": [
    {
     "data": {
      "text/html": [
       "\n",
       "<div class=\"bk-root\">\n",
       "    <div class=\"bk-plotdiv\" id=\"214df066-102c-43a5-bfd5-e34ae282e56d\"></div>\n",
       "</div>"
      ]
     },
     "metadata": {},
     "output_type": "display_data"
    },
    {
     "data": {
      "application/javascript": [
       "(function(root) {\n",
       "  function embed_document(root) {\n",
       "    var docs_json = {\"93396d0a-1e04-41a3-89fe-7737c23c0474\":{\"roots\":{\"references\":[{\"attributes\":{\"callback\":null,\"column_names\":[\"x\",\"y\"],\"data\":{\"x\":[1,2,3,4,5,6,7,8,9,10,11,12,13,14,15,16,17,18,19,20,21,22,23,24,25,26,27,28,29,30,31,32,33,34,35,36,37,38,39,40,41,42,43,44,45,46,47,48,49,50,51,52,53,54,55,56,57,58,59,60,61,62,63,64,65,66,67,68,69,70,71,72,73,74,75,76,77,78,79,80,81,82,83,84,85,86,87,88,89,90,91,92,93,94,95,96,97,98,99,100],\"y\":{\"__ndarray__\":\"AAAAAEDzxUBmZmZmZq+7QGZmZmbm5rNAMzMzMzMRr0BmZmZmZvWsQDMzMzMziqpAZmZmZmYHqUCamZmZmQKoQDMzMzMzAKpAZmZmZmaMqUBmZmZmZp2pQM3MzMzMb6hAmpmZmZl/qEAzMzMzM+enQAAAAAAAWqdAmpmZmZn/p0AzMzMzM/OnQDMzMzMzNqhAZmZmZmbsp0CamZmZmbCmQAAAAAAA/adAzczMzMwwp0DNzMzMzBynQM3MzMzMEadAAAAAAABfp0DNzMzMzFanQAAAAAAA4qdAAAAAAACfp0BmZmZmZsGmQM3MzMzMJqdAZmZmZmbhpkDNzMzMzAunQDMzMzMzbKdAzczMzMw2p0CamZmZmSWnQJqZmZmZhKdAAAAAAAC3p0AzMzMzMxenQGZmZmZmZqdAMzMzMzMRp0CamZmZmRqnQGZmZmZmTqdAzczMzMyYp0AzMzMzMy2nQM3MzMzM/6ZAmpmZmZkjp0CamZmZmeimQGZmZmZm96ZAmpmZmZnVp0AAAAAAACanQJqZmZmZLadAAAAAAACep0AzMzMzM+2mQAAAAAAAb6dAAAAAAAB3p0AAAAAAAE2nQM3MzMzMWadAAAAAAACNp0AAAAAAAE+nQM3MzMzMiKdAAAAAAABMp0BmZmZmZhSnQM3MzMzMpqdAzczMzMwJp0DNzMzMzGOnQAAAAAAAH6dAmpmZmZmxp0AzMzMzM5+nQM3MzMzMLadAAAAAAABlp0AAAAAAAFenQM3MzMzMNadAZmZmZmbvpkCamZmZmfGmQM3MzMzMUKdAzczMzMxkp0DNzMzMzEKnQGZmZmZmhqdAmpmZmZkAp0AzMzMzM2enQDMzMzMza6dAzczMzMyMp0AzMzMzM3unQDMzMzMzRadAAAAAAABap0AzMzMzM1enQJqZmZmZMadAzczMzMxzp0CamZmZmUynQM3MzMzMe6dAmpmZmZmLp0AzMzMzM4SnQJqZmZmZs6hAzczMzMwhqkBmZmZmZrCnQAAAAAAA+6ZAmpmZmZn2p0CamZmZmZenQM3MzMzMOKhAAAAAAAD8p0A=\",\"dtype\":\"float64\",\"shape\":[100]}}},\"id\":\"ab44caff-1449-4e84-b252-040b37c564eb\",\"type\":\"ColumnDataSource\"},{\"attributes\":{},\"id\":\"115ee1fb-f45e-463b-8393-cb44f082d17b\",\"type\":\"BasicTicker\"},{\"attributes\":{\"plot\":{\"id\":\"87bc7ccc-f456-4883-8823-8329bba60fdc\",\"subtype\":\"Figure\",\"type\":\"Plot\"},\"ticker\":{\"id\":\"115ee1fb-f45e-463b-8393-cb44f082d17b\",\"type\":\"BasicTicker\"}},\"id\":\"81c22ae4-8bcd-40b2-b1ca-2ecea9a5a8c9\",\"type\":\"Grid\"},{\"attributes\":{\"axis_label\":\"# tasks\",\"formatter\":{\"id\":\"08f7ae6d-422d-4662-9c03-f685909a6276\",\"type\":\"BasicTickFormatter\"},\"plot\":{\"id\":\"87bc7ccc-f456-4883-8823-8329bba60fdc\",\"subtype\":\"Figure\",\"type\":\"Plot\"},\"ticker\":{\"id\":\"115ee1fb-f45e-463b-8393-cb44f082d17b\",\"type\":\"BasicTicker\"}},\"id\":\"f953073a-9116-437a-831a-18f96197945f\",\"type\":\"LinearAxis\"},{\"attributes\":{},\"id\":\"7d9434b9-15f0-4a39-8711-4e9e9dd935cf\",\"type\":\"BasicTicker\"},{\"attributes\":{\"axis_label\":\"time us\",\"formatter\":{\"id\":\"822c916f-98d3-48ec-80a0-7e98c0d951ec\",\"type\":\"BasicTickFormatter\"},\"plot\":{\"id\":\"87bc7ccc-f456-4883-8823-8329bba60fdc\",\"subtype\":\"Figure\",\"type\":\"Plot\"},\"ticker\":{\"id\":\"7d9434b9-15f0-4a39-8711-4e9e9dd935cf\",\"type\":\"BasicTicker\"}},\"id\":\"7c9f9ab7-f839-4fc3-92d5-4c5c6c9fdae2\",\"type\":\"LinearAxis\"},{\"attributes\":{},\"id\":\"ca31c3ee-b1ee-496f-b6cc-c9b383cc6ea7\",\"type\":\"LinearScale\"},{\"attributes\":{\"line_color\":{\"value\":\"#1f77b4\"},\"line_width\":{\"value\":3},\"x\":{\"field\":\"x\"},\"y\":{\"field\":\"y\"}},\"id\":\"10580fe3-370a-449e-89c1-6e13722b3de3\",\"type\":\"Line\"},{\"attributes\":{\"dimension\":1,\"plot\":{\"id\":\"87bc7ccc-f456-4883-8823-8329bba60fdc\",\"subtype\":\"Figure\",\"type\":\"Plot\"},\"ticker\":{\"id\":\"7d9434b9-15f0-4a39-8711-4e9e9dd935cf\",\"type\":\"BasicTicker\"}},\"id\":\"996eb70a-5823-441b-9053-d9e48fa31d8e\",\"type\":\"Grid\"},{\"attributes\":{},\"id\":\"738bab8a-44ff-4ae1-be2f-ec1da68e0ed6\",\"type\":\"LinearScale\"},{\"attributes\":{},\"id\":\"78589d67-fa3a-4e50-ba3b-5c9054172550\",\"type\":\"WheelZoomTool\"},{\"attributes\":{},\"id\":\"8c0c66fc-1b7b-4cc4-8733-d31697ed711f\",\"type\":\"PanTool\"},{\"attributes\":{\"bottom_units\":\"screen\",\"fill_alpha\":{\"value\":0.5},\"fill_color\":{\"value\":\"lightgrey\"},\"left_units\":\"screen\",\"level\":\"overlay\",\"line_alpha\":{\"value\":1.0},\"line_color\":{\"value\":\"black\"},\"line_dash\":[4,4],\"line_width\":{\"value\":2},\"plot\":null,\"render_mode\":\"css\",\"right_units\":\"screen\",\"top_units\":\"screen\"},\"id\":\"19951b8d-9f85-4398-94e8-827ea46e7d09\",\"type\":\"BoxAnnotation\"},{\"attributes\":{\"callback\":null},\"id\":\"132ebf60-dfb3-41c9-8a20-3bebd0a1c2ea\",\"type\":\"DataRange1d\"},{\"attributes\":{\"source\":{\"id\":\"a61746b2-01a4-4a95-b763-24e9c4240a99\",\"type\":\"ColumnDataSource\"}},\"id\":\"151eeda4-ad05-47b2-af0c-6c05d4b38b11\",\"type\":\"CDSView\"},{\"attributes\":{\"below\":[{\"id\":\"f953073a-9116-437a-831a-18f96197945f\",\"type\":\"LinearAxis\"}],\"left\":[{\"id\":\"7c9f9ab7-f839-4fc3-92d5-4c5c6c9fdae2\",\"type\":\"LinearAxis\"}],\"renderers\":[{\"id\":\"f953073a-9116-437a-831a-18f96197945f\",\"type\":\"LinearAxis\"},{\"id\":\"81c22ae4-8bcd-40b2-b1ca-2ecea9a5a8c9\",\"type\":\"Grid\"},{\"id\":\"7c9f9ab7-f839-4fc3-92d5-4c5c6c9fdae2\",\"type\":\"LinearAxis\"},{\"id\":\"996eb70a-5823-441b-9053-d9e48fa31d8e\",\"type\":\"Grid\"},{\"id\":\"19951b8d-9f85-4398-94e8-827ea46e7d09\",\"type\":\"BoxAnnotation\"},{\"id\":\"24be40b9-c44a-40aa-9fab-f751a9c2745f\",\"type\":\"Legend\"},{\"id\":\"a866c7b7-6e41-45ab-88af-98745255f4a2\",\"type\":\"GlyphRenderer\"},{\"id\":\"be0186f4-5775-4462-a861-63416f5b337a\",\"type\":\"GlyphRenderer\"}],\"title\":{\"id\":\"5cabf716-7535-4157-9e22-3970ee00e38a\",\"type\":\"Title\"},\"toolbar\":{\"id\":\"3ac030cb-f4ed-47f6-9e25-f6d5132c34cb\",\"type\":\"Toolbar\"},\"x_range\":{\"id\":\"132ebf60-dfb3-41c9-8a20-3bebd0a1c2ea\",\"type\":\"DataRange1d\"},\"x_scale\":{\"id\":\"ca31c3ee-b1ee-496f-b6cc-c9b383cc6ea7\",\"type\":\"LinearScale\"},\"y_range\":{\"id\":\"09ac5ec6-e678-40e9-82dc-dca18f6b977a\",\"type\":\"DataRange1d\"},\"y_scale\":{\"id\":\"738bab8a-44ff-4ae1-be2f-ec1da68e0ed6\",\"type\":\"LinearScale\"}},\"id\":\"87bc7ccc-f456-4883-8823-8329bba60fdc\",\"subtype\":\"Figure\",\"type\":\"Plot\"},{\"attributes\":{},\"id\":\"61757ce6-aa06-4d0b-81bd-0d1e3442a9ca\",\"type\":\"SaveTool\"},{\"attributes\":{\"overlay\":{\"id\":\"19951b8d-9f85-4398-94e8-827ea46e7d09\",\"type\":\"BoxAnnotation\"}},\"id\":\"97d52b72-c240-46df-ad68-4382926981c9\",\"type\":\"BoxZoomTool\"},{\"attributes\":{},\"id\":\"08f7ae6d-422d-4662-9c03-f685909a6276\",\"type\":\"BasicTickFormatter\"},{\"attributes\":{},\"id\":\"aa5febe8-0d05-46d8-ac6f-79f95f1d1d19\",\"type\":\"HelpTool\"},{\"attributes\":{\"active_drag\":\"auto\",\"active_inspect\":\"auto\",\"active_scroll\":\"auto\",\"active_tap\":\"auto\",\"tools\":[{\"id\":\"8c0c66fc-1b7b-4cc4-8733-d31697ed711f\",\"type\":\"PanTool\"},{\"id\":\"78589d67-fa3a-4e50-ba3b-5c9054172550\",\"type\":\"WheelZoomTool\"},{\"id\":\"97d52b72-c240-46df-ad68-4382926981c9\",\"type\":\"BoxZoomTool\"},{\"id\":\"61757ce6-aa06-4d0b-81bd-0d1e3442a9ca\",\"type\":\"SaveTool\"},{\"id\":\"b683cf92-bea1-49af-a379-93f9b643a8d9\",\"type\":\"ResetTool\"},{\"id\":\"aa5febe8-0d05-46d8-ac6f-79f95f1d1d19\",\"type\":\"HelpTool\"}]},\"id\":\"3ac030cb-f4ed-47f6-9e25-f6d5132c34cb\",\"type\":\"Toolbar\"},{\"attributes\":{},\"id\":\"b683cf92-bea1-49af-a379-93f9b643a8d9\",\"type\":\"ResetTool\"},{\"attributes\":{\"data_source\":{\"id\":\"ab44caff-1449-4e84-b252-040b37c564eb\",\"type\":\"ColumnDataSource\"},\"glyph\":{\"id\":\"1fed7d3b-1819-46d2-824e-4ce32bf01a04\",\"type\":\"Line\"},\"hover_glyph\":null,\"muted_glyph\":null,\"nonselection_glyph\":{\"id\":\"da89a7d3-7d25-4a2f-9eca-c4a882a4c08b\",\"type\":\"Line\"},\"selection_glyph\":null,\"view\":{\"id\":\"33830e98-6284-4130-aa48-3c0a682f969b\",\"type\":\"CDSView\"}},\"id\":\"a866c7b7-6e41-45ab-88af-98745255f4a2\",\"type\":\"GlyphRenderer\"},{\"attributes\":{\"line_color\":{\"value\":\"red\"},\"line_width\":{\"value\":3},\"x\":{\"field\":\"x\"},\"y\":{\"field\":\"y\"}},\"id\":\"1fed7d3b-1819-46d2-824e-4ce32bf01a04\",\"type\":\"Line\"},{\"attributes\":{\"line_alpha\":{\"value\":0.1},\"line_color\":{\"value\":\"#1f77b4\"},\"line_width\":{\"value\":3},\"x\":{\"field\":\"x\"},\"y\":{\"field\":\"y\"}},\"id\":\"d0994510-87e8-4660-866f-a1cf77ab766f\",\"type\":\"Line\"},{\"attributes\":{\"source\":{\"id\":\"ab44caff-1449-4e84-b252-040b37c564eb\",\"type\":\"ColumnDataSource\"}},\"id\":\"33830e98-6284-4130-aa48-3c0a682f969b\",\"type\":\"CDSView\"},{\"attributes\":{\"plot\":null,\"text\":\"Executors.newCachedThreadPool();\"},\"id\":\"5cabf716-7535-4157-9e22-3970ee00e38a\",\"type\":\"Title\"},{\"attributes\":{\"line_alpha\":{\"value\":0.1},\"line_color\":{\"value\":\"#1f77b4\"},\"line_width\":{\"value\":3},\"x\":{\"field\":\"x\"},\"y\":{\"field\":\"y\"}},\"id\":\"da89a7d3-7d25-4a2f-9eca-c4a882a4c08b\",\"type\":\"Line\"},{\"attributes\":{\"callback\":null,\"column_names\":[\"x\",\"y\"],\"data\":{\"x\":[1,2,3,4,5,6,7,8,9,10,11,12,13,14,15,16,17,18,19,20,21,22,23,24,25,26,27,28,29,30,31,32,33,34,35,36,37,38,39,40,41,42,43,44,45,46,47,48,49,50,51,52,53,54,55,56,57,58,59,60,61,62,63,64,65,66,67,68,69,70,71,72,73,74,75,76,77,78,79,80,81,82,83,84,85,86,87,88,89,90,91,92,93,94,95,96,97,98,99,100],\"y\":{\"__ndarray__\":\"AAAAAECsxUDNzMzMTDi7QM3MzMzMN7NAZmZmZmbbrUAzMzMzM6OpQGZmZmZm2ahAmpmZmZnSp0AAAAAAAGOmQJqZmZmZFalAAAAAAACeqEAzMzMzM7moQAAAAAAAZadAmpmZmZnhpkAzMzMzM1GmQAAAAAAA26VAzczMzMy/pUAAAAAAAOSlQGZmZmZm5KVAmpmZmZnnpUAAAAAAAI2lQDMzMzMzeKZAzczMzMx3pUBmZmZmZgClQM3MzMzMFKVAzczMzMyHpUDNzMzMzMakQJqZmZmZ5qRAZmZmZmarpEAzMzMzMwSlQAAAAAAAlKRAZmZmZmaGpECamZmZmZOkQM3MzMzM7KRAzczMzMwEpUBmZmZmZo+kQJqZmZmZ76RAAAAAAADupEBmZmZmZtGkQM3MzMzMX6RAzczMzMwVpUBmZmZmZv+kQM3MzMzMFqVAZmZmZmbspECamZmZmcSkQM3MzMzM9qRAZmZmZmb4pECamZmZmb+kQDMzMzMz5KRAzczMzMzKpEAAAAAAAJSkQJqZmZmZvqRAMzMzMzMopUAzMzMzM++kQGZmZmZm86RAZmZmZmazpEDNzMzMzOqkQM3MzMzMw6RAMzMzMzO3pEAAAAAAAK2kQGZmZmZmuqRAMzMzMzOepEDNzMzMzNakQGZmZmZmtaRAAAAAAADVpEAAAAAAAJekQM3MzMzM3KRAZmZmZmawpEDNzMzMzKekQDMzMzMzmaRAzczMzMywpEDNzMzMzNSkQM3MzMzMs6RAmpmZmZm2pEAzMzMzM7CkQJqZmZmZu6RAmpmZmZmjpECamZmZmcKkQJqZmZmZ2qRAmpmZmZm5pEAzMzMzM62kQGZmZmZmq6RAmpmZmZnTpEDNzMzMzMGkQM3MzMzMtaRAMzMzMzPXpEBmZmZmZgWlQM3MzMzMy6RAAAAAAAADpUCamZmZmeSkQJqZmZmZBaVAAAAAAAARpUDNzMzMzAelQAAAAAAA0qRAZmZmZmYxpUDNzMzMzBOlQM3MzMzMtKRAmpmZmZkupUBmZmZmZt6kQAAAAAAAyaRAMzMzMzOlpEA=\",\"dtype\":\"float64\",\"shape\":[100]}}},\"id\":\"a61746b2-01a4-4a95-b763-24e9c4240a99\",\"type\":\"ColumnDataSource\"},{\"attributes\":{\"callback\":null},\"id\":\"09ac5ec6-e678-40e9-82dc-dca18f6b977a\",\"type\":\"DataRange1d\"},{\"attributes\":{\"label\":{\"value\":\"Runnable\"},\"renderers\":[{\"id\":\"a866c7b7-6e41-45ab-88af-98745255f4a2\",\"type\":\"GlyphRenderer\"}]},\"id\":\"4bffc7bd-f7e0-4f86-a7f5-4080ac5b04f1\",\"type\":\"LegendItem\"},{\"attributes\":{\"items\":[{\"id\":\"4bffc7bd-f7e0-4f86-a7f5-4080ac5b04f1\",\"type\":\"LegendItem\"},{\"id\":\"5f20d414-1059-4fc3-b2f8-7e1a7ec2b8a0\",\"type\":\"LegendItem\"}],\"plot\":{\"id\":\"87bc7ccc-f456-4883-8823-8329bba60fdc\",\"subtype\":\"Figure\",\"type\":\"Plot\"}},\"id\":\"24be40b9-c44a-40aa-9fab-f751a9c2745f\",\"type\":\"Legend\"},{\"attributes\":{},\"id\":\"822c916f-98d3-48ec-80a0-7e98c0d951ec\",\"type\":\"BasicTickFormatter\"},{\"attributes\":{\"label\":{\"value\":\"Callable\"},\"renderers\":[{\"id\":\"be0186f4-5775-4462-a861-63416f5b337a\",\"type\":\"GlyphRenderer\"}]},\"id\":\"5f20d414-1059-4fc3-b2f8-7e1a7ec2b8a0\",\"type\":\"LegendItem\"},{\"attributes\":{\"data_source\":{\"id\":\"a61746b2-01a4-4a95-b763-24e9c4240a99\",\"type\":\"ColumnDataSource\"},\"glyph\":{\"id\":\"10580fe3-370a-449e-89c1-6e13722b3de3\",\"type\":\"Line\"},\"hover_glyph\":null,\"muted_glyph\":null,\"nonselection_glyph\":{\"id\":\"d0994510-87e8-4660-866f-a1cf77ab766f\",\"type\":\"Line\"},\"selection_glyph\":null,\"view\":{\"id\":\"151eeda4-ad05-47b2-af0c-6c05d4b38b11\",\"type\":\"CDSView\"}},\"id\":\"be0186f4-5775-4462-a861-63416f5b337a\",\"type\":\"GlyphRenderer\"}],\"root_ids\":[\"87bc7ccc-f456-4883-8823-8329bba60fdc\"]},\"title\":\"Bokeh Application\",\"version\":\"0.12.9\"}};\n",
       "    var render_items = [{\"docid\":\"93396d0a-1e04-41a3-89fe-7737c23c0474\",\"elementid\":\"214df066-102c-43a5-bfd5-e34ae282e56d\",\"modelid\":\"87bc7ccc-f456-4883-8823-8329bba60fdc\"}];\n",
       "\n",
       "    root.Bokeh.embed.embed_items(docs_json, render_items);\n",
       "  }\n",
       "\n",
       "  if (root.Bokeh !== undefined) {\n",
       "    embed_document(root);\n",
       "  } else {\n",
       "    var attempts = 0;\n",
       "    var timer = setInterval(function(root) {\n",
       "      if (root.Bokeh !== undefined) {\n",
       "        embed_document(root);\n",
       "        clearInterval(timer);\n",
       "      }\n",
       "      attempts++;\n",
       "      if (attempts > 100) {\n",
       "        console.log(\"Bokeh: ERROR: Unable to embed document because BokehJS library is missing\")\n",
       "        clearInterval(timer);\n",
       "      }\n",
       "    }, 10, root)\n",
       "  }\n",
       "})(window);"
      ],
      "application/vnd.bokehjs_exec.v0+json": ""
     },
     "metadata": {
      "application/vnd.bokehjs_exec.v0+json": {
       "id": "87bc7ccc-f456-4883-8823-8329bba60fdc"
      }
     },
     "output_type": "display_data"
    }
   ],
   "source": [
    "show(p2)"
   ]
  },
  {
   "cell_type": "code",
   "execution_count": null,
   "metadata": {},
   "outputs": [],
   "source": []
  }
 ],
 "metadata": {
  "kernelspec": {
   "display_name": "Python 3",
   "language": "python",
   "name": "python3"
  },
  "language_info": {
   "codemirror_mode": {
    "name": "ipython",
    "version": 3
   },
   "file_extension": ".py",
   "mimetype": "text/x-python",
   "name": "python",
   "nbconvert_exporter": "python",
   "pygments_lexer": "ipython3",
   "version": "3.6.2"
  }
 },
 "nbformat": 4,
 "nbformat_minor": 2
}
