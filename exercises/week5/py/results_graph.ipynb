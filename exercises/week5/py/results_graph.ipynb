{
 "cells": [
  {
   "cell_type": "code",
   "execution_count": 5,
   "metadata": {},
   "outputs": [
    {
     "data": {
      "text/html": [
       "\n",
       "    <div class=\"bk-root\">\n",
       "        <a href=\"https://bokeh.pydata.org\" target=\"_blank\" class=\"bk-logo bk-logo-small bk-logo-notebook\"></a>\n",
       "        <span id=\"1ba7a2c1-dc70-4c75-a0e6-01ceb3e3a485\">Loading BokehJS ...</span>\n",
       "    </div>"
      ]
     },
     "metadata": {},
     "output_type": "display_data"
    },
    {
     "data": {
      "application/javascript": [
       "\n",
       "(function(root) {\n",
       "  function now() {\n",
       "    return new Date();\n",
       "  }\n",
       "\n",
       "  var force = true;\n",
       "\n",
       "  if (typeof (root._bokeh_onload_callbacks) === \"undefined\" || force === true) {\n",
       "    root._bokeh_onload_callbacks = [];\n",
       "    root._bokeh_is_loading = undefined;\n",
       "  }\n",
       "\n",
       "  var JS_MIME_TYPE = 'application/javascript';\n",
       "  var HTML_MIME_TYPE = 'text/html';\n",
       "  var EXEC_MIME_TYPE = 'application/vnd.bokehjs_exec.v0+json';\n",
       "  var CLASS_NAME = 'output_bokeh rendered_html';\n",
       "\n",
       "  /**\n",
       "   * Render data to the DOM node\n",
       "   */\n",
       "  function render(props, node) {\n",
       "    var script = document.createElement(\"script\");\n",
       "    node.appendChild(script);\n",
       "  }\n",
       "\n",
       "  /**\n",
       "   * Handle when an output is cleared or removed\n",
       "   */\n",
       "  function handleClearOutput(event, handle) {\n",
       "    var cell = handle.cell;\n",
       "\n",
       "    var id = cell.output_area._bokeh_element_id;\n",
       "    var server_id = cell.output_area._bokeh_server_id;\n",
       "    // Clean up Bokeh references\n",
       "    if (id !== undefined) {\n",
       "      Bokeh.index[id].model.document.clear();\n",
       "      delete Bokeh.index[id];\n",
       "    }\n",
       "\n",
       "    if (server_id !== undefined) {\n",
       "      // Clean up Bokeh references\n",
       "      var cmd = \"from bokeh.io import _state; print(_state.uuid_to_server['\" + server_id + \"'].get_sessions()[0].document.roots[0]._id)\";\n",
       "      cell.notebook.kernel.execute(cmd, {\n",
       "        iopub: {\n",
       "          output: function(msg) {\n",
       "            var element_id = msg.content.text.trim();\n",
       "            Bokeh.index[element_id].model.document.clear();\n",
       "            delete Bokeh.index[element_id];\n",
       "          }\n",
       "        }\n",
       "      });\n",
       "      // Destroy server and session\n",
       "      var cmd = \"from bokeh import io; io._destroy_server('\" + server_id + \"')\";\n",
       "      cell.notebook.kernel.execute(cmd);\n",
       "    }\n",
       "  }\n",
       "\n",
       "  /**\n",
       "   * Handle when a new output is added\n",
       "   */\n",
       "  function handleAddOutput(event, handle) {\n",
       "    var output_area = handle.output_area;\n",
       "    var output = handle.output;\n",
       "\n",
       "    // limit handleAddOutput to display_data with EXEC_MIME_TYPE content only\n",
       "    if ((output.output_type != \"display_data\") || (!output.data.hasOwnProperty(EXEC_MIME_TYPE))) {\n",
       "      return\n",
       "    }\n",
       "\n",
       "    var toinsert = output_area.element.find(`.${CLASS_NAME.split(' ')[0]}`);\n",
       "\n",
       "    if (output.metadata[EXEC_MIME_TYPE][\"id\"] !== undefined) {\n",
       "      toinsert[0].firstChild.textContent = output.data[JS_MIME_TYPE];\n",
       "      // store reference to embed id on output_area\n",
       "      output_area._bokeh_element_id = output.metadata[EXEC_MIME_TYPE][\"id\"];\n",
       "    }\n",
       "    if (output.metadata[EXEC_MIME_TYPE][\"server_id\"] !== undefined) {\n",
       "      var bk_div = document.createElement(\"div\");\n",
       "      bk_div.innerHTML = output.data[HTML_MIME_TYPE];\n",
       "      var script_attrs = bk_div.children[0].attributes;\n",
       "      for (var i = 0; i < script_attrs.length; i++) {\n",
       "        toinsert[0].firstChild.setAttribute(script_attrs[i].name, script_attrs[i].value);\n",
       "      }\n",
       "      // store reference to server id on output_area\n",
       "      output_area._bokeh_server_id = output.metadata[EXEC_MIME_TYPE][\"server_id\"];\n",
       "    }\n",
       "  }\n",
       "\n",
       "  function register_renderer(events, OutputArea) {\n",
       "\n",
       "    function append_mime(data, metadata, element) {\n",
       "      // create a DOM node to render to\n",
       "      var toinsert = this.create_output_subarea(\n",
       "        metadata,\n",
       "        CLASS_NAME,\n",
       "        EXEC_MIME_TYPE\n",
       "      );\n",
       "      this.keyboard_manager.register_events(toinsert);\n",
       "      // Render to node\n",
       "      var props = {data: data, metadata: metadata[EXEC_MIME_TYPE]};\n",
       "      render(props, toinsert[0]);\n",
       "      element.append(toinsert);\n",
       "      return toinsert\n",
       "    }\n",
       "\n",
       "    /* Handle when an output is cleared or removed */\n",
       "    events.on('clear_output.CodeCell', handleClearOutput);\n",
       "    events.on('delete.Cell', handleClearOutput);\n",
       "\n",
       "    /* Handle when a new output is added */\n",
       "    events.on('output_added.OutputArea', handleAddOutput);\n",
       "\n",
       "    /**\n",
       "     * Register the mime type and append_mime function with output_area\n",
       "     */\n",
       "    OutputArea.prototype.register_mime_type(EXEC_MIME_TYPE, append_mime, {\n",
       "      /* Is output safe? */\n",
       "      safe: true,\n",
       "      /* Index of renderer in `output_area.display_order` */\n",
       "      index: 0\n",
       "    });\n",
       "  }\n",
       "\n",
       "  // register the mime type if in Jupyter Notebook environment and previously unregistered\n",
       "  if (root.Jupyter !== undefined) {\n",
       "    var events = require('base/js/events');\n",
       "    var OutputArea = require('notebook/js/outputarea').OutputArea;\n",
       "\n",
       "    if (OutputArea.prototype.mime_types().indexOf(EXEC_MIME_TYPE) == -1) {\n",
       "      register_renderer(events, OutputArea);\n",
       "    }\n",
       "  }\n",
       "\n",
       "  \n",
       "  if (typeof (root._bokeh_timeout) === \"undefined\" || force === true) {\n",
       "    root._bokeh_timeout = Date.now() + 5000;\n",
       "    root._bokeh_failed_load = false;\n",
       "  }\n",
       "\n",
       "  var NB_LOAD_WARNING = {'data': {'text/html':\n",
       "     \"<div style='background-color: #fdd'>\\n\"+\n",
       "     \"<p>\\n\"+\n",
       "     \"BokehJS does not appear to have successfully loaded. If loading BokehJS from CDN, this \\n\"+\n",
       "     \"may be due to a slow or bad network connection. Possible fixes:\\n\"+\n",
       "     \"</p>\\n\"+\n",
       "     \"<ul>\\n\"+\n",
       "     \"<li>re-rerun `output_notebook()` to attempt to load from CDN again, or</li>\\n\"+\n",
       "     \"<li>use INLINE resources instead, as so:</li>\\n\"+\n",
       "     \"</ul>\\n\"+\n",
       "     \"<code>\\n\"+\n",
       "     \"from bokeh.resources import INLINE\\n\"+\n",
       "     \"output_notebook(resources=INLINE)\\n\"+\n",
       "     \"</code>\\n\"+\n",
       "     \"</div>\"}};\n",
       "\n",
       "  function display_loaded() {\n",
       "    var el = document.getElementById(\"1ba7a2c1-dc70-4c75-a0e6-01ceb3e3a485\");\n",
       "    if (el != null) {\n",
       "      el.textContent = \"BokehJS is loading...\";\n",
       "    }\n",
       "    if (root.Bokeh !== undefined) {\n",
       "      if (el != null) {\n",
       "        el.textContent = \"BokehJS \" + root.Bokeh.version + \" successfully loaded.\";\n",
       "      }\n",
       "    } else if (Date.now() < root._bokeh_timeout) {\n",
       "      setTimeout(display_loaded, 100)\n",
       "    }\n",
       "  }\n",
       "\n",
       "\n",
       "  function run_callbacks() {\n",
       "    try {\n",
       "      root._bokeh_onload_callbacks.forEach(function(callback) { callback() });\n",
       "    }\n",
       "    finally {\n",
       "      delete root._bokeh_onload_callbacks\n",
       "    }\n",
       "    console.info(\"Bokeh: all callbacks have finished\");\n",
       "  }\n",
       "\n",
       "  function load_libs(js_urls, callback) {\n",
       "    root._bokeh_onload_callbacks.push(callback);\n",
       "    if (root._bokeh_is_loading > 0) {\n",
       "      console.log(\"Bokeh: BokehJS is being loaded, scheduling callback at\", now());\n",
       "      return null;\n",
       "    }\n",
       "    if (js_urls == null || js_urls.length === 0) {\n",
       "      run_callbacks();\n",
       "      return null;\n",
       "    }\n",
       "    console.log(\"Bokeh: BokehJS not loaded, scheduling load and callback at\", now());\n",
       "    root._bokeh_is_loading = js_urls.length;\n",
       "    for (var i = 0; i < js_urls.length; i++) {\n",
       "      var url = js_urls[i];\n",
       "      var s = document.createElement('script');\n",
       "      s.src = url;\n",
       "      s.async = false;\n",
       "      s.onreadystatechange = s.onload = function() {\n",
       "        root._bokeh_is_loading--;\n",
       "        if (root._bokeh_is_loading === 0) {\n",
       "          console.log(\"Bokeh: all BokehJS libraries loaded\");\n",
       "          run_callbacks()\n",
       "        }\n",
       "      };\n",
       "      s.onerror = function() {\n",
       "        console.warn(\"failed to load library \" + url);\n",
       "      };\n",
       "      console.log(\"Bokeh: injecting script tag for BokehJS library: \", url);\n",
       "      document.getElementsByTagName(\"head\")[0].appendChild(s);\n",
       "    }\n",
       "  };var element = document.getElementById(\"1ba7a2c1-dc70-4c75-a0e6-01ceb3e3a485\");\n",
       "  if (element == null) {\n",
       "    console.log(\"Bokeh: ERROR: autoload.js configured with elementid '1ba7a2c1-dc70-4c75-a0e6-01ceb3e3a485' but no matching script tag was found. \")\n",
       "    return false;\n",
       "  }\n",
       "\n",
       "  var js_urls = [\"https://cdn.pydata.org/bokeh/release/bokeh-0.12.9.min.js\", \"https://cdn.pydata.org/bokeh/release/bokeh-widgets-0.12.9.min.js\", \"https://cdn.pydata.org/bokeh/release/bokeh-tables-0.12.9.min.js\", \"https://cdn.pydata.org/bokeh/release/bokeh-gl-0.12.9.min.js\"];\n",
       "\n",
       "  var inline_js = [\n",
       "    function(Bokeh) {\n",
       "      Bokeh.set_log_level(\"info\");\n",
       "    },\n",
       "    \n",
       "    function(Bokeh) {\n",
       "      \n",
       "    },\n",
       "    function(Bokeh) {\n",
       "      console.log(\"Bokeh: injecting CSS: https://cdn.pydata.org/bokeh/release/bokeh-0.12.9.min.css\");\n",
       "      Bokeh.embed.inject_css(\"https://cdn.pydata.org/bokeh/release/bokeh-0.12.9.min.css\");\n",
       "      console.log(\"Bokeh: injecting CSS: https://cdn.pydata.org/bokeh/release/bokeh-widgets-0.12.9.min.css\");\n",
       "      Bokeh.embed.inject_css(\"https://cdn.pydata.org/bokeh/release/bokeh-widgets-0.12.9.min.css\");\n",
       "      console.log(\"Bokeh: injecting CSS: https://cdn.pydata.org/bokeh/release/bokeh-tables-0.12.9.min.css\");\n",
       "      Bokeh.embed.inject_css(\"https://cdn.pydata.org/bokeh/release/bokeh-tables-0.12.9.min.css\");\n",
       "    }\n",
       "  ];\n",
       "\n",
       "  function run_inline_js() {\n",
       "    \n",
       "    if ((root.Bokeh !== undefined) || (force === true)) {\n",
       "      for (var i = 0; i < inline_js.length; i++) {\n",
       "        inline_js[i].call(root, root.Bokeh);\n",
       "      }if (force === true) {\n",
       "        display_loaded();\n",
       "      }} else if (Date.now() < root._bokeh_timeout) {\n",
       "      setTimeout(run_inline_js, 100);\n",
       "    } else if (!root._bokeh_failed_load) {\n",
       "      console.log(\"Bokeh: BokehJS failed to load within specified timeout.\");\n",
       "      root._bokeh_failed_load = true;\n",
       "    } else if (force !== true) {\n",
       "      var cell = $(document.getElementById(\"1ba7a2c1-dc70-4c75-a0e6-01ceb3e3a485\")).parents('.cell').data().cell;\n",
       "      cell.output_area.append_execute_result(NB_LOAD_WARNING)\n",
       "    }\n",
       "\n",
       "  }\n",
       "\n",
       "  if (root._bokeh_is_loading === 0) {\n",
       "    console.log(\"Bokeh: BokehJS loaded, going straight to plotting\");\n",
       "    run_inline_js();\n",
       "  } else {\n",
       "    load_libs(js_urls, function() {\n",
       "      console.log(\"Bokeh: BokehJS plotting callback run at\", now());\n",
       "      run_inline_js();\n",
       "    });\n",
       "  }\n",
       "}(window));"
      ],
      "application/vnd.bokehjs_load.v0+json": "\n(function(root) {\n  function now() {\n    return new Date();\n  }\n\n  var force = true;\n\n  if (typeof (root._bokeh_onload_callbacks) === \"undefined\" || force === true) {\n    root._bokeh_onload_callbacks = [];\n    root._bokeh_is_loading = undefined;\n  }\n\n  \n\n  \n  if (typeof (root._bokeh_timeout) === \"undefined\" || force === true) {\n    root._bokeh_timeout = Date.now() + 5000;\n    root._bokeh_failed_load = false;\n  }\n\n  var NB_LOAD_WARNING = {'data': {'text/html':\n     \"<div style='background-color: #fdd'>\\n\"+\n     \"<p>\\n\"+\n     \"BokehJS does not appear to have successfully loaded. If loading BokehJS from CDN, this \\n\"+\n     \"may be due to a slow or bad network connection. Possible fixes:\\n\"+\n     \"</p>\\n\"+\n     \"<ul>\\n\"+\n     \"<li>re-rerun `output_notebook()` to attempt to load from CDN again, or</li>\\n\"+\n     \"<li>use INLINE resources instead, as so:</li>\\n\"+\n     \"</ul>\\n\"+\n     \"<code>\\n\"+\n     \"from bokeh.resources import INLINE\\n\"+\n     \"output_notebook(resources=INLINE)\\n\"+\n     \"</code>\\n\"+\n     \"</div>\"}};\n\n  function display_loaded() {\n    var el = document.getElementById(\"1ba7a2c1-dc70-4c75-a0e6-01ceb3e3a485\");\n    if (el != null) {\n      el.textContent = \"BokehJS is loading...\";\n    }\n    if (root.Bokeh !== undefined) {\n      if (el != null) {\n        el.textContent = \"BokehJS \" + root.Bokeh.version + \" successfully loaded.\";\n      }\n    } else if (Date.now() < root._bokeh_timeout) {\n      setTimeout(display_loaded, 100)\n    }\n  }\n\n\n  function run_callbacks() {\n    try {\n      root._bokeh_onload_callbacks.forEach(function(callback) { callback() });\n    }\n    finally {\n      delete root._bokeh_onload_callbacks\n    }\n    console.info(\"Bokeh: all callbacks have finished\");\n  }\n\n  function load_libs(js_urls, callback) {\n    root._bokeh_onload_callbacks.push(callback);\n    if (root._bokeh_is_loading > 0) {\n      console.log(\"Bokeh: BokehJS is being loaded, scheduling callback at\", now());\n      return null;\n    }\n    if (js_urls == null || js_urls.length === 0) {\n      run_callbacks();\n      return null;\n    }\n    console.log(\"Bokeh: BokehJS not loaded, scheduling load and callback at\", now());\n    root._bokeh_is_loading = js_urls.length;\n    for (var i = 0; i < js_urls.length; i++) {\n      var url = js_urls[i];\n      var s = document.createElement('script');\n      s.src = url;\n      s.async = false;\n      s.onreadystatechange = s.onload = function() {\n        root._bokeh_is_loading--;\n        if (root._bokeh_is_loading === 0) {\n          console.log(\"Bokeh: all BokehJS libraries loaded\");\n          run_callbacks()\n        }\n      };\n      s.onerror = function() {\n        console.warn(\"failed to load library \" + url);\n      };\n      console.log(\"Bokeh: injecting script tag for BokehJS library: \", url);\n      document.getElementsByTagName(\"head\")[0].appendChild(s);\n    }\n  };var element = document.getElementById(\"1ba7a2c1-dc70-4c75-a0e6-01ceb3e3a485\");\n  if (element == null) {\n    console.log(\"Bokeh: ERROR: autoload.js configured with elementid '1ba7a2c1-dc70-4c75-a0e6-01ceb3e3a485' but no matching script tag was found. \")\n    return false;\n  }\n\n  var js_urls = [\"https://cdn.pydata.org/bokeh/release/bokeh-0.12.9.min.js\", \"https://cdn.pydata.org/bokeh/release/bokeh-widgets-0.12.9.min.js\", \"https://cdn.pydata.org/bokeh/release/bokeh-tables-0.12.9.min.js\", \"https://cdn.pydata.org/bokeh/release/bokeh-gl-0.12.9.min.js\"];\n\n  var inline_js = [\n    function(Bokeh) {\n      Bokeh.set_log_level(\"info\");\n    },\n    \n    function(Bokeh) {\n      \n    },\n    function(Bokeh) {\n      console.log(\"Bokeh: injecting CSS: https://cdn.pydata.org/bokeh/release/bokeh-0.12.9.min.css\");\n      Bokeh.embed.inject_css(\"https://cdn.pydata.org/bokeh/release/bokeh-0.12.9.min.css\");\n      console.log(\"Bokeh: injecting CSS: https://cdn.pydata.org/bokeh/release/bokeh-widgets-0.12.9.min.css\");\n      Bokeh.embed.inject_css(\"https://cdn.pydata.org/bokeh/release/bokeh-widgets-0.12.9.min.css\");\n      console.log(\"Bokeh: injecting CSS: https://cdn.pydata.org/bokeh/release/bokeh-tables-0.12.9.min.css\");\n      Bokeh.embed.inject_css(\"https://cdn.pydata.org/bokeh/release/bokeh-tables-0.12.9.min.css\");\n    }\n  ];\n\n  function run_inline_js() {\n    \n    if ((root.Bokeh !== undefined) || (force === true)) {\n      for (var i = 0; i < inline_js.length; i++) {\n        inline_js[i].call(root, root.Bokeh);\n      }if (force === true) {\n        display_loaded();\n      }} else if (Date.now() < root._bokeh_timeout) {\n      setTimeout(run_inline_js, 100);\n    } else if (!root._bokeh_failed_load) {\n      console.log(\"Bokeh: BokehJS failed to load within specified timeout.\");\n      root._bokeh_failed_load = true;\n    } else if (force !== true) {\n      var cell = $(document.getElementById(\"1ba7a2c1-dc70-4c75-a0e6-01ceb3e3a485\")).parents('.cell').data().cell;\n      cell.output_area.append_execute_result(NB_LOAD_WARNING)\n    }\n\n  }\n\n  if (root._bokeh_is_loading === 0) {\n    console.log(\"Bokeh: BokehJS loaded, going straight to plotting\");\n    run_inline_js();\n  } else {\n    load_libs(js_urls, function() {\n      console.log(\"Bokeh: BokehJS plotting callback run at\", now());\n      run_inline_js();\n    });\n  }\n}(window));"
     },
     "metadata": {},
     "output_type": "display_data"
    }
   ],
   "source": [
    "import pandas as pa\n",
    "from bokeh.plotting import figure, output_file, show\n",
    "from bokeh.io import output_notebook\n",
    "output_notebook()"
   ]
  },
  {
   "cell_type": "code",
   "execution_count": 6,
   "metadata": {},
   "outputs": [],
   "source": [
    "path_w = 'newWorkStealingPoolData.txt'\n",
    "path_c = 'newCachedThreadPoolData.txt'\n",
    "path_atomic_w = 'atomicLongWorkStealing.txt'\n",
    "path_atomic_c = 'atomicLongCached.txt'"
   ]
  },
  {
   "cell_type": "code",
   "execution_count": 7,
   "metadata": {},
   "outputs": [],
   "source": [
    "converters = {\n",
    "    1: lambda x: int(x),\n",
    "    2: lambda x: float(x),\n",
    "    4: lambda x: float(x),\n",
    "    5: lambda x: int(x),\n",
    "}"
   ]
  },
  {
   "cell_type": "code",
   "execution_count": 8,
   "metadata": {},
   "outputs": [],
   "source": [
    "names = [\"parTask\", \"taskCount\",\n",
    "         \"time\", \"us\", \"-\", \"taskCount\"]"
   ]
  },
  {
   "cell_type": "code",
   "execution_count": 9,
   "metadata": {},
   "outputs": [],
   "source": [
    "data = pa.read_csv(path_w, delim_whitespace=True, \n",
    "                   header=None, names=names,\n",
    "                   converters=converters, skiprows=12)\n",
    "\n",
    "data_c = pa.read_csv(path_c, delim_whitespace=True, \n",
    "                   header=None, names=names,\n",
    "                   converters=converters, skiprows=12)\n",
    "\n",
    "data_atomic_c = pa.read_csv(path_atomic_c, delim_whitespace=True, \n",
    "                   header=None, names=names,\n",
    "                   converters=converters, skiprows=12)\n",
    "\n",
    "# Data atomicLongWorkStealing\n",
    "data_atomic_w = pa.read_csv(path_atomic_w, delim_whitespace=True, \n",
    "                   header=None, names=names,\n",
    "                   converters=converters, skiprows=12)"
   ]
  },
  {
   "cell_type": "code",
   "execution_count": 10,
   "metadata": {},
   "outputs": [],
   "source": [
    "data = data.drop('us', 1)\n",
    "data_c = data_c.drop('us', 1)\n",
    "data_atomic_c = data_atomic_c.drop('us', 1)"
   ]
  },
  {
   "cell_type": "code",
   "execution_count": 11,
   "metadata": {},
   "outputs": [],
   "source": [
    "runnable = data[:100]\n",
    "callable_ = data[100:]\n",
    "\n",
    "runnable_c = data_c[:100]\n",
    "callable_c = data_c[100:]\n",
    "\n",
    "# LongAdder cached executor\n",
    "runnable_atomic_c = data_atomic_c[:100]\n",
    "callable_atomic_c = data_atomic_c[100:]\n",
    "\n",
    "# LongAdder atomicLongWorkStealing executor\n",
    "runnable_atomic_w = data_atomic_w[:100]\n",
    "callable_atomic_w = data_atomic_w[100:]"
   ]
  },
  {
   "cell_type": "code",
   "execution_count": 12,
   "metadata": {},
   "outputs": [],
   "source": [
    "X_run = runnable[\"taskCount\"]\n",
    "Y_run = runnable[\"time\"]\n",
    "\n",
    "X_call = callable_[\"taskCount\"]\n",
    "Y_call = callable_[\"time\"]\n",
    "\n",
    "X_run_c = runnable_c[\"taskCount\"]\n",
    "Y_run_c = runnable[\"time\"]\n",
    "\n",
    "X_call_c = callable_c[\"taskCount\"]\n",
    "Y_call_c = callable_c[\"time\"]\n",
    "\n",
    "# LongAdder cached executor\n",
    "X_run_atomic_c = runnable_atomic_c[\"taskCount\"]\n",
    "Y_run_atomic_c = runnable_atomic_c[\"time\"]\n",
    "\n",
    "X_call_atomic_c = callable_atomic_c[\"taskCount\"]\n",
    "Y_call_atomic_c = callable_atomic_c[\"time\"]\n",
    "\n",
    "# LongAdder atomicLongWorkStealing executor\n",
    "X_run_atomic_w = runnable_atomic_w[\"taskCount\"]\n",
    "Y_run_atomic_w = runnable_atomic_w[\"time\"]\n",
    "\n",
    "X_call_atomic_w = callable_atomic_w[\"taskCount\"]\n",
    "Y_call_atomic_w = callable_atomic_w[\"time\"]"
   ]
  },
  {
   "cell_type": "code",
   "execution_count": 13,
   "metadata": {},
   "outputs": [],
   "source": [
    "# new plot\n",
    "p1 = figure(\n",
    "    title=\"Executors.newWorkStealingPooll();\",\n",
    "    x_axis_label='# tasks', y_axis_label='time us'\n",
    ")\n",
    "\n",
    "# new plot\n",
    "p2 = figure(\n",
    "    title=\"Executors.newCachedThreadPool();\",\n",
    "    x_axis_label='# tasks', y_axis_label='time us'\n",
    ")\n",
    "\n",
    "# new plot\n",
    "p3 = figure(\n",
    "    title=\"LongAdder(): Executors.newCachedThreadPool();\",\n",
    "    x_axis_label='# tasks', y_axis_label='time us'\n",
    ")\n",
    "\n",
    "# new plot atomicLongWorkStealing\n",
    "p4 = figure(\n",
    "    title=\"LongAdder(): Executors.atomicLongWorkStealing();\",\n",
    "    x_axis_label='# tasks', y_axis_label='time us'\n",
    ")"
   ]
  },
  {
   "cell_type": "code",
   "execution_count": 14,
   "metadata": {},
   "outputs": [
    {
     "data": {
      "text/html": [
       "<div style=\"display: table;\"><div style=\"display: table-row;\"><div style=\"display: table-cell;\"><b title=\"bokeh.models.renderers.GlyphRenderer\">GlyphRenderer</b>(</div><div style=\"display: table-cell;\">id&nbsp;=&nbsp;'5b591cd9-c038-4eb7-9128-2091ad16f4ff', <span id=\"653577e9-742c-4878-b671-b9d6c8dc3c98\" style=\"cursor: pointer;\">&hellip;)</span></div></div><div class=\"2e57e44f-1f0b-4b79-a99f-fabc7a6931d0\" style=\"display: none;\"><div style=\"display: table-cell;\"></div><div style=\"display: table-cell;\">data_source&nbsp;=&nbsp;ColumnDataSource(id='db8acc62-6316-45b2-9354-1ff666fee3e0', ...),</div></div><div class=\"2e57e44f-1f0b-4b79-a99f-fabc7a6931d0\" style=\"display: none;\"><div style=\"display: table-cell;\"></div><div style=\"display: table-cell;\">glyph&nbsp;=&nbsp;Line(id='1eb88dd3-dc7f-4ae2-8c13-7444d510d9f3', ...),</div></div><div class=\"2e57e44f-1f0b-4b79-a99f-fabc7a6931d0\" style=\"display: none;\"><div style=\"display: table-cell;\"></div><div style=\"display: table-cell;\">hover_glyph&nbsp;=&nbsp;None,</div></div><div class=\"2e57e44f-1f0b-4b79-a99f-fabc7a6931d0\" style=\"display: none;\"><div style=\"display: table-cell;\"></div><div style=\"display: table-cell;\">js_event_callbacks&nbsp;=&nbsp;{},</div></div><div class=\"2e57e44f-1f0b-4b79-a99f-fabc7a6931d0\" style=\"display: none;\"><div style=\"display: table-cell;\"></div><div style=\"display: table-cell;\">js_property_callbacks&nbsp;=&nbsp;{},</div></div><div class=\"2e57e44f-1f0b-4b79-a99f-fabc7a6931d0\" style=\"display: none;\"><div style=\"display: table-cell;\"></div><div style=\"display: table-cell;\">level&nbsp;=&nbsp;'glyph',</div></div><div class=\"2e57e44f-1f0b-4b79-a99f-fabc7a6931d0\" style=\"display: none;\"><div style=\"display: table-cell;\"></div><div style=\"display: table-cell;\">muted&nbsp;=&nbsp;False,</div></div><div class=\"2e57e44f-1f0b-4b79-a99f-fabc7a6931d0\" style=\"display: none;\"><div style=\"display: table-cell;\"></div><div style=\"display: table-cell;\">muted_glyph&nbsp;=&nbsp;None,</div></div><div class=\"2e57e44f-1f0b-4b79-a99f-fabc7a6931d0\" style=\"display: none;\"><div style=\"display: table-cell;\"></div><div style=\"display: table-cell;\">name&nbsp;=&nbsp;None,</div></div><div class=\"2e57e44f-1f0b-4b79-a99f-fabc7a6931d0\" style=\"display: none;\"><div style=\"display: table-cell;\"></div><div style=\"display: table-cell;\">nonselection_glyph&nbsp;=&nbsp;Line(id='15706e79-616e-45f7-9884-d22f64175ade', ...),</div></div><div class=\"2e57e44f-1f0b-4b79-a99f-fabc7a6931d0\" style=\"display: none;\"><div style=\"display: table-cell;\"></div><div style=\"display: table-cell;\">selection_glyph&nbsp;=&nbsp;None,</div></div><div class=\"2e57e44f-1f0b-4b79-a99f-fabc7a6931d0\" style=\"display: none;\"><div style=\"display: table-cell;\"></div><div style=\"display: table-cell;\">subscribed_events&nbsp;=&nbsp;[],</div></div><div class=\"2e57e44f-1f0b-4b79-a99f-fabc7a6931d0\" style=\"display: none;\"><div style=\"display: table-cell;\"></div><div style=\"display: table-cell;\">tags&nbsp;=&nbsp;[],</div></div><div class=\"2e57e44f-1f0b-4b79-a99f-fabc7a6931d0\" style=\"display: none;\"><div style=\"display: table-cell;\"></div><div style=\"display: table-cell;\">view&nbsp;=&nbsp;CDSView(id='fd8aabc5-ea63-44ca-ac1e-cfc186e8495a', ...),</div></div><div class=\"2e57e44f-1f0b-4b79-a99f-fabc7a6931d0\" style=\"display: none;\"><div style=\"display: table-cell;\"></div><div style=\"display: table-cell;\">visible&nbsp;=&nbsp;True,</div></div><div class=\"2e57e44f-1f0b-4b79-a99f-fabc7a6931d0\" style=\"display: none;\"><div style=\"display: table-cell;\"></div><div style=\"display: table-cell;\">x_range_name&nbsp;=&nbsp;'default',</div></div><div class=\"2e57e44f-1f0b-4b79-a99f-fabc7a6931d0\" style=\"display: none;\"><div style=\"display: table-cell;\"></div><div style=\"display: table-cell;\">y_range_name&nbsp;=&nbsp;'default')</div></div></div>\n",
       "<script>\n",
       "(function() {\n",
       "  var expanded = false;\n",
       "  var ellipsis = document.getElementById(\"653577e9-742c-4878-b671-b9d6c8dc3c98\");\n",
       "  ellipsis.addEventListener(\"click\", function() {\n",
       "    var rows = document.getElementsByClassName(\"2e57e44f-1f0b-4b79-a99f-fabc7a6931d0\");\n",
       "    for (var i = 0; i < rows.length; i++) {\n",
       "      var el = rows[i];\n",
       "      el.style.display = expanded ? \"none\" : \"table-row\";\n",
       "    }\n",
       "    ellipsis.innerHTML = expanded ? \"&hellip;)\" : \"&lsaquo;&lsaquo;&lsaquo;\";\n",
       "    expanded = !expanded;\n",
       "  });\n",
       "})();\n",
       "</script>\n"
      ],
      "text/plain": [
       "GlyphRenderer(id='5b591cd9-c038-4eb7-9128-2091ad16f4ff', ...)"
      ]
     },
     "execution_count": 14,
     "metadata": {},
     "output_type": "execute_result"
    }
   ],
   "source": [
    "# renders\n",
    "p1.line(X_run, Y_run, legend=\"Runnable\", line_color=\"red\", line_width=3)\n",
    "p1.line(X_call, Y_call, legend=\"Callable\", line_width=3)\n",
    "\n",
    "p2.line(X_run_c, Y_run_c, legend=\"Runnable\", line_color=\"red\", line_width=3)\n",
    "p2.line(X_call_c, Y_call_c, legend=\"Callable\", line_width=3)\n",
    "\n",
    "p3.line(X_run_atomic_c, Y_run_atomic_c, legend=\"Runnable\", line_color=\"red\", line_width=3)\n",
    "p3.line(X_call_atomic_c, Y_call_atomic_c, legend=\"Callable\", line_width=3)\n",
    "\n",
    "p4.line(X_run_atomic_w, Y_run_atomic_w, legend=\"Runnable\", line_color=\"red\", line_width=3)\n",
    "p4.line(X_call_atomic_w, Y_call_atomic_w, legend=\"Callable\", line_width=3)"
   ]
  },
  {
   "cell_type": "code",
   "execution_count": 15,
   "metadata": {},
   "outputs": [],
   "source": [
    "# output to static HTML file\n",
    "output_file(\"Executors.newWorkStealingPool.html\")"
   ]
  },
  {
   "cell_type": "code",
   "execution_count": 16,
   "metadata": {},
   "outputs": [
    {
     "data": {
      "text/html": [
       "\n",
       "<div class=\"bk-root\">\n",
       "    <div class=\"bk-plotdiv\" id=\"06639c01-5ef1-4dde-aba8-56be09af3147\"></div>\n",
       "</div>"
      ]
     },
     "metadata": {},
     "output_type": "display_data"
    },
    {
     "data": {
      "application/javascript": [
       "(function(root) {\n",
       "  function embed_document(root) {\n",
       "    var docs_json = {\"88bc0dcc-bd76-4e46-95f9-bf8e482ae385\":{\"roots\":{\"references\":[{\"attributes\":{\"callback\":null},\"id\":\"0ae57905-6205-47de-a018-c79971b2150b\",\"type\":\"DataRange1d\"},{\"attributes\":{\"dimension\":1,\"plot\":{\"id\":\"dbaf87cf-99d6-414a-b85a-54b3ab272cca\",\"subtype\":\"Figure\",\"type\":\"Plot\"},\"ticker\":{\"id\":\"e44385c6-3e8b-44ec-9625-8b4b8627e7fb\",\"type\":\"BasicTicker\"}},\"id\":\"a1d2589d-0e67-48fd-96e2-5dae8606cda0\",\"type\":\"Grid\"},{\"attributes\":{},\"id\":\"e7430076-347b-43ee-8a24-b75166182f07\",\"type\":\"LinearScale\"},{\"attributes\":{},\"id\":\"3e6e122d-fa40-47db-b591-2df39ca47ed8\",\"type\":\"BasicTicker\"},{\"attributes\":{\"bottom_units\":\"screen\",\"fill_alpha\":{\"value\":0.5},\"fill_color\":{\"value\":\"lightgrey\"},\"left_units\":\"screen\",\"level\":\"overlay\",\"line_alpha\":{\"value\":1.0},\"line_color\":{\"value\":\"black\"},\"line_dash\":[4,4],\"line_width\":{\"value\":2},\"plot\":null,\"render_mode\":\"css\",\"right_units\":\"screen\",\"top_units\":\"screen\"},\"id\":\"1ddccd3b-0015-4366-9d55-9c5451e52024\",\"type\":\"BoxAnnotation\"},{\"attributes\":{\"data_source\":{\"id\":\"087becb0-93b8-4bb9-b303-c73bd2fc3899\",\"type\":\"ColumnDataSource\"},\"glyph\":{\"id\":\"de474d50-a452-40b8-a4e1-4ebef21b8a8d\",\"type\":\"Line\"},\"hover_glyph\":null,\"muted_glyph\":null,\"nonselection_glyph\":{\"id\":\"35c5a07f-93ca-4d2f-b281-b31360800a3d\",\"type\":\"Line\"},\"selection_glyph\":null,\"view\":{\"id\":\"86ec48b0-8782-446c-9bc1-92653c5f76d7\",\"type\":\"CDSView\"}},\"id\":\"d6113870-d523-4019-b58e-0f140a040e5f\",\"type\":\"GlyphRenderer\"},{\"attributes\":{\"data_source\":{\"id\":\"e02ad1c4-f4f5-47d7-a68f-5efb125e573d\",\"type\":\"ColumnDataSource\"},\"glyph\":{\"id\":\"e05c43d2-fb4a-47fa-810f-5cf949f04e00\",\"type\":\"Line\"},\"hover_glyph\":null,\"muted_glyph\":null,\"nonselection_glyph\":{\"id\":\"534d0da3-a495-4cd3-8391-44e38b23516e\",\"type\":\"Line\"},\"selection_glyph\":null,\"view\":{\"id\":\"1c380447-ad67-430e-b1ed-5dd8c08c1b6a\",\"type\":\"CDSView\"}},\"id\":\"f87796c6-7050-44b0-a92d-bdd7b63da1d4\",\"type\":\"GlyphRenderer\"},{\"attributes\":{\"plot\":{\"id\":\"dbaf87cf-99d6-414a-b85a-54b3ab272cca\",\"subtype\":\"Figure\",\"type\":\"Plot\"},\"ticker\":{\"id\":\"3e6e122d-fa40-47db-b591-2df39ca47ed8\",\"type\":\"BasicTicker\"}},\"id\":\"1b2ab502-dffb-488d-bdd4-e49b9e2877d1\",\"type\":\"Grid\"},{\"attributes\":{\"axis_label\":\"time us\",\"formatter\":{\"id\":\"7b568ddb-42a4-4d44-80e4-b8736b5ef655\",\"type\":\"BasicTickFormatter\"},\"plot\":{\"id\":\"dbaf87cf-99d6-414a-b85a-54b3ab272cca\",\"subtype\":\"Figure\",\"type\":\"Plot\"},\"ticker\":{\"id\":\"e44385c6-3e8b-44ec-9625-8b4b8627e7fb\",\"type\":\"BasicTicker\"}},\"id\":\"496739f0-788a-409c-86a7-874c859c52a5\",\"type\":\"LinearAxis\"},{\"attributes\":{\"source\":{\"id\":\"087becb0-93b8-4bb9-b303-c73bd2fc3899\",\"type\":\"ColumnDataSource\"}},\"id\":\"86ec48b0-8782-446c-9bc1-92653c5f76d7\",\"type\":\"CDSView\"},{\"attributes\":{},\"id\":\"e44385c6-3e8b-44ec-9625-8b4b8627e7fb\",\"type\":\"BasicTicker\"},{\"attributes\":{\"line_alpha\":{\"value\":0.1},\"line_color\":{\"value\":\"#1f77b4\"},\"line_width\":{\"value\":3},\"x\":{\"field\":\"x\"},\"y\":{\"field\":\"y\"}},\"id\":\"35c5a07f-93ca-4d2f-b281-b31360800a3d\",\"type\":\"Line\"},{\"attributes\":{\"label\":{\"value\":\"Callable\"},\"renderers\":[{\"id\":\"d6113870-d523-4019-b58e-0f140a040e5f\",\"type\":\"GlyphRenderer\"}]},\"id\":\"e96ec597-a0ca-48ca-b75f-be8f6caf1a88\",\"type\":\"LegendItem\"},{\"attributes\":{\"line_color\":{\"value\":\"#1f77b4\"},\"line_width\":{\"value\":3},\"x\":{\"field\":\"x\"},\"y\":{\"field\":\"y\"}},\"id\":\"de474d50-a452-40b8-a4e1-4ebef21b8a8d\",\"type\":\"Line\"},{\"attributes\":{\"source\":{\"id\":\"e02ad1c4-f4f5-47d7-a68f-5efb125e573d\",\"type\":\"ColumnDataSource\"}},\"id\":\"1c380447-ad67-430e-b1ed-5dd8c08c1b6a\",\"type\":\"CDSView\"},{\"attributes\":{},\"id\":\"9dfc3e65-b9dd-4932-b71e-537b7f662661\",\"type\":\"PanTool\"},{\"attributes\":{},\"id\":\"a4bd8f2d-ea70-44f4-ac26-3d07a9f9b67b\",\"type\":\"WheelZoomTool\"},{\"attributes\":{\"overlay\":{\"id\":\"1ddccd3b-0015-4366-9d55-9c5451e52024\",\"type\":\"BoxAnnotation\"}},\"id\":\"61dd16a2-956b-4440-8f6f-2b380170b969\",\"type\":\"BoxZoomTool\"},{\"attributes\":{},\"id\":\"65f2c2c5-10e8-4315-8013-1df3eab9482d\",\"type\":\"HelpTool\"},{\"attributes\":{},\"id\":\"ea1740e6-6c8b-4782-b2eb-fd3cf9b67706\",\"type\":\"SaveTool\"},{\"attributes\":{},\"id\":\"3d1b8a8f-9f49-407b-8e97-c5f31efc991c\",\"type\":\"BasicTickFormatter\"},{\"attributes\":{},\"id\":\"33bf41ad-e5fe-4ca7-a78f-ca9fe050b1a9\",\"type\":\"ResetTool\"},{\"attributes\":{\"line_alpha\":{\"value\":0.1},\"line_color\":{\"value\":\"#1f77b4\"},\"line_width\":{\"value\":3},\"x\":{\"field\":\"x\"},\"y\":{\"field\":\"y\"}},\"id\":\"534d0da3-a495-4cd3-8391-44e38b23516e\",\"type\":\"Line\"},{\"attributes\":{\"items\":[{\"id\":\"9ba3b728-9d9f-48f4-8827-8038d14f4690\",\"type\":\"LegendItem\"},{\"id\":\"e96ec597-a0ca-48ca-b75f-be8f6caf1a88\",\"type\":\"LegendItem\"}],\"plot\":{\"id\":\"dbaf87cf-99d6-414a-b85a-54b3ab272cca\",\"subtype\":\"Figure\",\"type\":\"Plot\"}},\"id\":\"de0de80a-eb78-4e34-bf77-c3ba861c429f\",\"type\":\"Legend\"},{\"attributes\":{\"below\":[{\"id\":\"14d1a70b-3b5f-4438-858e-2711f02a2290\",\"type\":\"LinearAxis\"}],\"left\":[{\"id\":\"496739f0-788a-409c-86a7-874c859c52a5\",\"type\":\"LinearAxis\"}],\"renderers\":[{\"id\":\"14d1a70b-3b5f-4438-858e-2711f02a2290\",\"type\":\"LinearAxis\"},{\"id\":\"1b2ab502-dffb-488d-bdd4-e49b9e2877d1\",\"type\":\"Grid\"},{\"id\":\"496739f0-788a-409c-86a7-874c859c52a5\",\"type\":\"LinearAxis\"},{\"id\":\"a1d2589d-0e67-48fd-96e2-5dae8606cda0\",\"type\":\"Grid\"},{\"id\":\"1ddccd3b-0015-4366-9d55-9c5451e52024\",\"type\":\"BoxAnnotation\"},{\"id\":\"de0de80a-eb78-4e34-bf77-c3ba861c429f\",\"type\":\"Legend\"},{\"id\":\"f87796c6-7050-44b0-a92d-bdd7b63da1d4\",\"type\":\"GlyphRenderer\"},{\"id\":\"d6113870-d523-4019-b58e-0f140a040e5f\",\"type\":\"GlyphRenderer\"}],\"title\":{\"id\":\"52b356a6-de43-48a4-8426-d957b934df22\",\"type\":\"Title\"},\"toolbar\":{\"id\":\"907186b5-d5de-43f8-be57-f3a5f1eb8962\",\"type\":\"Toolbar\"},\"x_range\":{\"id\":\"01446027-3a41-475a-bb38-8dfc27c83da8\",\"type\":\"DataRange1d\"},\"x_scale\":{\"id\":\"8b473a82-7a08-4757-9044-2b813ab0fc1c\",\"type\":\"LinearScale\"},\"y_range\":{\"id\":\"0ae57905-6205-47de-a018-c79971b2150b\",\"type\":\"DataRange1d\"},\"y_scale\":{\"id\":\"e7430076-347b-43ee-8a24-b75166182f07\",\"type\":\"LinearScale\"}},\"id\":\"dbaf87cf-99d6-414a-b85a-54b3ab272cca\",\"subtype\":\"Figure\",\"type\":\"Plot\"},{\"attributes\":{\"active_drag\":\"auto\",\"active_inspect\":\"auto\",\"active_scroll\":\"auto\",\"active_tap\":\"auto\",\"tools\":[{\"id\":\"9dfc3e65-b9dd-4932-b71e-537b7f662661\",\"type\":\"PanTool\"},{\"id\":\"a4bd8f2d-ea70-44f4-ac26-3d07a9f9b67b\",\"type\":\"WheelZoomTool\"},{\"id\":\"61dd16a2-956b-4440-8f6f-2b380170b969\",\"type\":\"BoxZoomTool\"},{\"id\":\"ea1740e6-6c8b-4782-b2eb-fd3cf9b67706\",\"type\":\"SaveTool\"},{\"id\":\"33bf41ad-e5fe-4ca7-a78f-ca9fe050b1a9\",\"type\":\"ResetTool\"},{\"id\":\"65f2c2c5-10e8-4315-8013-1df3eab9482d\",\"type\":\"HelpTool\"}]},\"id\":\"907186b5-d5de-43f8-be57-f3a5f1eb8962\",\"type\":\"Toolbar\"},{\"attributes\":{\"callback\":null,\"column_names\":[\"x\",\"y\"],\"data\":{\"x\":[1,2,3,4,5,6,7,8,9,10,11,12,13,14,15,16,17,18,19,20,21,22,23,24,25,26,27,28,29,30,31,32,33,34,35,36,37,38,39,40,41,42,43,44,45,46,47,48,49,50,51,52,53,54,55,56,57,58,59,60,61,62,63,64,65,66,67,68,69,70,71,72,73,74,75,76,77,78,79,80,81,82,83,84,85,86,87,88,89,90,91,92,93,94,95,96,97,98,99,100],\"y\":{\"__ndarray__\":\"AAAAAEAzxkAzMzMzs0i7QDMzMzOzP7NAZmZmZmYmrkBmZmZmZqerQGZmZmZmLKpAmpmZmZnkp0AzMzMzMw6nQAAAAAAAr6hAmpmZmZmhqUAAAAAAAAWoQM3MzMzMIqdAZmZmZmbgpkBmZmZmZuWnQAAAAAAAhqZAZmZmZmY0p0CamZmZmZWmQGZmZmZmZadAzczMzMwAp0CamZmZmZmmQGZmZmZmtqZAMzMzMzNVpkDNzMzMzGSmQDMzMzMzdKVAzczMzMx6p0DNzMzMzCWmQDMzMzMzAKdAMzMzMzNnpkBmZmZmZhymQDMzMzMz9aVAmpmZmZkRpkBmZmZmZlOmQDMzMzMz9aVAZmZmZmbipUAzMzMzM9+lQDMzMzMzR6VAZmZmZmaApUAzMzMzM7SlQAAAAAAAhKVAMzMzMzP+pEAAAAAAAJWlQAAAAAAAV6VAzczMzMx2pUAzMzMzMxalQM3MzMzMx6VAmpmZmZkQpUAzMzMzM6qlQM3MzMzMKqVAMzMzMzOSpUCamZmZmaOkQGZmZmZmTaVAzczMzMyUpUDNzMzMzDqlQDMzMzMztaVAmpmZmZnwpUAAAAAAABumQJqZmZmZK6dAzczMzMx8pUAAAAAAAL6lQGZmZmZmw6VAZmZmZmaLpUAAAAAAALClQAAAAAAAxKRAAAAAAAAypUAAAAAAADamQDMzMzMzIKZAmpmZmZnopEAzMzMzM76lQDMzMzMzF6ZAmpmZmZkRpkAzMzMzMy2nQDMzMzMzZ6VAMzMzMzMBpkAAAAAAAHqlQAAAAAAAiaVAZmZmZmaHpUAAAAAAANOlQJqZmZmZ/KRAZmZmZmbXpUAAAAAAAGClQM3MzMzMraVAMzMzMzPYpUCamZmZmTKlQJqZmZmZQqVAmpmZmZnNpUDNzMzMzKKlQJqZmZmZ9qVAZmZmZmaDpUAzMzMzMwmmQAAAAAAAEKZAMzMzMzMJpUDNzMzMzO6kQAAAAAAAE6VAAAAAAACppUAzMzMzM7ClQGZmZmZm46RAmpmZmZkkpUDNzMzMzC+lQGZmZmZmSqVAZmZmZmY2pUA=\",\"dtype\":\"float64\",\"shape\":[100]}}},\"id\":\"087becb0-93b8-4bb9-b303-c73bd2fc3899\",\"type\":\"ColumnDataSource\"},{\"attributes\":{\"callback\":null,\"column_names\":[\"x\",\"y\"],\"data\":{\"x\":[1,2,3,4,5,6,7,8,9,10,11,12,13,14,15,16,17,18,19,20,21,22,23,24,25,26,27,28,29,30,31,32,33,34,35,36,37,38,39,40,41,42,43,44,45,46,47,48,49,50,51,52,53,54,55,56,57,58,59,60,61,62,63,64,65,66,67,68,69,70,71,72,73,74,75,76,77,78,79,80,81,82,83,84,85,86,87,88,89,90,91,92,93,94,95,96,97,98,99,100],\"y\":{\"__ndarray__\":\"AAAAAEDzxUBmZmZmZq+7QGZmZmbm5rNAMzMzMzMRr0BmZmZmZvWsQDMzMzMziqpAZmZmZmYHqUCamZmZmQKoQDMzMzMzAKpAZmZmZmaMqUBmZmZmZp2pQM3MzMzMb6hAmpmZmZl/qEAzMzMzM+enQAAAAAAAWqdAmpmZmZn/p0AzMzMzM/OnQDMzMzMzNqhAZmZmZmbsp0CamZmZmbCmQAAAAAAA/adAzczMzMwwp0DNzMzMzBynQM3MzMzMEadAAAAAAABfp0DNzMzMzFanQAAAAAAA4qdAAAAAAACfp0BmZmZmZsGmQM3MzMzMJqdAZmZmZmbhpkDNzMzMzAunQDMzMzMzbKdAzczMzMw2p0CamZmZmSWnQJqZmZmZhKdAAAAAAAC3p0AzMzMzMxenQGZmZmZmZqdAMzMzMzMRp0CamZmZmRqnQGZmZmZmTqdAzczMzMyYp0AzMzMzMy2nQM3MzMzM/6ZAmpmZmZkjp0CamZmZmeimQGZmZmZm96ZAmpmZmZnVp0AAAAAAACanQJqZmZmZLadAAAAAAACep0AzMzMzM+2mQAAAAAAAb6dAAAAAAAB3p0AAAAAAAE2nQM3MzMzMWadAAAAAAACNp0AAAAAAAE+nQM3MzMzMiKdAAAAAAABMp0BmZmZmZhSnQM3MzMzMpqdAzczMzMwJp0DNzMzMzGOnQAAAAAAAH6dAmpmZmZmxp0AzMzMzM5+nQM3MzMzMLadAAAAAAABlp0AAAAAAAFenQM3MzMzMNadAZmZmZmbvpkCamZmZmfGmQM3MzMzMUKdAzczMzMxkp0DNzMzMzEKnQGZmZmZmhqdAmpmZmZkAp0AzMzMzM2enQDMzMzMza6dAzczMzMyMp0AzMzMzM3unQDMzMzMzRadAAAAAAABap0AzMzMzM1enQJqZmZmZMadAzczMzMxzp0CamZmZmUynQM3MzMzMe6dAmpmZmZmLp0AzMzMzM4SnQJqZmZmZs6hAzczMzMwhqkBmZmZmZrCnQAAAAAAA+6ZAmpmZmZn2p0CamZmZmZenQM3MzMzMOKhAAAAAAAD8p0A=\",\"dtype\":\"float64\",\"shape\":[100]}}},\"id\":\"e02ad1c4-f4f5-47d7-a68f-5efb125e573d\",\"type\":\"ColumnDataSource\"},{\"attributes\":{\"line_color\":{\"value\":\"red\"},\"line_width\":{\"value\":3},\"x\":{\"field\":\"x\"},\"y\":{\"field\":\"y\"}},\"id\":\"e05c43d2-fb4a-47fa-810f-5cf949f04e00\",\"type\":\"Line\"},{\"attributes\":{\"label\":{\"value\":\"Runnable\"},\"renderers\":[{\"id\":\"f87796c6-7050-44b0-a92d-bdd7b63da1d4\",\"type\":\"GlyphRenderer\"}]},\"id\":\"9ba3b728-9d9f-48f4-8827-8038d14f4690\",\"type\":\"LegendItem\"},{\"attributes\":{\"callback\":null},\"id\":\"01446027-3a41-475a-bb38-8dfc27c83da8\",\"type\":\"DataRange1d\"},{\"attributes\":{\"plot\":null,\"text\":\"Executors.newWorkStealingPooll();\"},\"id\":\"52b356a6-de43-48a4-8426-d957b934df22\",\"type\":\"Title\"},{\"attributes\":{\"axis_label\":\"# tasks\",\"formatter\":{\"id\":\"3d1b8a8f-9f49-407b-8e97-c5f31efc991c\",\"type\":\"BasicTickFormatter\"},\"plot\":{\"id\":\"dbaf87cf-99d6-414a-b85a-54b3ab272cca\",\"subtype\":\"Figure\",\"type\":\"Plot\"},\"ticker\":{\"id\":\"3e6e122d-fa40-47db-b591-2df39ca47ed8\",\"type\":\"BasicTicker\"}},\"id\":\"14d1a70b-3b5f-4438-858e-2711f02a2290\",\"type\":\"LinearAxis\"},{\"attributes\":{},\"id\":\"7b568ddb-42a4-4d44-80e4-b8736b5ef655\",\"type\":\"BasicTickFormatter\"},{\"attributes\":{},\"id\":\"8b473a82-7a08-4757-9044-2b813ab0fc1c\",\"type\":\"LinearScale\"}],\"root_ids\":[\"dbaf87cf-99d6-414a-b85a-54b3ab272cca\"]},\"title\":\"Bokeh Application\",\"version\":\"0.12.9\"}};\n",
       "    var render_items = [{\"docid\":\"88bc0dcc-bd76-4e46-95f9-bf8e482ae385\",\"elementid\":\"06639c01-5ef1-4dde-aba8-56be09af3147\",\"modelid\":\"dbaf87cf-99d6-414a-b85a-54b3ab272cca\"}];\n",
       "\n",
       "    root.Bokeh.embed.embed_items(docs_json, render_items);\n",
       "  }\n",
       "\n",
       "  if (root.Bokeh !== undefined) {\n",
       "    embed_document(root);\n",
       "  } else {\n",
       "    var attempts = 0;\n",
       "    var timer = setInterval(function(root) {\n",
       "      if (root.Bokeh !== undefined) {\n",
       "        embed_document(root);\n",
       "        clearInterval(timer);\n",
       "      }\n",
       "      attempts++;\n",
       "      if (attempts > 100) {\n",
       "        console.log(\"Bokeh: ERROR: Unable to embed document because BokehJS library is missing\")\n",
       "        clearInterval(timer);\n",
       "      }\n",
       "    }, 10, root)\n",
       "  }\n",
       "})(window);"
      ],
      "application/vnd.bokehjs_exec.v0+json": ""
     },
     "metadata": {
      "application/vnd.bokehjs_exec.v0+json": {
       "id": "dbaf87cf-99d6-414a-b85a-54b3ab272cca"
      }
     },
     "output_type": "display_data"
    }
   ],
   "source": [
    "show(p1)"
   ]
  },
  {
   "cell_type": "code",
   "execution_count": 17,
   "metadata": {},
   "outputs": [],
   "source": [
    "# output to static HTML file\n",
    "output_file(\"Executors.newCachedThreadPool.html\")"
   ]
  },
  {
   "cell_type": "code",
   "execution_count": 18,
   "metadata": {},
   "outputs": [
    {
     "data": {
      "text/html": [
       "\n",
       "<div class=\"bk-root\">\n",
       "    <div class=\"bk-plotdiv\" id=\"e8c16b84-5ef9-4261-a737-fd3b5cc850f9\"></div>\n",
       "</div>"
      ]
     },
     "metadata": {},
     "output_type": "display_data"
    },
    {
     "data": {
      "application/javascript": [
       "(function(root) {\n",
       "  function embed_document(root) {\n",
       "    var docs_json = {\"97b96dfb-01f9-4fea-b676-9b146d0092cf\":{\"roots\":{\"references\":[{\"attributes\":{\"line_color\":{\"value\":\"red\"},\"line_width\":{\"value\":3},\"x\":{\"field\":\"x\"},\"y\":{\"field\":\"y\"}},\"id\":\"6cb54119-4ef6-493c-b6b1-d8abdcbaea20\",\"type\":\"Line\"},{\"attributes\":{\"callback\":null,\"column_names\":[\"x\",\"y\"],\"data\":{\"x\":[1,2,3,4,5,6,7,8,9,10,11,12,13,14,15,16,17,18,19,20,21,22,23,24,25,26,27,28,29,30,31,32,33,34,35,36,37,38,39,40,41,42,43,44,45,46,47,48,49,50,51,52,53,54,55,56,57,58,59,60,61,62,63,64,65,66,67,68,69,70,71,72,73,74,75,76,77,78,79,80,81,82,83,84,85,86,87,88,89,90,91,92,93,94,95,96,97,98,99,100],\"y\":{\"__ndarray__\":\"AAAAAECsxUDNzMzMTDi7QM3MzMzMN7NAZmZmZmbbrUAzMzMzM6OpQGZmZmZm2ahAmpmZmZnSp0AAAAAAAGOmQJqZmZmZFalAAAAAAACeqEAzMzMzM7moQAAAAAAAZadAmpmZmZnhpkAzMzMzM1GmQAAAAAAA26VAzczMzMy/pUAAAAAAAOSlQGZmZmZm5KVAmpmZmZnnpUAAAAAAAI2lQDMzMzMzeKZAzczMzMx3pUBmZmZmZgClQM3MzMzMFKVAzczMzMyHpUDNzMzMzMakQJqZmZmZ5qRAZmZmZmarpEAzMzMzMwSlQAAAAAAAlKRAZmZmZmaGpECamZmZmZOkQM3MzMzM7KRAzczMzMwEpUBmZmZmZo+kQJqZmZmZ76RAAAAAAADupEBmZmZmZtGkQM3MzMzMX6RAzczMzMwVpUBmZmZmZv+kQM3MzMzMFqVAZmZmZmbspECamZmZmcSkQM3MzMzM9qRAZmZmZmb4pECamZmZmb+kQDMzMzMz5KRAzczMzMzKpEAAAAAAAJSkQJqZmZmZvqRAMzMzMzMopUAzMzMzM++kQGZmZmZm86RAZmZmZmazpEDNzMzMzOqkQM3MzMzMw6RAMzMzMzO3pEAAAAAAAK2kQGZmZmZmuqRAMzMzMzOepEDNzMzMzNakQGZmZmZmtaRAAAAAAADVpEAAAAAAAJekQM3MzMzM3KRAZmZmZmawpEDNzMzMzKekQDMzMzMzmaRAzczMzMywpEDNzMzMzNSkQM3MzMzMs6RAmpmZmZm2pEAzMzMzM7CkQJqZmZmZu6RAmpmZmZmjpECamZmZmcKkQJqZmZmZ2qRAmpmZmZm5pEAzMzMzM62kQGZmZmZmq6RAmpmZmZnTpEDNzMzMzMGkQM3MzMzMtaRAMzMzMzPXpEBmZmZmZgWlQM3MzMzMy6RAAAAAAAADpUCamZmZmeSkQJqZmZmZBaVAAAAAAAARpUDNzMzMzAelQAAAAAAA0qRAZmZmZmYxpUDNzMzMzBOlQM3MzMzMtKRAmpmZmZkupUBmZmZmZt6kQAAAAAAAyaRAMzMzMzOlpEA=\",\"dtype\":\"float64\",\"shape\":[100]}}},\"id\":\"55ff884f-3d78-4eea-9eb9-67ffe388715c\",\"type\":\"ColumnDataSource\"},{\"attributes\":{\"items\":[{\"id\":\"dd9fa797-6f96-4b53-8ecd-0bc5f94ae596\",\"type\":\"LegendItem\"},{\"id\":\"25cf2afc-d3db-4f9f-9b66-5333c97703ba\",\"type\":\"LegendItem\"}],\"plot\":{\"id\":\"78156d78-a3c9-4a89-b7e6-6897f623263e\",\"subtype\":\"Figure\",\"type\":\"Plot\"}},\"id\":\"c788769e-f488-4921-94a0-7dbc0c44e555\",\"type\":\"Legend\"},{\"attributes\":{\"plot\":null,\"text\":\"Executors.newCachedThreadPool();\"},\"id\":\"cd9ea5c5-c7ab-41a7-91ec-9734b5d8cfb4\",\"type\":\"Title\"},{\"attributes\":{},\"id\":\"ae92e254-5981-449d-a2a6-2bdb11a9a295\",\"type\":\"BasicTickFormatter\"},{\"attributes\":{\"data_source\":{\"id\":\"d23e559c-f9c0-4540-8ef0-4037f0fb07d9\",\"type\":\"ColumnDataSource\"},\"glyph\":{\"id\":\"6cb54119-4ef6-493c-b6b1-d8abdcbaea20\",\"type\":\"Line\"},\"hover_glyph\":null,\"muted_glyph\":null,\"nonselection_glyph\":{\"id\":\"50daea03-c693-4282-a72f-3aff05f6495c\",\"type\":\"Line\"},\"selection_glyph\":null,\"view\":{\"id\":\"32bfcdcb-27c5-4e33-a43c-0797ccf634ad\",\"type\":\"CDSView\"}},\"id\":\"61bec144-d377-429e-9add-f50ccf8d45a0\",\"type\":\"GlyphRenderer\"},{\"attributes\":{\"callback\":null},\"id\":\"6331c11b-47c6-4db7-9976-05def427dd5a\",\"type\":\"DataRange1d\"},{\"attributes\":{\"line_alpha\":{\"value\":0.1},\"line_color\":{\"value\":\"#1f77b4\"},\"line_width\":{\"value\":3},\"x\":{\"field\":\"x\"},\"y\":{\"field\":\"y\"}},\"id\":\"50daea03-c693-4282-a72f-3aff05f6495c\",\"type\":\"Line\"},{\"attributes\":{\"label\":{\"value\":\"Callable\"},\"renderers\":[{\"id\":\"4e7e7cfd-60d3-4e2d-bc4b-244f7a8251fe\",\"type\":\"GlyphRenderer\"}]},\"id\":\"25cf2afc-d3db-4f9f-9b66-5333c97703ba\",\"type\":\"LegendItem\"},{\"attributes\":{},\"id\":\"cf6a3ceb-80d2-4dca-8527-e1139c04348a\",\"type\":\"LinearScale\"},{\"attributes\":{},\"id\":\"35b83b74-9d17-4c04-b0c5-c80b2ae804b3\",\"type\":\"BasicTickFormatter\"},{\"attributes\":{\"source\":{\"id\":\"d23e559c-f9c0-4540-8ef0-4037f0fb07d9\",\"type\":\"ColumnDataSource\"}},\"id\":\"32bfcdcb-27c5-4e33-a43c-0797ccf634ad\",\"type\":\"CDSView\"},{\"attributes\":{\"data_source\":{\"id\":\"55ff884f-3d78-4eea-9eb9-67ffe388715c\",\"type\":\"ColumnDataSource\"},\"glyph\":{\"id\":\"d3abe73c-2abd-4ff3-9901-688213816051\",\"type\":\"Line\"},\"hover_glyph\":null,\"muted_glyph\":null,\"nonselection_glyph\":{\"id\":\"c76b02e1-2747-4a42-aa7a-941d51e3498b\",\"type\":\"Line\"},\"selection_glyph\":null,\"view\":{\"id\":\"704c08ed-ee7d-4c9a-87f3-45f8c2fd35ef\",\"type\":\"CDSView\"}},\"id\":\"4e7e7cfd-60d3-4e2d-bc4b-244f7a8251fe\",\"type\":\"GlyphRenderer\"},{\"attributes\":{\"label\":{\"value\":\"Runnable\"},\"renderers\":[{\"id\":\"61bec144-d377-429e-9add-f50ccf8d45a0\",\"type\":\"GlyphRenderer\"}]},\"id\":\"dd9fa797-6f96-4b53-8ecd-0bc5f94ae596\",\"type\":\"LegendItem\"},{\"attributes\":{\"plot\":{\"id\":\"78156d78-a3c9-4a89-b7e6-6897f623263e\",\"subtype\":\"Figure\",\"type\":\"Plot\"},\"ticker\":{\"id\":\"bd169dcb-8352-42c7-9d4c-a5e062406cb7\",\"type\":\"BasicTicker\"}},\"id\":\"d1263845-599c-489d-8352-afce65f3dce6\",\"type\":\"Grid\"},{\"attributes\":{},\"id\":\"d6482ddc-58fa-4637-b7fe-e0d741ed14c5\",\"type\":\"LinearScale\"},{\"attributes\":{},\"id\":\"04a9ca7d-c7b4-4185-b1a0-be0513fa77e1\",\"type\":\"BasicTicker\"},{\"attributes\":{\"axis_label\":\"# tasks\",\"formatter\":{\"id\":\"35b83b74-9d17-4c04-b0c5-c80b2ae804b3\",\"type\":\"BasicTickFormatter\"},\"plot\":{\"id\":\"78156d78-a3c9-4a89-b7e6-6897f623263e\",\"subtype\":\"Figure\",\"type\":\"Plot\"},\"ticker\":{\"id\":\"bd169dcb-8352-42c7-9d4c-a5e062406cb7\",\"type\":\"BasicTicker\"}},\"id\":\"d5118f8e-0a95-41b1-bd26-d621d9d1dcfe\",\"type\":\"LinearAxis\"},{\"attributes\":{\"callback\":null},\"id\":\"bdd39f42-72d5-4ee4-a70f-f8cdea9a18d9\",\"type\":\"DataRange1d\"},{\"attributes\":{\"line_alpha\":{\"value\":0.1},\"line_color\":{\"value\":\"#1f77b4\"},\"line_width\":{\"value\":3},\"x\":{\"field\":\"x\"},\"y\":{\"field\":\"y\"}},\"id\":\"c76b02e1-2747-4a42-aa7a-941d51e3498b\",\"type\":\"Line\"},{\"attributes\":{},\"id\":\"bd169dcb-8352-42c7-9d4c-a5e062406cb7\",\"type\":\"BasicTicker\"},{\"attributes\":{\"source\":{\"id\":\"55ff884f-3d78-4eea-9eb9-67ffe388715c\",\"type\":\"ColumnDataSource\"}},\"id\":\"704c08ed-ee7d-4c9a-87f3-45f8c2fd35ef\",\"type\":\"CDSView\"},{\"attributes\":{\"line_color\":{\"value\":\"#1f77b4\"},\"line_width\":{\"value\":3},\"x\":{\"field\":\"x\"},\"y\":{\"field\":\"y\"}},\"id\":\"d3abe73c-2abd-4ff3-9901-688213816051\",\"type\":\"Line\"},{\"attributes\":{},\"id\":\"2e074c33-3463-41d1-bd12-98d8e104a32e\",\"type\":\"PanTool\"},{\"attributes\":{\"bottom_units\":\"screen\",\"fill_alpha\":{\"value\":0.5},\"fill_color\":{\"value\":\"lightgrey\"},\"left_units\":\"screen\",\"level\":\"overlay\",\"line_alpha\":{\"value\":1.0},\"line_color\":{\"value\":\"black\"},\"line_dash\":[4,4],\"line_width\":{\"value\":2},\"plot\":null,\"render_mode\":\"css\",\"right_units\":\"screen\",\"top_units\":\"screen\"},\"id\":\"4b4b1408-3104-4c11-8b4c-f966b828909f\",\"type\":\"BoxAnnotation\"},{\"attributes\":{},\"id\":\"464f9c10-af59-4561-96f0-7183c1cc4ee2\",\"type\":\"SaveTool\"},{\"attributes\":{\"dimension\":1,\"plot\":{\"id\":\"78156d78-a3c9-4a89-b7e6-6897f623263e\",\"subtype\":\"Figure\",\"type\":\"Plot\"},\"ticker\":{\"id\":\"04a9ca7d-c7b4-4185-b1a0-be0513fa77e1\",\"type\":\"BasicTicker\"}},\"id\":\"5a35b128-adc1-4b38-aed7-a2fcabff2973\",\"type\":\"Grid\"},{\"attributes\":{\"below\":[{\"id\":\"d5118f8e-0a95-41b1-bd26-d621d9d1dcfe\",\"type\":\"LinearAxis\"}],\"left\":[{\"id\":\"2313614d-018b-4219-a86c-442b6a4cd38b\",\"type\":\"LinearAxis\"}],\"renderers\":[{\"id\":\"d5118f8e-0a95-41b1-bd26-d621d9d1dcfe\",\"type\":\"LinearAxis\"},{\"id\":\"d1263845-599c-489d-8352-afce65f3dce6\",\"type\":\"Grid\"},{\"id\":\"2313614d-018b-4219-a86c-442b6a4cd38b\",\"type\":\"LinearAxis\"},{\"id\":\"5a35b128-adc1-4b38-aed7-a2fcabff2973\",\"type\":\"Grid\"},{\"id\":\"4b4b1408-3104-4c11-8b4c-f966b828909f\",\"type\":\"BoxAnnotation\"},{\"id\":\"c788769e-f488-4921-94a0-7dbc0c44e555\",\"type\":\"Legend\"},{\"id\":\"61bec144-d377-429e-9add-f50ccf8d45a0\",\"type\":\"GlyphRenderer\"},{\"id\":\"4e7e7cfd-60d3-4e2d-bc4b-244f7a8251fe\",\"type\":\"GlyphRenderer\"}],\"title\":{\"id\":\"cd9ea5c5-c7ab-41a7-91ec-9734b5d8cfb4\",\"type\":\"Title\"},\"toolbar\":{\"id\":\"ff16aaaa-4f9e-4aed-b292-71add29e5c4e\",\"type\":\"Toolbar\"},\"x_range\":{\"id\":\"6331c11b-47c6-4db7-9976-05def427dd5a\",\"type\":\"DataRange1d\"},\"x_scale\":{\"id\":\"d6482ddc-58fa-4637-b7fe-e0d741ed14c5\",\"type\":\"LinearScale\"},\"y_range\":{\"id\":\"bdd39f42-72d5-4ee4-a70f-f8cdea9a18d9\",\"type\":\"DataRange1d\"},\"y_scale\":{\"id\":\"cf6a3ceb-80d2-4dca-8527-e1139c04348a\",\"type\":\"LinearScale\"}},\"id\":\"78156d78-a3c9-4a89-b7e6-6897f623263e\",\"subtype\":\"Figure\",\"type\":\"Plot\"},{\"attributes\":{\"overlay\":{\"id\":\"4b4b1408-3104-4c11-8b4c-f966b828909f\",\"type\":\"BoxAnnotation\"}},\"id\":\"fd67bb47-1771-4bc5-b43a-f68e4e7ad8db\",\"type\":\"BoxZoomTool\"},{\"attributes\":{\"active_drag\":\"auto\",\"active_inspect\":\"auto\",\"active_scroll\":\"auto\",\"active_tap\":\"auto\",\"tools\":[{\"id\":\"2e074c33-3463-41d1-bd12-98d8e104a32e\",\"type\":\"PanTool\"},{\"id\":\"dd2996be-00f1-45c5-8951-084cf94f9c4e\",\"type\":\"WheelZoomTool\"},{\"id\":\"fd67bb47-1771-4bc5-b43a-f68e4e7ad8db\",\"type\":\"BoxZoomTool\"},{\"id\":\"464f9c10-af59-4561-96f0-7183c1cc4ee2\",\"type\":\"SaveTool\"},{\"id\":\"ba6483d2-622a-4f98-a409-bbc1b93affad\",\"type\":\"ResetTool\"},{\"id\":\"4bb82bd2-dd10-4bbb-b671-b9e2b85f487f\",\"type\":\"HelpTool\"}]},\"id\":\"ff16aaaa-4f9e-4aed-b292-71add29e5c4e\",\"type\":\"Toolbar\"},{\"attributes\":{},\"id\":\"dd2996be-00f1-45c5-8951-084cf94f9c4e\",\"type\":\"WheelZoomTool\"},{\"attributes\":{},\"id\":\"ba6483d2-622a-4f98-a409-bbc1b93affad\",\"type\":\"ResetTool\"},{\"attributes\":{\"callback\":null,\"column_names\":[\"x\",\"y\"],\"data\":{\"x\":[1,2,3,4,5,6,7,8,9,10,11,12,13,14,15,16,17,18,19,20,21,22,23,24,25,26,27,28,29,30,31,32,33,34,35,36,37,38,39,40,41,42,43,44,45,46,47,48,49,50,51,52,53,54,55,56,57,58,59,60,61,62,63,64,65,66,67,68,69,70,71,72,73,74,75,76,77,78,79,80,81,82,83,84,85,86,87,88,89,90,91,92,93,94,95,96,97,98,99,100],\"y\":{\"__ndarray__\":\"AAAAAEDzxUBmZmZmZq+7QGZmZmbm5rNAMzMzMzMRr0BmZmZmZvWsQDMzMzMziqpAZmZmZmYHqUCamZmZmQKoQDMzMzMzAKpAZmZmZmaMqUBmZmZmZp2pQM3MzMzMb6hAmpmZmZl/qEAzMzMzM+enQAAAAAAAWqdAmpmZmZn/p0AzMzMzM/OnQDMzMzMzNqhAZmZmZmbsp0CamZmZmbCmQAAAAAAA/adAzczMzMwwp0DNzMzMzBynQM3MzMzMEadAAAAAAABfp0DNzMzMzFanQAAAAAAA4qdAAAAAAACfp0BmZmZmZsGmQM3MzMzMJqdAZmZmZmbhpkDNzMzMzAunQDMzMzMzbKdAzczMzMw2p0CamZmZmSWnQJqZmZmZhKdAAAAAAAC3p0AzMzMzMxenQGZmZmZmZqdAMzMzMzMRp0CamZmZmRqnQGZmZmZmTqdAzczMzMyYp0AzMzMzMy2nQM3MzMzM/6ZAmpmZmZkjp0CamZmZmeimQGZmZmZm96ZAmpmZmZnVp0AAAAAAACanQJqZmZmZLadAAAAAAACep0AzMzMzM+2mQAAAAAAAb6dAAAAAAAB3p0AAAAAAAE2nQM3MzMzMWadAAAAAAACNp0AAAAAAAE+nQM3MzMzMiKdAAAAAAABMp0BmZmZmZhSnQM3MzMzMpqdAzczMzMwJp0DNzMzMzGOnQAAAAAAAH6dAmpmZmZmxp0AzMzMzM5+nQM3MzMzMLadAAAAAAABlp0AAAAAAAFenQM3MzMzMNadAZmZmZmbvpkCamZmZmfGmQM3MzMzMUKdAzczMzMxkp0DNzMzMzEKnQGZmZmZmhqdAmpmZmZkAp0AzMzMzM2enQDMzMzMza6dAzczMzMyMp0AzMzMzM3unQDMzMzMzRadAAAAAAABap0AzMzMzM1enQJqZmZmZMadAzczMzMxzp0CamZmZmUynQM3MzMzMe6dAmpmZmZmLp0AzMzMzM4SnQJqZmZmZs6hAzczMzMwhqkBmZmZmZrCnQAAAAAAA+6ZAmpmZmZn2p0CamZmZmZenQM3MzMzMOKhAAAAAAAD8p0A=\",\"dtype\":\"float64\",\"shape\":[100]}}},\"id\":\"d23e559c-f9c0-4540-8ef0-4037f0fb07d9\",\"type\":\"ColumnDataSource\"},{\"attributes\":{\"axis_label\":\"time us\",\"formatter\":{\"id\":\"ae92e254-5981-449d-a2a6-2bdb11a9a295\",\"type\":\"BasicTickFormatter\"},\"plot\":{\"id\":\"78156d78-a3c9-4a89-b7e6-6897f623263e\",\"subtype\":\"Figure\",\"type\":\"Plot\"},\"ticker\":{\"id\":\"04a9ca7d-c7b4-4185-b1a0-be0513fa77e1\",\"type\":\"BasicTicker\"}},\"id\":\"2313614d-018b-4219-a86c-442b6a4cd38b\",\"type\":\"LinearAxis\"},{\"attributes\":{},\"id\":\"4bb82bd2-dd10-4bbb-b671-b9e2b85f487f\",\"type\":\"HelpTool\"}],\"root_ids\":[\"78156d78-a3c9-4a89-b7e6-6897f623263e\"]},\"title\":\"Bokeh Application\",\"version\":\"0.12.9\"}};\n",
       "    var render_items = [{\"docid\":\"97b96dfb-01f9-4fea-b676-9b146d0092cf\",\"elementid\":\"e8c16b84-5ef9-4261-a737-fd3b5cc850f9\",\"modelid\":\"78156d78-a3c9-4a89-b7e6-6897f623263e\"}];\n",
       "\n",
       "    root.Bokeh.embed.embed_items(docs_json, render_items);\n",
       "  }\n",
       "\n",
       "  if (root.Bokeh !== undefined) {\n",
       "    embed_document(root);\n",
       "  } else {\n",
       "    var attempts = 0;\n",
       "    var timer = setInterval(function(root) {\n",
       "      if (root.Bokeh !== undefined) {\n",
       "        embed_document(root);\n",
       "        clearInterval(timer);\n",
       "      }\n",
       "      attempts++;\n",
       "      if (attempts > 100) {\n",
       "        console.log(\"Bokeh: ERROR: Unable to embed document because BokehJS library is missing\")\n",
       "        clearInterval(timer);\n",
       "      }\n",
       "    }, 10, root)\n",
       "  }\n",
       "})(window);"
      ],
      "application/vnd.bokehjs_exec.v0+json": ""
     },
     "metadata": {
      "application/vnd.bokehjs_exec.v0+json": {
       "id": "78156d78-a3c9-4a89-b7e6-6897f623263e"
      }
     },
     "output_type": "display_data"
    }
   ],
   "source": [
    "show(p2)"
   ]
  },
  {
   "cell_type": "code",
   "execution_count": 19,
   "metadata": {},
   "outputs": [],
   "source": [
    "# output to static HTML file\n",
    "output_file(\"LongAdderExecutors.newCachedThreadPool.html\")"
   ]
  },
  {
   "cell_type": "code",
   "execution_count": 20,
   "metadata": {},
   "outputs": [
    {
     "data": {
      "text/html": [
       "\n",
       "<div class=\"bk-root\">\n",
       "    <div class=\"bk-plotdiv\" id=\"52c36ead-19ca-4b9c-9b6a-b71fa4817450\"></div>\n",
       "</div>"
      ]
     },
     "metadata": {},
     "output_type": "display_data"
    },
    {
     "data": {
      "application/javascript": [
       "(function(root) {\n",
       "  function embed_document(root) {\n",
       "    var docs_json = {\"aa178c7e-4e1c-4d2b-9f9e-c274e92fe20d\":{\"roots\":{\"references\":[{\"attributes\":{\"plot\":{\"id\":\"6531d38a-8d82-4421-8f23-6a47f7a88c14\",\"subtype\":\"Figure\",\"type\":\"Plot\"},\"ticker\":{\"id\":\"ff9e4d27-afa8-4d6e-a4c2-3c0598daa156\",\"type\":\"BasicTicker\"}},\"id\":\"4ef3ca1b-341d-4c2f-9201-e63314c21050\",\"type\":\"Grid\"},{\"attributes\":{\"dimension\":1,\"plot\":{\"id\":\"6531d38a-8d82-4421-8f23-6a47f7a88c14\",\"subtype\":\"Figure\",\"type\":\"Plot\"},\"ticker\":{\"id\":\"24ed8f37-dabf-414c-9ed5-5c18534b301e\",\"type\":\"BasicTicker\"}},\"id\":\"4f8a59fe-4c5d-499c-9272-6d95ab08d3a4\",\"type\":\"Grid\"},{\"attributes\":{\"source\":{\"id\":\"567a2696-fd81-4dba-9e67-e8f94a4a4127\",\"type\":\"ColumnDataSource\"}},\"id\":\"b5cdd88f-e597-47d9-8000-d12923dab8ec\",\"type\":\"CDSView\"},{\"attributes\":{\"label\":{\"value\":\"Callable\"},\"renderers\":[{\"id\":\"4f34a71c-c30e-43d0-8e23-cdc47f8c957a\",\"type\":\"GlyphRenderer\"}]},\"id\":\"2e2756bc-7eb5-4877-91ca-0fe7ee874925\",\"type\":\"LegendItem\"},{\"attributes\":{\"plot\":null,\"text\":\"LongAdder(): Executors.newCachedThreadPool();\"},\"id\":\"39dd8e5c-5921-47ae-b3bd-a0f9edb9f08a\",\"type\":\"Title\"},{\"attributes\":{\"below\":[{\"id\":\"fec0d190-18c5-4023-98ce-039b6ac3308d\",\"type\":\"LinearAxis\"}],\"left\":[{\"id\":\"8d914853-46cc-4426-afc5-a1496bffeb89\",\"type\":\"LinearAxis\"}],\"renderers\":[{\"id\":\"fec0d190-18c5-4023-98ce-039b6ac3308d\",\"type\":\"LinearAxis\"},{\"id\":\"4ef3ca1b-341d-4c2f-9201-e63314c21050\",\"type\":\"Grid\"},{\"id\":\"8d914853-46cc-4426-afc5-a1496bffeb89\",\"type\":\"LinearAxis\"},{\"id\":\"4f8a59fe-4c5d-499c-9272-6d95ab08d3a4\",\"type\":\"Grid\"},{\"id\":\"d00b1cb0-8059-4193-818e-e06a057e7b40\",\"type\":\"BoxAnnotation\"},{\"id\":\"c9952b6f-1507-4b76-8e13-fcc4c429b34f\",\"type\":\"Legend\"},{\"id\":\"35c58c01-6390-4dfa-8577-5aa3d2b686ba\",\"type\":\"GlyphRenderer\"},{\"id\":\"4f34a71c-c30e-43d0-8e23-cdc47f8c957a\",\"type\":\"GlyphRenderer\"}],\"title\":{\"id\":\"39dd8e5c-5921-47ae-b3bd-a0f9edb9f08a\",\"type\":\"Title\"},\"toolbar\":{\"id\":\"080e619b-d7bc-4c9e-8367-77ac837ca3c9\",\"type\":\"Toolbar\"},\"x_range\":{\"id\":\"d22582e3-7cd2-4dfd-8394-f946c8e24fb3\",\"type\":\"DataRange1d\"},\"x_scale\":{\"id\":\"a411d723-f9b4-460e-a414-310c57c6ddce\",\"type\":\"LinearScale\"},\"y_range\":{\"id\":\"55ba1453-f4a4-4d53-88a1-cc2287a20e2c\",\"type\":\"DataRange1d\"},\"y_scale\":{\"id\":\"4a73ef3d-a1dd-4836-a7ae-3dfc7f0a7892\",\"type\":\"LinearScale\"}},\"id\":\"6531d38a-8d82-4421-8f23-6a47f7a88c14\",\"subtype\":\"Figure\",\"type\":\"Plot\"},{\"attributes\":{\"items\":[{\"id\":\"eb89b77e-7385-46e8-90a9-2d29ee03288f\",\"type\":\"LegendItem\"},{\"id\":\"2e2756bc-7eb5-4877-91ca-0fe7ee874925\",\"type\":\"LegendItem\"}],\"plot\":{\"id\":\"6531d38a-8d82-4421-8f23-6a47f7a88c14\",\"subtype\":\"Figure\",\"type\":\"Plot\"}},\"id\":\"c9952b6f-1507-4b76-8e13-fcc4c429b34f\",\"type\":\"Legend\"},{\"attributes\":{},\"id\":\"ff9e4d27-afa8-4d6e-a4c2-3c0598daa156\",\"type\":\"BasicTicker\"},{\"attributes\":{\"callback\":null,\"column_names\":[\"x\",\"y\"],\"data\":{\"x\":[1,2,3,4,5,6,7,8,9,10,11,12,13,14,15,16,17,18,19,20,21,22,23,24,25,26,27,28,29,30,31,32,33,34,35,36,37,38,39,40,41,42,43,44,45,46,47,48,49,50,51,52,53,54,55,56,57,58,59,60,61,62,63,64,65,66,67,68,69,70,71,72,73,74,75,76,77,78,79,80,81,82,83,84,85,86,87,88,89,90,91,92,93,94,95,96,97,98,99,100],\"y\":{\"__ndarray__\":\"mpmZmVkbxkBmZmZmZmG6QM3MzMxMT7FAZmZmZmbzrUBmZmZmZl6pQM3MzMzMkqZAzczMzMz7pUAAAAAAAMalQJqZmZmZZKZAzczMzMzKpkAzMzMzM0imQGZmZmZmsaVAzczMzMxepUAAAAAAAO6kQJqZmZmZPaVAzczMzMygpEBmZmZmZl2kQM3MzMzMLqRAAAAAAAATpEAAAAAAAPyjQAAAAAAAEqRAMzMzMzMApECamZmZmXKjQDMzMzMz36NAMzMzMzNoo0CamZmZmdmjQDMzMzMzf6NAZmZmZmbYo0AzMzMzM8ijQJqZmZmZV6NAAAAAAABHo0AzMzMzM4OjQGZmZmZmdqNAZmZmZmZ2o0CamZmZmWCjQJqZmZmZlKNAMzMzMzNzo0DNzMzMzDekQM3MzMzMnKNAzczMzMy2o0DNzMzMzOGjQDMzMzMzxKNAMzMzMzOlo0DNzMzMzN+jQM3MzMzMmKNAZmZmZmalo0BmZmZmZr6jQJqZmZmZ9KNAAAAAAAAFpEDNzMzMzPmjQJqZmZmZ8KNAmpmZmZn+o0DNzMzMzOujQGZmZmZmCqRAMzMzMzO7o0DNzMzMzKqjQJqZmZmZyKNAZmZmZma8o0DNzMzMzCmkQAAAAAAACKRAMzMzMzMGpEDNzMzMzCikQM3MzMzM8qNAMzMzMzNApEAAAAAAAAykQM3MzMzMKaRAMzMzMzMMpECamZmZmc+jQJqZmZmZRqRAZmZmZmbvo0BmZmZmZuKjQM3MzMzMHqRAmpmZmZnio0DNzMzMzF6kQM3MzMzMFqRAAAAAAAA1pEAAAAAAAMKkQDMzMzMzFKVAMzMzMzMDpEAAAAAAAIWkQDMzMzMzSqRAmpmZmZlJpECamZmZmQOkQDMzMzMzMKRAMzMzMzPTpUAAAAAAAEqkQAAAAAAAe6RAmpmZmZk4pECamZmZmTykQJqZmZmZEKRAAAAAAABZpECamZmZmUukQAAAAAAASKRAAAAAAABtpEDNzMzMzICkQM3MzMzMb6RAAAAAAABhpEAzMzMzMzykQDMzMzMzZ6RAAAAAAAB8pEA=\",\"dtype\":\"float64\",\"shape\":[100]}}},\"id\":\"2c94d651-290c-406d-a841-c1e028119df0\",\"type\":\"ColumnDataSource\"},{\"attributes\":{},\"id\":\"24ed8f37-dabf-414c-9ed5-5c18534b301e\",\"type\":\"BasicTicker\"},{\"attributes\":{\"line_color\":{\"value\":\"red\"},\"line_width\":{\"value\":3},\"x\":{\"field\":\"x\"},\"y\":{\"field\":\"y\"}},\"id\":\"a5846c2c-5079-410d-bce9-281bb23896ab\",\"type\":\"Line\"},{\"attributes\":{\"line_alpha\":{\"value\":0.1},\"line_color\":{\"value\":\"#1f77b4\"},\"line_width\":{\"value\":3},\"x\":{\"field\":\"x\"},\"y\":{\"field\":\"y\"}},\"id\":\"565caece-9a8a-45d7-b242-3e8c567e3be1\",\"type\":\"Line\"},{\"attributes\":{\"axis_label\":\"time us\",\"formatter\":{\"id\":\"8382b6f5-074a-470c-bed6-cbddab54d3fd\",\"type\":\"BasicTickFormatter\"},\"plot\":{\"id\":\"6531d38a-8d82-4421-8f23-6a47f7a88c14\",\"subtype\":\"Figure\",\"type\":\"Plot\"},\"ticker\":{\"id\":\"24ed8f37-dabf-414c-9ed5-5c18534b301e\",\"type\":\"BasicTicker\"}},\"id\":\"8d914853-46cc-4426-afc5-a1496bffeb89\",\"type\":\"LinearAxis\"},{\"attributes\":{\"callback\":null,\"column_names\":[\"x\",\"y\"],\"data\":{\"x\":[1,2,3,4,5,6,7,8,9,10,11,12,13,14,15,16,17,18,19,20,21,22,23,24,25,26,27,28,29,30,31,32,33,34,35,36,37,38,39,40,41,42,43,44,45,46,47,48,49,50,51,52,53,54,55,56,57,58,59,60,61,62,63,64,65,66,67,68,69,70,71,72,73,74,75,76,77,78,79,80,81,82,83,84,85,86,87,88,89,90,91,92,93,94,95,96,97,98,99,100],\"y\":{\"__ndarray__\":\"AAAAAIDhxUBmZmZm5le7QM3MzMzMWLNAmpmZmZkprkDNzMzMzOupQJqZmZmZDKlAZmZmZmatp0BmZmZmZhSoQGZmZmZmlKhAzczMzMw9qUDNzMzMzHCoQGZmZmZmzqdAMzMzMzP4pkCamZmZmZWmQM3MzMzMVqZAZmZmZmbgpUCamZmZmTemQAAAAAAAJaZAZmZmZmYSpkDNzMzMzOylQJqZmZmZbaVAAAAAAABIpUDNzMzMzDOlQGZmZmZmQKVAMzMzMzMopUBmZmZmZq+lQDMzMzMzK6VAmpmZmZkKpUCamZmZmYylQJqZmZmZ16VAmpmZmZn8pEBmZmZmZv2kQJqZmZmZfKVAAAAAAABUpUBmZmZmZoClQDMzMzMzsKVAzczMzMyjpUDNzMzMzKelQGZmZmZmcKVAAAAAAACHpUBmZmZmZmalQGZmZmZml6VAZmZmZmZtpUAAAAAAAFGlQDMzMzMzdqVAMzMzMzM3pUAAAAAAAGmlQM3MzMzMMKVAMzMzMzN7pUAzMzMzM3ilQGZmZmZmcqVAZmZmZmY7pUCamZmZmV+lQAAAAAAAT6VAAAAAAAB/pUAzMzMzM1KlQDMzMzMzYqVAAAAAAAB1pUDNzMzMzGalQAAAAAAAjKVAAAAAAAAwpUDNzMzMzE6lQM3MzMzMiKVAmpmZmZmTpUDNzMzMzG6lQDMzMzMzQqVAZmZmZmZ8pUAzMzMzM2ylQJqZmZmZOaVAAAAAAABLpUBmZmZmZlmlQM3MzMzMsaVAmpmZmZmjpUAzMzMzM2qlQJqZmZmZXaVAMzMzMzN4pUAAAAAAAF6lQGZmZmZmd6VAMzMzMzNnpUAzMzMzM6ClQGZmZmZmV6VAAAAAAABbpUBmZmZmZnelQM3MzMzMdaVAMzMzMzOQpUDNzMzMzHqlQAAAAAAAbqVAZmZmZmZ1pUCamZmZmYClQAAAAAAAqKVAzczMzMyIpUAzMzMzM2elQM3MzMzMwqVAMzMzMzNkpUBmZmZmZr2lQAAAAAAAfqVAzczMzMyxpUAzMzMzM4ilQDMzMzMzZqVAAAAAAACWpUA=\",\"dtype\":\"float64\",\"shape\":[100]}}},\"id\":\"567a2696-fd81-4dba-9e67-e8f94a4a4127\",\"type\":\"ColumnDataSource\"},{\"attributes\":{\"axis_label\":\"# tasks\",\"formatter\":{\"id\":\"4174e240-4bf0-4e24-91e0-8c03663cdfd6\",\"type\":\"BasicTickFormatter\"},\"plot\":{\"id\":\"6531d38a-8d82-4421-8f23-6a47f7a88c14\",\"subtype\":\"Figure\",\"type\":\"Plot\"},\"ticker\":{\"id\":\"ff9e4d27-afa8-4d6e-a4c2-3c0598daa156\",\"type\":\"BasicTicker\"}},\"id\":\"fec0d190-18c5-4023-98ce-039b6ac3308d\",\"type\":\"LinearAxis\"},{\"attributes\":{\"callback\":null},\"id\":\"d22582e3-7cd2-4dfd-8394-f946c8e24fb3\",\"type\":\"DataRange1d\"},{\"attributes\":{\"bottom_units\":\"screen\",\"fill_alpha\":{\"value\":0.5},\"fill_color\":{\"value\":\"lightgrey\"},\"left_units\":\"screen\",\"level\":\"overlay\",\"line_alpha\":{\"value\":1.0},\"line_color\":{\"value\":\"black\"},\"line_dash\":[4,4],\"line_width\":{\"value\":2},\"plot\":null,\"render_mode\":\"css\",\"right_units\":\"screen\",\"top_units\":\"screen\"},\"id\":\"d00b1cb0-8059-4193-818e-e06a057e7b40\",\"type\":\"BoxAnnotation\"},{\"attributes\":{},\"id\":\"8382b6f5-074a-470c-bed6-cbddab54d3fd\",\"type\":\"BasicTickFormatter\"},{\"attributes\":{},\"id\":\"88a17d61-4de7-44fa-9915-de592511cef4\",\"type\":\"PanTool\"},{\"attributes\":{\"data_source\":{\"id\":\"2c94d651-290c-406d-a841-c1e028119df0\",\"type\":\"ColumnDataSource\"},\"glyph\":{\"id\":\"a5846c2c-5079-410d-bce9-281bb23896ab\",\"type\":\"Line\"},\"hover_glyph\":null,\"muted_glyph\":null,\"nonselection_glyph\":{\"id\":\"68f550ff-3cf9-46db-a05a-9c78a668532c\",\"type\":\"Line\"},\"selection_glyph\":null,\"view\":{\"id\":\"f63f22d3-e52e-4609-ac91-d9598da76777\",\"type\":\"CDSView\"}},\"id\":\"35c58c01-6390-4dfa-8577-5aa3d2b686ba\",\"type\":\"GlyphRenderer\"},{\"attributes\":{\"line_alpha\":{\"value\":0.1},\"line_color\":{\"value\":\"#1f77b4\"},\"line_width\":{\"value\":3},\"x\":{\"field\":\"x\"},\"y\":{\"field\":\"y\"}},\"id\":\"68f550ff-3cf9-46db-a05a-9c78a668532c\",\"type\":\"Line\"},{\"attributes\":{},\"id\":\"bd8eddac-784a-4038-9b3a-4fe2abd5b84c\",\"type\":\"WheelZoomTool\"},{\"attributes\":{\"overlay\":{\"id\":\"d00b1cb0-8059-4193-818e-e06a057e7b40\",\"type\":\"BoxAnnotation\"}},\"id\":\"39891d71-c20a-4df0-83e5-807c8828342c\",\"type\":\"BoxZoomTool\"},{\"attributes\":{\"data_source\":{\"id\":\"567a2696-fd81-4dba-9e67-e8f94a4a4127\",\"type\":\"ColumnDataSource\"},\"glyph\":{\"id\":\"17a6c3c6-24d5-4036-9ddb-83ff8271eb43\",\"type\":\"Line\"},\"hover_glyph\":null,\"muted_glyph\":null,\"nonselection_glyph\":{\"id\":\"565caece-9a8a-45d7-b242-3e8c567e3be1\",\"type\":\"Line\"},\"selection_glyph\":null,\"view\":{\"id\":\"b5cdd88f-e597-47d9-8000-d12923dab8ec\",\"type\":\"CDSView\"}},\"id\":\"4f34a71c-c30e-43d0-8e23-cdc47f8c957a\",\"type\":\"GlyphRenderer\"},{\"attributes\":{},\"id\":\"180e607f-4c17-4c37-89d2-764f9bf108aa\",\"type\":\"SaveTool\"},{\"attributes\":{},\"id\":\"a411d723-f9b4-460e-a414-310c57c6ddce\",\"type\":\"LinearScale\"},{\"attributes\":{},\"id\":\"4174e240-4bf0-4e24-91e0-8c03663cdfd6\",\"type\":\"BasicTickFormatter\"},{\"attributes\":{},\"id\":\"e741aadc-7903-414c-823e-1413f3f956e1\",\"type\":\"ResetTool\"},{\"attributes\":{\"source\":{\"id\":\"2c94d651-290c-406d-a841-c1e028119df0\",\"type\":\"ColumnDataSource\"}},\"id\":\"f63f22d3-e52e-4609-ac91-d9598da76777\",\"type\":\"CDSView\"},{\"attributes\":{},\"id\":\"cc80c06f-afe0-482e-b91b-b5fdb8c1e3ec\",\"type\":\"HelpTool\"},{\"attributes\":{\"line_color\":{\"value\":\"#1f77b4\"},\"line_width\":{\"value\":3},\"x\":{\"field\":\"x\"},\"y\":{\"field\":\"y\"}},\"id\":\"17a6c3c6-24d5-4036-9ddb-83ff8271eb43\",\"type\":\"Line\"},{\"attributes\":{\"callback\":null},\"id\":\"55ba1453-f4a4-4d53-88a1-cc2287a20e2c\",\"type\":\"DataRange1d\"},{\"attributes\":{\"label\":{\"value\":\"Runnable\"},\"renderers\":[{\"id\":\"35c58c01-6390-4dfa-8577-5aa3d2b686ba\",\"type\":\"GlyphRenderer\"}]},\"id\":\"eb89b77e-7385-46e8-90a9-2d29ee03288f\",\"type\":\"LegendItem\"},{\"attributes\":{},\"id\":\"4a73ef3d-a1dd-4836-a7ae-3dfc7f0a7892\",\"type\":\"LinearScale\"},{\"attributes\":{\"active_drag\":\"auto\",\"active_inspect\":\"auto\",\"active_scroll\":\"auto\",\"active_tap\":\"auto\",\"tools\":[{\"id\":\"88a17d61-4de7-44fa-9915-de592511cef4\",\"type\":\"PanTool\"},{\"id\":\"bd8eddac-784a-4038-9b3a-4fe2abd5b84c\",\"type\":\"WheelZoomTool\"},{\"id\":\"39891d71-c20a-4df0-83e5-807c8828342c\",\"type\":\"BoxZoomTool\"},{\"id\":\"180e607f-4c17-4c37-89d2-764f9bf108aa\",\"type\":\"SaveTool\"},{\"id\":\"e741aadc-7903-414c-823e-1413f3f956e1\",\"type\":\"ResetTool\"},{\"id\":\"cc80c06f-afe0-482e-b91b-b5fdb8c1e3ec\",\"type\":\"HelpTool\"}]},\"id\":\"080e619b-d7bc-4c9e-8367-77ac837ca3c9\",\"type\":\"Toolbar\"}],\"root_ids\":[\"6531d38a-8d82-4421-8f23-6a47f7a88c14\"]},\"title\":\"Bokeh Application\",\"version\":\"0.12.9\"}};\n",
       "    var render_items = [{\"docid\":\"aa178c7e-4e1c-4d2b-9f9e-c274e92fe20d\",\"elementid\":\"52c36ead-19ca-4b9c-9b6a-b71fa4817450\",\"modelid\":\"6531d38a-8d82-4421-8f23-6a47f7a88c14\"}];\n",
       "\n",
       "    root.Bokeh.embed.embed_items(docs_json, render_items);\n",
       "  }\n",
       "\n",
       "  if (root.Bokeh !== undefined) {\n",
       "    embed_document(root);\n",
       "  } else {\n",
       "    var attempts = 0;\n",
       "    var timer = setInterval(function(root) {\n",
       "      if (root.Bokeh !== undefined) {\n",
       "        embed_document(root);\n",
       "        clearInterval(timer);\n",
       "      }\n",
       "      attempts++;\n",
       "      if (attempts > 100) {\n",
       "        console.log(\"Bokeh: ERROR: Unable to embed document because BokehJS library is missing\")\n",
       "        clearInterval(timer);\n",
       "      }\n",
       "    }, 10, root)\n",
       "  }\n",
       "})(window);"
      ],
      "application/vnd.bokehjs_exec.v0+json": ""
     },
     "metadata": {
      "application/vnd.bokehjs_exec.v0+json": {
       "id": "6531d38a-8d82-4421-8f23-6a47f7a88c14"
      }
     },
     "output_type": "display_data"
    }
   ],
   "source": [
    "show(p3)"
   ]
  },
  {
   "cell_type": "code",
   "execution_count": 21,
   "metadata": {},
   "outputs": [],
   "source": [
    "# output to static HTML file\n",
    "output_file(\"LongAdderExecutors.newWorkStealingPool.html\")"
   ]
  },
  {
   "cell_type": "code",
   "execution_count": 22,
   "metadata": {},
   "outputs": [
    {
     "data": {
      "text/html": [
       "\n",
       "<div class=\"bk-root\">\n",
       "    <div class=\"bk-plotdiv\" id=\"5362a779-9b00-4307-97ea-efd0b1a31f5c\"></div>\n",
       "</div>"
      ]
     },
     "metadata": {},
     "output_type": "display_data"
    },
    {
     "data": {
      "application/javascript": [
       "(function(root) {\n",
       "  function embed_document(root) {\n",
       "    var docs_json = {\"3413e129-2484-4196-ac54-0685844d2bfb\":{\"roots\":{\"references\":[{\"attributes\":{\"dimension\":1,\"plot\":{\"id\":\"07378f99-c4e0-4db7-ad3f-71bd1c569007\",\"subtype\":\"Figure\",\"type\":\"Plot\"},\"ticker\":{\"id\":\"edaa18c9-5091-4e08-aea8-ea9c6e43c5df\",\"type\":\"BasicTicker\"}},\"id\":\"bc8b4748-9322-4e0f-82a3-eda08fac2f23\",\"type\":\"Grid\"},{\"attributes\":{},\"id\":\"d9d811d2-ba3a-41f6-b95b-da24e1acd8f5\",\"type\":\"BasicTicker\"},{\"attributes\":{\"axis_label\":\"# tasks\",\"formatter\":{\"id\":\"d0d9f899-2845-4f0e-b1a8-d0847c72eadd\",\"type\":\"BasicTickFormatter\"},\"plot\":{\"id\":\"07378f99-c4e0-4db7-ad3f-71bd1c569007\",\"subtype\":\"Figure\",\"type\":\"Plot\"},\"ticker\":{\"id\":\"d9d811d2-ba3a-41f6-b95b-da24e1acd8f5\",\"type\":\"BasicTicker\"}},\"id\":\"8403b057-1676-43b1-846c-207661aa26e1\",\"type\":\"LinearAxis\"},{\"attributes\":{\"items\":[{\"id\":\"eb96822f-f364-4ccd-994b-98231dbd6f3f\",\"type\":\"LegendItem\"},{\"id\":\"67192ae2-af4f-49cf-95de-3e34b0c4972f\",\"type\":\"LegendItem\"}],\"plot\":{\"id\":\"07378f99-c4e0-4db7-ad3f-71bd1c569007\",\"subtype\":\"Figure\",\"type\":\"Plot\"}},\"id\":\"f550d15b-8d87-4035-939f-f76fd6f991e1\",\"type\":\"Legend\"},{\"attributes\":{\"callback\":null},\"id\":\"6ba67825-051e-451c-81ce-409d495f0ec1\",\"type\":\"DataRange1d\"},{\"attributes\":{},\"id\":\"edaa18c9-5091-4e08-aea8-ea9c6e43c5df\",\"type\":\"BasicTicker\"},{\"attributes\":{\"axis_label\":\"time us\",\"formatter\":{\"id\":\"4dcb324c-b55c-488a-8427-c516894fd34e\",\"type\":\"BasicTickFormatter\"},\"plot\":{\"id\":\"07378f99-c4e0-4db7-ad3f-71bd1c569007\",\"subtype\":\"Figure\",\"type\":\"Plot\"},\"ticker\":{\"id\":\"edaa18c9-5091-4e08-aea8-ea9c6e43c5df\",\"type\":\"BasicTicker\"}},\"id\":\"9f990dec-ed87-42e1-9188-b145fc74dd8b\",\"type\":\"LinearAxis\"},{\"attributes\":{\"line_alpha\":{\"value\":0.1},\"line_color\":{\"value\":\"#1f77b4\"},\"line_width\":{\"value\":3},\"x\":{\"field\":\"x\"},\"y\":{\"field\":\"y\"}},\"id\":\"6a1c8b9d-80ff-4c8e-8f8b-8b7887242553\",\"type\":\"Line\"},{\"attributes\":{\"callback\":null,\"column_names\":[\"x\",\"y\"],\"data\":{\"x\":[1,2,3,4,5,6,7,8,9,10,11,12,13,14,15,16,17,18,19,20,21,22,23,24,25,26,27,28,29,30,31,32,33,34,35,36,37,38,39,40,41,42,43,44,45,46,47,48,49,50,51,52,53,54,55,56,57,58,59,60,61,62,63,64,65,66,67,68,69,70,71,72,73,74,75,76,77,78,79,80,81,82,83,84,85,86,87,88,89,90,91,92,93,94,95,96,97,98,99,100],\"y\":{\"__ndarray__\":\"AAAAAIDGxUDNzMzMTNa7QDMzMzOzgLNAzczMzMx2rkCamZmZmSOsQDMzMzMz/alAZmZmZmZ2qECamZmZmbqnQM3MzMzMK6lAzczMzMxOqUAAAAAAAJioQJqZmZmZaqhAZmZmZmaZp0BmZmZmZk6mQM3MzMzMm6dAZmZmZmadp0BmZmZmZkSnQAAAAAAAYqdAZmZmZmZPp0BmZmZmZkOnQM3MzMzMnKZAAAAAAADkpkCamZmZmS6nQGZmZmZmOaZAMzMzMzPEpkCamZmZmSynQJqZmZmZ/KZAzczMzMzOpkAAAAAAAN2mQDMzMzMz0KZAzczMzMwIp0AzMzMzM5ynQGZmZmZmuadAzczMzMwUp0AzMzMzM2SnQM3MzMzMKqdAZmZmZmaxp0BmZmZmZvSmQGZmZmZmHKdAZmZmZmZIpkDNzMzMzASnQJqZmZmZWadAZmZmZmaQpkAzMzMzM0mnQJqZmZmZsKZAAAAAAAA8p0AAAAAAANSmQM3MzMzMFadAMzMzMzNRp0BmZmZmZuamQM3MzMzM/6ZAMzMzMzOUp0CamZmZmammQAAAAAAAAqhAAAAAAAA1qEAAAAAAAKGnQDMzMzMz16ZAAAAAAAACp0DNzMzMzNumQDMzMzMzfqdAzczMzMw6qEDNzMzMzBSoQGZmZmZm/KVAzczMzMzOpkAzMzMzM3epQDMzMzMzYqZAMzMzMzM7qECamZmZmbqmQM3MzMzMT6dAZmZmZmbUpkDNzMzMzIioQGZmZmZmNadAAAAAAAAyp0BmZmZmZgmnQGZmZmZmeqZAAAAAAAAjp0CamZmZmV+nQM3MzMzM+aZAzczMzMzPpkBmZmZmZqqmQJqZmZmZ96dAAAAAAADZpUDNzMzMzGSmQJqZmZmZ+6ZAAAAAAAC1pkDNzMzMzOCmQGZmZmZm7KZAZmZmZma3p0DNzMzMzEWnQAAAAAAAH6dAZmZmZmbLpUCamZmZmaOmQM3MzMzMbaZAMzMzMzNJpkAAAAAAAJGmQAAAAAAAy6hAAAAAAAANqUAAAAAAAHWpQAAAAAAAbKVAMzMzMzNeqEA=\",\"dtype\":\"float64\",\"shape\":[100]}}},\"id\":\"db8acc62-6316-45b2-9354-1ff666fee3e0\",\"type\":\"ColumnDataSource\"},{\"attributes\":{\"data_source\":{\"id\":\"59691dda-f859-46e6-a222-532d225b4586\",\"type\":\"ColumnDataSource\"},\"glyph\":{\"id\":\"db10f60f-e1b6-4303-87fc-ff9433140740\",\"type\":\"Line\"},\"hover_glyph\":null,\"muted_glyph\":null,\"nonselection_glyph\":{\"id\":\"6a1c8b9d-80ff-4c8e-8f8b-8b7887242553\",\"type\":\"Line\"},\"selection_glyph\":null,\"view\":{\"id\":\"f4c3cbe1-4c83-4b11-9651-89d4d95197d2\",\"type\":\"CDSView\"}},\"id\":\"64f27ed0-43e9-49f9-92cc-26785909f95e\",\"type\":\"GlyphRenderer\"},{\"attributes\":{\"bottom_units\":\"screen\",\"fill_alpha\":{\"value\":0.5},\"fill_color\":{\"value\":\"lightgrey\"},\"left_units\":\"screen\",\"level\":\"overlay\",\"line_alpha\":{\"value\":1.0},\"line_color\":{\"value\":\"black\"},\"line_dash\":[4,4],\"line_width\":{\"value\":2},\"plot\":null,\"render_mode\":\"css\",\"right_units\":\"screen\",\"top_units\":\"screen\"},\"id\":\"1b04c9c3-c4a6-4937-9adc-ce68e849a39c\",\"type\":\"BoxAnnotation\"},{\"attributes\":{\"below\":[{\"id\":\"8403b057-1676-43b1-846c-207661aa26e1\",\"type\":\"LinearAxis\"}],\"left\":[{\"id\":\"9f990dec-ed87-42e1-9188-b145fc74dd8b\",\"type\":\"LinearAxis\"}],\"renderers\":[{\"id\":\"8403b057-1676-43b1-846c-207661aa26e1\",\"type\":\"LinearAxis\"},{\"id\":\"ab31cbc3-4392-46eb-a136-ae1423a5ec46\",\"type\":\"Grid\"},{\"id\":\"9f990dec-ed87-42e1-9188-b145fc74dd8b\",\"type\":\"LinearAxis\"},{\"id\":\"bc8b4748-9322-4e0f-82a3-eda08fac2f23\",\"type\":\"Grid\"},{\"id\":\"1b04c9c3-c4a6-4937-9adc-ce68e849a39c\",\"type\":\"BoxAnnotation\"},{\"id\":\"f550d15b-8d87-4035-939f-f76fd6f991e1\",\"type\":\"Legend\"},{\"id\":\"64f27ed0-43e9-49f9-92cc-26785909f95e\",\"type\":\"GlyphRenderer\"},{\"id\":\"5b591cd9-c038-4eb7-9128-2091ad16f4ff\",\"type\":\"GlyphRenderer\"}],\"title\":{\"id\":\"f45aa151-174d-4ef2-8a55-08adf3291533\",\"type\":\"Title\"},\"toolbar\":{\"id\":\"7279d760-f3d6-4b30-af90-0b45bf4c80d7\",\"type\":\"Toolbar\"},\"x_range\":{\"id\":\"6ba67825-051e-451c-81ce-409d495f0ec1\",\"type\":\"DataRange1d\"},\"x_scale\":{\"id\":\"0a84923a-e5a1-4661-b9e3-b3eed369cfc6\",\"type\":\"LinearScale\"},\"y_range\":{\"id\":\"78cf9080-bdb3-4e2a-ba98-a4ea25b515a1\",\"type\":\"DataRange1d\"},\"y_scale\":{\"id\":\"d10c136d-f429-4a5a-899b-ba1c7152a9b2\",\"type\":\"LinearScale\"}},\"id\":\"07378f99-c4e0-4db7-ad3f-71bd1c569007\",\"subtype\":\"Figure\",\"type\":\"Plot\"},{\"attributes\":{},\"id\":\"cf174c47-3a5a-43d3-9381-1a2fdf4a8498\",\"type\":\"PanTool\"},{\"attributes\":{},\"id\":\"4dcb324c-b55c-488a-8427-c516894fd34e\",\"type\":\"BasicTickFormatter\"},{\"attributes\":{\"label\":{\"value\":\"Callable\"},\"renderers\":[{\"id\":\"5b591cd9-c038-4eb7-9128-2091ad16f4ff\",\"type\":\"GlyphRenderer\"}]},\"id\":\"67192ae2-af4f-49cf-95de-3e34b0c4972f\",\"type\":\"LegendItem\"},{\"attributes\":{},\"id\":\"77a087fb-409b-4da6-8639-868197d1cd63\",\"type\":\"WheelZoomTool\"},{\"attributes\":{},\"id\":\"d0d9f899-2845-4f0e-b1a8-d0847c72eadd\",\"type\":\"BasicTickFormatter\"},{\"attributes\":{\"overlay\":{\"id\":\"1b04c9c3-c4a6-4937-9adc-ce68e849a39c\",\"type\":\"BoxAnnotation\"}},\"id\":\"238b6e09-2808-479c-abe3-075cc2f54140\",\"type\":\"BoxZoomTool\"},{\"attributes\":{\"source\":{\"id\":\"59691dda-f859-46e6-a222-532d225b4586\",\"type\":\"ColumnDataSource\"}},\"id\":\"f4c3cbe1-4c83-4b11-9651-89d4d95197d2\",\"type\":\"CDSView\"},{\"attributes\":{},\"id\":\"f6b87a43-27e4-4107-911e-6eb8131cd9f8\",\"type\":\"SaveTool\"},{\"attributes\":{\"data_source\":{\"id\":\"db8acc62-6316-45b2-9354-1ff666fee3e0\",\"type\":\"ColumnDataSource\"},\"glyph\":{\"id\":\"1eb88dd3-dc7f-4ae2-8c13-7444d510d9f3\",\"type\":\"Line\"},\"hover_glyph\":null,\"muted_glyph\":null,\"nonselection_glyph\":{\"id\":\"15706e79-616e-45f7-9884-d22f64175ade\",\"type\":\"Line\"},\"selection_glyph\":null,\"view\":{\"id\":\"fd8aabc5-ea63-44ca-ac1e-cfc186e8495a\",\"type\":\"CDSView\"}},\"id\":\"5b591cd9-c038-4eb7-9128-2091ad16f4ff\",\"type\":\"GlyphRenderer\"},{\"attributes\":{},\"id\":\"4f2a45e7-88f8-404a-a444-f7cab5bb78ac\",\"type\":\"ResetTool\"},{\"attributes\":{\"label\":{\"value\":\"Runnable\"},\"renderers\":[{\"id\":\"64f27ed0-43e9-49f9-92cc-26785909f95e\",\"type\":\"GlyphRenderer\"}]},\"id\":\"eb96822f-f364-4ccd-994b-98231dbd6f3f\",\"type\":\"LegendItem\"},{\"attributes\":{},\"id\":\"4b710305-1ddc-45a2-a237-146579f9c847\",\"type\":\"HelpTool\"},{\"attributes\":{\"line_alpha\":{\"value\":0.1},\"line_color\":{\"value\":\"#1f77b4\"},\"line_width\":{\"value\":3},\"x\":{\"field\":\"x\"},\"y\":{\"field\":\"y\"}},\"id\":\"15706e79-616e-45f7-9884-d22f64175ade\",\"type\":\"Line\"},{\"attributes\":{\"source\":{\"id\":\"db8acc62-6316-45b2-9354-1ff666fee3e0\",\"type\":\"ColumnDataSource\"}},\"id\":\"fd8aabc5-ea63-44ca-ac1e-cfc186e8495a\",\"type\":\"CDSView\"},{\"attributes\":{\"line_color\":{\"value\":\"#1f77b4\"},\"line_width\":{\"value\":3},\"x\":{\"field\":\"x\"},\"y\":{\"field\":\"y\"}},\"id\":\"1eb88dd3-dc7f-4ae2-8c13-7444d510d9f3\",\"type\":\"Line\"},{\"attributes\":{\"active_drag\":\"auto\",\"active_inspect\":\"auto\",\"active_scroll\":\"auto\",\"active_tap\":\"auto\",\"tools\":[{\"id\":\"cf174c47-3a5a-43d3-9381-1a2fdf4a8498\",\"type\":\"PanTool\"},{\"id\":\"77a087fb-409b-4da6-8639-868197d1cd63\",\"type\":\"WheelZoomTool\"},{\"id\":\"238b6e09-2808-479c-abe3-075cc2f54140\",\"type\":\"BoxZoomTool\"},{\"id\":\"f6b87a43-27e4-4107-911e-6eb8131cd9f8\",\"type\":\"SaveTool\"},{\"id\":\"4f2a45e7-88f8-404a-a444-f7cab5bb78ac\",\"type\":\"ResetTool\"},{\"id\":\"4b710305-1ddc-45a2-a237-146579f9c847\",\"type\":\"HelpTool\"}]},\"id\":\"7279d760-f3d6-4b30-af90-0b45bf4c80d7\",\"type\":\"Toolbar\"},{\"attributes\":{\"plot\":null,\"text\":\"LongAdder(): Executors.atomicLongWorkStealing();\"},\"id\":\"f45aa151-174d-4ef2-8a55-08adf3291533\",\"type\":\"Title\"},{\"attributes\":{\"line_color\":{\"value\":\"red\"},\"line_width\":{\"value\":3},\"x\":{\"field\":\"x\"},\"y\":{\"field\":\"y\"}},\"id\":\"db10f60f-e1b6-4303-87fc-ff9433140740\",\"type\":\"Line\"},{\"attributes\":{},\"id\":\"d10c136d-f429-4a5a-899b-ba1c7152a9b2\",\"type\":\"LinearScale\"},{\"attributes\":{},\"id\":\"0a84923a-e5a1-4661-b9e3-b3eed369cfc6\",\"type\":\"LinearScale\"},{\"attributes\":{\"callback\":null,\"column_names\":[\"x\",\"y\"],\"data\":{\"x\":[1,2,3,4,5,6,7,8,9,10,11,12,13,14,15,16,17,18,19,20,21,22,23,24,25,26,27,28,29,30,31,32,33,34,35,36,37,38,39,40,41,42,43,44,45,46,47,48,49,50,51,52,53,54,55,56,57,58,59,60,61,62,63,64,65,66,67,68,69,70,71,72,73,74,75,76,77,78,79,80,81,82,83,84,85,86,87,88,89,90,91,92,93,94,95,96,97,98,99,100],\"y\":{\"__ndarray__\":\"ZmZmZib2x0AAAAAAgPW8QGZmZmZmRrNAZmZmZmaJr0AAAAAAAJesQGZmZmZmH6pAmpmZmZllqUCamZmZmY2oQGZmZmZmWapAAAAAAACYqUBmZmZmZtWpQJqZmZmZaKlAzczMzMxgqEAAAAAAAG+oQAAAAAAA3qZAMzMzMzOwpkBmZmZmZqanQJqZmZmZY6dAMzMzMzOIp0CamZmZmTSoQDMzMzMz7KZAzczMzMzXqEAzMzMzMzynQDMzMzMzVKdAMzMzMzNBp0AAAAAAAESnQGZmZmZmT6dAMzMzMzPYpkDNzMzMzAynQDMzMzMzNKhAZmZmZmbwpkAAAAAAADemQM3MzMzMJqdAmpmZmZmYpkDNzMzMzDinQJqZmZmZ16ZAZmZmZmZ/pkDNzMzMzJimQAAAAAAAjadAZmZmZmbBpkAzMzMzMzGnQGZmZmZmbKZAMzMzMzOOqECamZmZmWKmQGZmZmZmXKZAzczMzMwqp0AAAAAAAPqnQM3MzMzMjKdAMzMzMzPkp0DNzMzMzNmmQAAAAAAAqKZAAAAAAACVpkBmZmZmZoimQAAAAAAApadAzczMzMwoqEAAAAAAANamQAAAAAAAzqZAmpmZmZlBp0AzMzMzM7ymQAAAAAAAeaZAMzMzMzPhp0CamZmZmVmoQAAAAAAAeqZAZmZmZma9pkCamZmZmZGmQGZmZmZmh6ZAzczMzMyjpkAAAAAAAFymQJqZmZmZJ6ZAzczMzMyTpkBmZmZmZlCnQM3MzMzMjadAzczMzMy+p0AAAAAAAJ+mQJqZmZmZf6dAMzMzMzNupkAAAAAAAHanQJqZmZmZM6hAMzMzMzOEpkBmZmZmZrqmQGZmZmZme6dAMzMzMzNRp0BmZmZmZo2mQGZmZmZm76ZAmpmZmZlTp0AAAAAAAKOmQAAAAAAAFKdAzczMzMwypkAzMzMzM5+mQGZmZmZmjqVAzczMzMyHpUAAAAAAADenQJqZmZmZpKdAmpmZmZnop0AAAAAAAHCnQDMzMzMzJKdAZmZmZmZUp0AAAAAAAF2mQGZmZmZmNKZAmpmZmZm+qEA=\",\"dtype\":\"float64\",\"shape\":[100]}}},\"id\":\"59691dda-f859-46e6-a222-532d225b4586\",\"type\":\"ColumnDataSource\"},{\"attributes\":{\"callback\":null},\"id\":\"78cf9080-bdb3-4e2a-ba98-a4ea25b515a1\",\"type\":\"DataRange1d\"},{\"attributes\":{\"plot\":{\"id\":\"07378f99-c4e0-4db7-ad3f-71bd1c569007\",\"subtype\":\"Figure\",\"type\":\"Plot\"},\"ticker\":{\"id\":\"d9d811d2-ba3a-41f6-b95b-da24e1acd8f5\",\"type\":\"BasicTicker\"}},\"id\":\"ab31cbc3-4392-46eb-a136-ae1423a5ec46\",\"type\":\"Grid\"}],\"root_ids\":[\"07378f99-c4e0-4db7-ad3f-71bd1c569007\"]},\"title\":\"Bokeh Application\",\"version\":\"0.12.9\"}};\n",
       "    var render_items = [{\"docid\":\"3413e129-2484-4196-ac54-0685844d2bfb\",\"elementid\":\"5362a779-9b00-4307-97ea-efd0b1a31f5c\",\"modelid\":\"07378f99-c4e0-4db7-ad3f-71bd1c569007\"}];\n",
       "\n",
       "    root.Bokeh.embed.embed_items(docs_json, render_items);\n",
       "  }\n",
       "\n",
       "  if (root.Bokeh !== undefined) {\n",
       "    embed_document(root);\n",
       "  } else {\n",
       "    var attempts = 0;\n",
       "    var timer = setInterval(function(root) {\n",
       "      if (root.Bokeh !== undefined) {\n",
       "        embed_document(root);\n",
       "        clearInterval(timer);\n",
       "      }\n",
       "      attempts++;\n",
       "      if (attempts > 100) {\n",
       "        console.log(\"Bokeh: ERROR: Unable to embed document because BokehJS library is missing\")\n",
       "        clearInterval(timer);\n",
       "      }\n",
       "    }, 10, root)\n",
       "  }\n",
       "})(window);"
      ],
      "application/vnd.bokehjs_exec.v0+json": ""
     },
     "metadata": {
      "application/vnd.bokehjs_exec.v0+json": {
       "id": "07378f99-c4e0-4db7-ad3f-71bd1c569007"
      }
     },
     "output_type": "display_data"
    }
   ],
   "source": [
    "show(p4)"
   ]
  }
 ],
 "metadata": {
  "kernelspec": {
   "display_name": "Python 3",
   "language": "python",
   "name": "python3"
  },
  "language_info": {
   "codemirror_mode": {
    "name": "ipython",
    "version": 3
   },
   "file_extension": ".py",
   "mimetype": "text/x-python",
   "name": "python",
   "nbconvert_exporter": "python",
   "pygments_lexer": "ipython3",
   "version": "3.6.2"
  }
 },
 "nbformat": 4,
 "nbformat_minor": 2
}
