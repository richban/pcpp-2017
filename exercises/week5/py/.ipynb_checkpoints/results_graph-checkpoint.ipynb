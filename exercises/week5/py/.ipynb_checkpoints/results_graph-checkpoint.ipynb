{
 "cells": [
  {
   "cell_type": "code",
   "execution_count": 108,
   "metadata": {},
   "outputs": [
    {
     "data": {
      "text/html": [
       "\n",
       "    <div class=\"bk-root\">\n",
       "        <a href=\"https://bokeh.pydata.org\" target=\"_blank\" class=\"bk-logo bk-logo-small bk-logo-notebook\"></a>\n",
       "        <span id=\"71af8d2c-917d-4b1a-b82d-d785dab4caa9\">Loading BokehJS ...</span>\n",
       "    </div>"
      ]
     },
     "metadata": {},
     "output_type": "display_data"
    },
    {
     "data": {
      "application/javascript": [
       "\n",
       "(function(root) {\n",
       "  function now() {\n",
       "    return new Date();\n",
       "  }\n",
       "\n",
       "  var force = true;\n",
       "\n",
       "  if (typeof (root._bokeh_onload_callbacks) === \"undefined\" || force === true) {\n",
       "    root._bokeh_onload_callbacks = [];\n",
       "    root._bokeh_is_loading = undefined;\n",
       "  }\n",
       "\n",
       "  var JS_MIME_TYPE = 'application/javascript';\n",
       "  var HTML_MIME_TYPE = 'text/html';\n",
       "  var EXEC_MIME_TYPE = 'application/vnd.bokehjs_exec.v0+json';\n",
       "  var CLASS_NAME = 'output_bokeh rendered_html';\n",
       "\n",
       "  /**\n",
       "   * Render data to the DOM node\n",
       "   */\n",
       "  function render(props, node) {\n",
       "    var script = document.createElement(\"script\");\n",
       "    node.appendChild(script);\n",
       "  }\n",
       "\n",
       "  /**\n",
       "   * Handle when an output is cleared or removed\n",
       "   */\n",
       "  function handleClearOutput(event, handle) {\n",
       "    var cell = handle.cell;\n",
       "\n",
       "    var id = cell.output_area._bokeh_element_id;\n",
       "    var server_id = cell.output_area._bokeh_server_id;\n",
       "    // Clean up Bokeh references\n",
       "    if (id !== undefined) {\n",
       "      Bokeh.index[id].model.document.clear();\n",
       "      delete Bokeh.index[id];\n",
       "    }\n",
       "\n",
       "    if (server_id !== undefined) {\n",
       "      // Clean up Bokeh references\n",
       "      var cmd = \"from bokeh.io import _state; print(_state.uuid_to_server['\" + server_id + \"'].get_sessions()[0].document.roots[0]._id)\";\n",
       "      cell.notebook.kernel.execute(cmd, {\n",
       "        iopub: {\n",
       "          output: function(msg) {\n",
       "            var element_id = msg.content.text.trim();\n",
       "            Bokeh.index[element_id].model.document.clear();\n",
       "            delete Bokeh.index[element_id];\n",
       "          }\n",
       "        }\n",
       "      });\n",
       "      // Destroy server and session\n",
       "      var cmd = \"from bokeh import io; io._destroy_server('\" + server_id + \"')\";\n",
       "      cell.notebook.kernel.execute(cmd);\n",
       "    }\n",
       "  }\n",
       "\n",
       "  /**\n",
       "   * Handle when a new output is added\n",
       "   */\n",
       "  function handleAddOutput(event, handle) {\n",
       "    var output_area = handle.output_area;\n",
       "    var output = handle.output;\n",
       "\n",
       "    // limit handleAddOutput to display_data with EXEC_MIME_TYPE content only\n",
       "    if ((output.output_type != \"display_data\") || (!output.data.hasOwnProperty(EXEC_MIME_TYPE))) {\n",
       "      return\n",
       "    }\n",
       "\n",
       "    var toinsert = output_area.element.find(`.${CLASS_NAME.split(' ')[0]}`);\n",
       "\n",
       "    if (output.metadata[EXEC_MIME_TYPE][\"id\"] !== undefined) {\n",
       "      toinsert[0].firstChild.textContent = output.data[JS_MIME_TYPE];\n",
       "      // store reference to embed id on output_area\n",
       "      output_area._bokeh_element_id = output.metadata[EXEC_MIME_TYPE][\"id\"];\n",
       "    }\n",
       "    if (output.metadata[EXEC_MIME_TYPE][\"server_id\"] !== undefined) {\n",
       "      var bk_div = document.createElement(\"div\");\n",
       "      bk_div.innerHTML = output.data[HTML_MIME_TYPE];\n",
       "      var script_attrs = bk_div.children[0].attributes;\n",
       "      for (var i = 0; i < script_attrs.length; i++) {\n",
       "        toinsert[0].firstChild.setAttribute(script_attrs[i].name, script_attrs[i].value);\n",
       "      }\n",
       "      // store reference to server id on output_area\n",
       "      output_area._bokeh_server_id = output.metadata[EXEC_MIME_TYPE][\"server_id\"];\n",
       "    }\n",
       "  }\n",
       "\n",
       "  function register_renderer(events, OutputArea) {\n",
       "\n",
       "    function append_mime(data, metadata, element) {\n",
       "      // create a DOM node to render to\n",
       "      var toinsert = this.create_output_subarea(\n",
       "        metadata,\n",
       "        CLASS_NAME,\n",
       "        EXEC_MIME_TYPE\n",
       "      );\n",
       "      this.keyboard_manager.register_events(toinsert);\n",
       "      // Render to node\n",
       "      var props = {data: data, metadata: metadata[EXEC_MIME_TYPE]};\n",
       "      render(props, toinsert[0]);\n",
       "      element.append(toinsert);\n",
       "      return toinsert\n",
       "    }\n",
       "\n",
       "    /* Handle when an output is cleared or removed */\n",
       "    events.on('clear_output.CodeCell', handleClearOutput);\n",
       "    events.on('delete.Cell', handleClearOutput);\n",
       "\n",
       "    /* Handle when a new output is added */\n",
       "    events.on('output_added.OutputArea', handleAddOutput);\n",
       "\n",
       "    /**\n",
       "     * Register the mime type and append_mime function with output_area\n",
       "     */\n",
       "    OutputArea.prototype.register_mime_type(EXEC_MIME_TYPE, append_mime, {\n",
       "      /* Is output safe? */\n",
       "      safe: true,\n",
       "      /* Index of renderer in `output_area.display_order` */\n",
       "      index: 0\n",
       "    });\n",
       "  }\n",
       "\n",
       "  // register the mime type if in Jupyter Notebook environment and previously unregistered\n",
       "  if (root.Jupyter !== undefined) {\n",
       "    var events = require('base/js/events');\n",
       "    var OutputArea = require('notebook/js/outputarea').OutputArea;\n",
       "\n",
       "    if (OutputArea.prototype.mime_types().indexOf(EXEC_MIME_TYPE) == -1) {\n",
       "      register_renderer(events, OutputArea);\n",
       "    }\n",
       "  }\n",
       "\n",
       "  \n",
       "  if (typeof (root._bokeh_timeout) === \"undefined\" || force === true) {\n",
       "    root._bokeh_timeout = Date.now() + 5000;\n",
       "    root._bokeh_failed_load = false;\n",
       "  }\n",
       "\n",
       "  var NB_LOAD_WARNING = {'data': {'text/html':\n",
       "     \"<div style='background-color: #fdd'>\\n\"+\n",
       "     \"<p>\\n\"+\n",
       "     \"BokehJS does not appear to have successfully loaded. If loading BokehJS from CDN, this \\n\"+\n",
       "     \"may be due to a slow or bad network connection. Possible fixes:\\n\"+\n",
       "     \"</p>\\n\"+\n",
       "     \"<ul>\\n\"+\n",
       "     \"<li>re-rerun `output_notebook()` to attempt to load from CDN again, or</li>\\n\"+\n",
       "     \"<li>use INLINE resources instead, as so:</li>\\n\"+\n",
       "     \"</ul>\\n\"+\n",
       "     \"<code>\\n\"+\n",
       "     \"from bokeh.resources import INLINE\\n\"+\n",
       "     \"output_notebook(resources=INLINE)\\n\"+\n",
       "     \"</code>\\n\"+\n",
       "     \"</div>\"}};\n",
       "\n",
       "  function display_loaded() {\n",
       "    var el = document.getElementById(\"71af8d2c-917d-4b1a-b82d-d785dab4caa9\");\n",
       "    if (el != null) {\n",
       "      el.textContent = \"BokehJS is loading...\";\n",
       "    }\n",
       "    if (root.Bokeh !== undefined) {\n",
       "      if (el != null) {\n",
       "        el.textContent = \"BokehJS \" + root.Bokeh.version + \" successfully loaded.\";\n",
       "      }\n",
       "    } else if (Date.now() < root._bokeh_timeout) {\n",
       "      setTimeout(display_loaded, 100)\n",
       "    }\n",
       "  }\n",
       "\n",
       "\n",
       "  function run_callbacks() {\n",
       "    try {\n",
       "      root._bokeh_onload_callbacks.forEach(function(callback) { callback() });\n",
       "    }\n",
       "    finally {\n",
       "      delete root._bokeh_onload_callbacks\n",
       "    }\n",
       "    console.info(\"Bokeh: all callbacks have finished\");\n",
       "  }\n",
       "\n",
       "  function load_libs(js_urls, callback) {\n",
       "    root._bokeh_onload_callbacks.push(callback);\n",
       "    if (root._bokeh_is_loading > 0) {\n",
       "      console.log(\"Bokeh: BokehJS is being loaded, scheduling callback at\", now());\n",
       "      return null;\n",
       "    }\n",
       "    if (js_urls == null || js_urls.length === 0) {\n",
       "      run_callbacks();\n",
       "      return null;\n",
       "    }\n",
       "    console.log(\"Bokeh: BokehJS not loaded, scheduling load and callback at\", now());\n",
       "    root._bokeh_is_loading = js_urls.length;\n",
       "    for (var i = 0; i < js_urls.length; i++) {\n",
       "      var url = js_urls[i];\n",
       "      var s = document.createElement('script');\n",
       "      s.src = url;\n",
       "      s.async = false;\n",
       "      s.onreadystatechange = s.onload = function() {\n",
       "        root._bokeh_is_loading--;\n",
       "        if (root._bokeh_is_loading === 0) {\n",
       "          console.log(\"Bokeh: all BokehJS libraries loaded\");\n",
       "          run_callbacks()\n",
       "        }\n",
       "      };\n",
       "      s.onerror = function() {\n",
       "        console.warn(\"failed to load library \" + url);\n",
       "      };\n",
       "      console.log(\"Bokeh: injecting script tag for BokehJS library: \", url);\n",
       "      document.getElementsByTagName(\"head\")[0].appendChild(s);\n",
       "    }\n",
       "  };var element = document.getElementById(\"71af8d2c-917d-4b1a-b82d-d785dab4caa9\");\n",
       "  if (element == null) {\n",
       "    console.log(\"Bokeh: ERROR: autoload.js configured with elementid '71af8d2c-917d-4b1a-b82d-d785dab4caa9' but no matching script tag was found. \")\n",
       "    return false;\n",
       "  }\n",
       "\n",
       "  var js_urls = [\"https://cdn.pydata.org/bokeh/release/bokeh-0.12.9.min.js\", \"https://cdn.pydata.org/bokeh/release/bokeh-widgets-0.12.9.min.js\", \"https://cdn.pydata.org/bokeh/release/bokeh-tables-0.12.9.min.js\", \"https://cdn.pydata.org/bokeh/release/bokeh-gl-0.12.9.min.js\"];\n",
       "\n",
       "  var inline_js = [\n",
       "    function(Bokeh) {\n",
       "      Bokeh.set_log_level(\"info\");\n",
       "    },\n",
       "    \n",
       "    function(Bokeh) {\n",
       "      \n",
       "    },\n",
       "    function(Bokeh) {\n",
       "      console.log(\"Bokeh: injecting CSS: https://cdn.pydata.org/bokeh/release/bokeh-0.12.9.min.css\");\n",
       "      Bokeh.embed.inject_css(\"https://cdn.pydata.org/bokeh/release/bokeh-0.12.9.min.css\");\n",
       "      console.log(\"Bokeh: injecting CSS: https://cdn.pydata.org/bokeh/release/bokeh-widgets-0.12.9.min.css\");\n",
       "      Bokeh.embed.inject_css(\"https://cdn.pydata.org/bokeh/release/bokeh-widgets-0.12.9.min.css\");\n",
       "      console.log(\"Bokeh: injecting CSS: https://cdn.pydata.org/bokeh/release/bokeh-tables-0.12.9.min.css\");\n",
       "      Bokeh.embed.inject_css(\"https://cdn.pydata.org/bokeh/release/bokeh-tables-0.12.9.min.css\");\n",
       "    }\n",
       "  ];\n",
       "\n",
       "  function run_inline_js() {\n",
       "    \n",
       "    if ((root.Bokeh !== undefined) || (force === true)) {\n",
       "      for (var i = 0; i < inline_js.length; i++) {\n",
       "        inline_js[i].call(root, root.Bokeh);\n",
       "      }if (force === true) {\n",
       "        display_loaded();\n",
       "      }} else if (Date.now() < root._bokeh_timeout) {\n",
       "      setTimeout(run_inline_js, 100);\n",
       "    } else if (!root._bokeh_failed_load) {\n",
       "      console.log(\"Bokeh: BokehJS failed to load within specified timeout.\");\n",
       "      root._bokeh_failed_load = true;\n",
       "    } else if (force !== true) {\n",
       "      var cell = $(document.getElementById(\"71af8d2c-917d-4b1a-b82d-d785dab4caa9\")).parents('.cell').data().cell;\n",
       "      cell.output_area.append_execute_result(NB_LOAD_WARNING)\n",
       "    }\n",
       "\n",
       "  }\n",
       "\n",
       "  if (root._bokeh_is_loading === 0) {\n",
       "    console.log(\"Bokeh: BokehJS loaded, going straight to plotting\");\n",
       "    run_inline_js();\n",
       "  } else {\n",
       "    load_libs(js_urls, function() {\n",
       "      console.log(\"Bokeh: BokehJS plotting callback run at\", now());\n",
       "      run_inline_js();\n",
       "    });\n",
       "  }\n",
       "}(window));"
      ],
      "application/vnd.bokehjs_load.v0+json": "\n(function(root) {\n  function now() {\n    return new Date();\n  }\n\n  var force = true;\n\n  if (typeof (root._bokeh_onload_callbacks) === \"undefined\" || force === true) {\n    root._bokeh_onload_callbacks = [];\n    root._bokeh_is_loading = undefined;\n  }\n\n  \n\n  \n  if (typeof (root._bokeh_timeout) === \"undefined\" || force === true) {\n    root._bokeh_timeout = Date.now() + 5000;\n    root._bokeh_failed_load = false;\n  }\n\n  var NB_LOAD_WARNING = {'data': {'text/html':\n     \"<div style='background-color: #fdd'>\\n\"+\n     \"<p>\\n\"+\n     \"BokehJS does not appear to have successfully loaded. If loading BokehJS from CDN, this \\n\"+\n     \"may be due to a slow or bad network connection. Possible fixes:\\n\"+\n     \"</p>\\n\"+\n     \"<ul>\\n\"+\n     \"<li>re-rerun `output_notebook()` to attempt to load from CDN again, or</li>\\n\"+\n     \"<li>use INLINE resources instead, as so:</li>\\n\"+\n     \"</ul>\\n\"+\n     \"<code>\\n\"+\n     \"from bokeh.resources import INLINE\\n\"+\n     \"output_notebook(resources=INLINE)\\n\"+\n     \"</code>\\n\"+\n     \"</div>\"}};\n\n  function display_loaded() {\n    var el = document.getElementById(\"71af8d2c-917d-4b1a-b82d-d785dab4caa9\");\n    if (el != null) {\n      el.textContent = \"BokehJS is loading...\";\n    }\n    if (root.Bokeh !== undefined) {\n      if (el != null) {\n        el.textContent = \"BokehJS \" + root.Bokeh.version + \" successfully loaded.\";\n      }\n    } else if (Date.now() < root._bokeh_timeout) {\n      setTimeout(display_loaded, 100)\n    }\n  }\n\n\n  function run_callbacks() {\n    try {\n      root._bokeh_onload_callbacks.forEach(function(callback) { callback() });\n    }\n    finally {\n      delete root._bokeh_onload_callbacks\n    }\n    console.info(\"Bokeh: all callbacks have finished\");\n  }\n\n  function load_libs(js_urls, callback) {\n    root._bokeh_onload_callbacks.push(callback);\n    if (root._bokeh_is_loading > 0) {\n      console.log(\"Bokeh: BokehJS is being loaded, scheduling callback at\", now());\n      return null;\n    }\n    if (js_urls == null || js_urls.length === 0) {\n      run_callbacks();\n      return null;\n    }\n    console.log(\"Bokeh: BokehJS not loaded, scheduling load and callback at\", now());\n    root._bokeh_is_loading = js_urls.length;\n    for (var i = 0; i < js_urls.length; i++) {\n      var url = js_urls[i];\n      var s = document.createElement('script');\n      s.src = url;\n      s.async = false;\n      s.onreadystatechange = s.onload = function() {\n        root._bokeh_is_loading--;\n        if (root._bokeh_is_loading === 0) {\n          console.log(\"Bokeh: all BokehJS libraries loaded\");\n          run_callbacks()\n        }\n      };\n      s.onerror = function() {\n        console.warn(\"failed to load library \" + url);\n      };\n      console.log(\"Bokeh: injecting script tag for BokehJS library: \", url);\n      document.getElementsByTagName(\"head\")[0].appendChild(s);\n    }\n  };var element = document.getElementById(\"71af8d2c-917d-4b1a-b82d-d785dab4caa9\");\n  if (element == null) {\n    console.log(\"Bokeh: ERROR: autoload.js configured with elementid '71af8d2c-917d-4b1a-b82d-d785dab4caa9' but no matching script tag was found. \")\n    return false;\n  }\n\n  var js_urls = [\"https://cdn.pydata.org/bokeh/release/bokeh-0.12.9.min.js\", \"https://cdn.pydata.org/bokeh/release/bokeh-widgets-0.12.9.min.js\", \"https://cdn.pydata.org/bokeh/release/bokeh-tables-0.12.9.min.js\", \"https://cdn.pydata.org/bokeh/release/bokeh-gl-0.12.9.min.js\"];\n\n  var inline_js = [\n    function(Bokeh) {\n      Bokeh.set_log_level(\"info\");\n    },\n    \n    function(Bokeh) {\n      \n    },\n    function(Bokeh) {\n      console.log(\"Bokeh: injecting CSS: https://cdn.pydata.org/bokeh/release/bokeh-0.12.9.min.css\");\n      Bokeh.embed.inject_css(\"https://cdn.pydata.org/bokeh/release/bokeh-0.12.9.min.css\");\n      console.log(\"Bokeh: injecting CSS: https://cdn.pydata.org/bokeh/release/bokeh-widgets-0.12.9.min.css\");\n      Bokeh.embed.inject_css(\"https://cdn.pydata.org/bokeh/release/bokeh-widgets-0.12.9.min.css\");\n      console.log(\"Bokeh: injecting CSS: https://cdn.pydata.org/bokeh/release/bokeh-tables-0.12.9.min.css\");\n      Bokeh.embed.inject_css(\"https://cdn.pydata.org/bokeh/release/bokeh-tables-0.12.9.min.css\");\n    }\n  ];\n\n  function run_inline_js() {\n    \n    if ((root.Bokeh !== undefined) || (force === true)) {\n      for (var i = 0; i < inline_js.length; i++) {\n        inline_js[i].call(root, root.Bokeh);\n      }if (force === true) {\n        display_loaded();\n      }} else if (Date.now() < root._bokeh_timeout) {\n      setTimeout(run_inline_js, 100);\n    } else if (!root._bokeh_failed_load) {\n      console.log(\"Bokeh: BokehJS failed to load within specified timeout.\");\n      root._bokeh_failed_load = true;\n    } else if (force !== true) {\n      var cell = $(document.getElementById(\"71af8d2c-917d-4b1a-b82d-d785dab4caa9\")).parents('.cell').data().cell;\n      cell.output_area.append_execute_result(NB_LOAD_WARNING)\n    }\n\n  }\n\n  if (root._bokeh_is_loading === 0) {\n    console.log(\"Bokeh: BokehJS loaded, going straight to plotting\");\n    run_inline_js();\n  } else {\n    load_libs(js_urls, function() {\n      console.log(\"Bokeh: BokehJS plotting callback run at\", now());\n      run_inline_js();\n    });\n  }\n}(window));"
     },
     "metadata": {},
     "output_type": "display_data"
    }
   ],
   "source": [
    "import pandas as pa\n",
    "from bokeh.plotting import figure, output_file, show\n",
    "from bokeh.io import output_notebook\n",
    "output_notebook()"
   ]
  },
  {
   "cell_type": "code",
   "execution_count": 111,
   "metadata": {},
   "outputs": [],
   "source": [
    "names = [\"parTask\", \"taskCount\",\n",
    "         \"time\", \"us\", \"-\", \"taskCount\"]"
   ]
  },
  {
   "cell_type": "code",
   "execution_count": 112,
   "metadata": {},
   "outputs": [],
   "source": [
    "data = pa.read_csv(path, delim_whitespace=True, \n",
    "                   header=None, names=names,\n",
    "                   converters=converters)\n",
    "\n",
    "data_c = pa.read_csv(path, delim_whitespace=True, \n",
    "                   header=None, names=names,\n",
    "                   converters=converters)"
   ]
  },
  {
   "cell_type": "code",
   "execution_count": 113,
   "metadata": {},
   "outputs": [],
   "source": [
    "data = data.drop('us', 1)\n",
    "data_c = data_c.drop('us', 1)\n"
   ]
  },
  {
   "cell_type": "code",
   "execution_count": 114,
   "metadata": {},
   "outputs": [],
   "source": [
    "runnable = data[:100]\n",
    "callable_ = data[100:]\n",
    "\n",
    "runnable_c = data_c[:100]\n",
    "callable_c = data_c[100:]"
   ]
  },
  {
   "cell_type": "code",
   "execution_count": 115,
   "metadata": {},
   "outputs": [],
   "source": [
    "X_run = runnable[\"taskCount\"]\n",
    "Y_run = runnable[\"time\"]\n",
    "\n",
    "X_call = callable_[\"taskCount\"]\n",
    "Y_call = callable_[\"time\"]\n",
    "\n",
    "X_run_c = runnable[\"taskCount\"]\n",
    "Y_run_c = runnable[\"time\"]\n",
    "\n",
    "X_call_c = callable_[\"taskCount\"]\n",
    "Y_call_c = callable_[\"time\"]"
   ]
  },
  {
   "cell_type": "code",
   "execution_count": 116,
   "metadata": {},
   "outputs": [],
   "source": [
    "# new plot\n",
    "p1 = figure(\n",
    "    title=\"Executors.newWorkStealingPooll();\",\n",
    "    x_axis_label='# tasks', y_axis_label='time us'\n",
    ")\n",
    "\n",
    "# new plot\n",
    "p2 = figure(\n",
    "    title=\"Executors.newCachedThreadPool();\",\n",
    "    x_axis_label='# tasks', y_axis_label='time us'\n",
    ")"
   ]
  },
  {
   "cell_type": "code",
   "execution_count": 117,
   "metadata": {},
   "outputs": [
    {
     "data": {
      "text/html": [
       "<div style=\"display: table;\"><div style=\"display: table-row;\"><div style=\"display: table-cell;\"><b title=\"bokeh.models.renderers.GlyphRenderer\">GlyphRenderer</b>(</div><div style=\"display: table-cell;\">id&nbsp;=&nbsp;'e5ad6a48-8f3e-4435-9fac-70a75a5857c8', <span id=\"4d8923a1-d5a1-4533-bd29-c3fe9360b9f6\" style=\"cursor: pointer;\">&hellip;)</span></div></div><div class=\"0b8af743-88d8-4ad3-9a6f-a2bed7a21a1e\" style=\"display: none;\"><div style=\"display: table-cell;\"></div><div style=\"display: table-cell;\">data_source&nbsp;=&nbsp;ColumnDataSource(id='72d7dc80-bb23-4a0c-9844-1e2044bdc434', ...),</div></div><div class=\"0b8af743-88d8-4ad3-9a6f-a2bed7a21a1e\" style=\"display: none;\"><div style=\"display: table-cell;\"></div><div style=\"display: table-cell;\">glyph&nbsp;=&nbsp;Line(id='b1033b38-ff1f-43b9-9aa0-a4e53227a0c4', ...),</div></div><div class=\"0b8af743-88d8-4ad3-9a6f-a2bed7a21a1e\" style=\"display: none;\"><div style=\"display: table-cell;\"></div><div style=\"display: table-cell;\">hover_glyph&nbsp;=&nbsp;None,</div></div><div class=\"0b8af743-88d8-4ad3-9a6f-a2bed7a21a1e\" style=\"display: none;\"><div style=\"display: table-cell;\"></div><div style=\"display: table-cell;\">js_event_callbacks&nbsp;=&nbsp;{},</div></div><div class=\"0b8af743-88d8-4ad3-9a6f-a2bed7a21a1e\" style=\"display: none;\"><div style=\"display: table-cell;\"></div><div style=\"display: table-cell;\">js_property_callbacks&nbsp;=&nbsp;{},</div></div><div class=\"0b8af743-88d8-4ad3-9a6f-a2bed7a21a1e\" style=\"display: none;\"><div style=\"display: table-cell;\"></div><div style=\"display: table-cell;\">level&nbsp;=&nbsp;'glyph',</div></div><div class=\"0b8af743-88d8-4ad3-9a6f-a2bed7a21a1e\" style=\"display: none;\"><div style=\"display: table-cell;\"></div><div style=\"display: table-cell;\">muted&nbsp;=&nbsp;False,</div></div><div class=\"0b8af743-88d8-4ad3-9a6f-a2bed7a21a1e\" style=\"display: none;\"><div style=\"display: table-cell;\"></div><div style=\"display: table-cell;\">muted_glyph&nbsp;=&nbsp;None,</div></div><div class=\"0b8af743-88d8-4ad3-9a6f-a2bed7a21a1e\" style=\"display: none;\"><div style=\"display: table-cell;\"></div><div style=\"display: table-cell;\">name&nbsp;=&nbsp;None,</div></div><div class=\"0b8af743-88d8-4ad3-9a6f-a2bed7a21a1e\" style=\"display: none;\"><div style=\"display: table-cell;\"></div><div style=\"display: table-cell;\">nonselection_glyph&nbsp;=&nbsp;Line(id='d1849c15-4984-4126-a475-22007d851f61', ...),</div></div><div class=\"0b8af743-88d8-4ad3-9a6f-a2bed7a21a1e\" style=\"display: none;\"><div style=\"display: table-cell;\"></div><div style=\"display: table-cell;\">selection_glyph&nbsp;=&nbsp;None,</div></div><div class=\"0b8af743-88d8-4ad3-9a6f-a2bed7a21a1e\" style=\"display: none;\"><div style=\"display: table-cell;\"></div><div style=\"display: table-cell;\">subscribed_events&nbsp;=&nbsp;[],</div></div><div class=\"0b8af743-88d8-4ad3-9a6f-a2bed7a21a1e\" style=\"display: none;\"><div style=\"display: table-cell;\"></div><div style=\"display: table-cell;\">tags&nbsp;=&nbsp;[],</div></div><div class=\"0b8af743-88d8-4ad3-9a6f-a2bed7a21a1e\" style=\"display: none;\"><div style=\"display: table-cell;\"></div><div style=\"display: table-cell;\">view&nbsp;=&nbsp;CDSView(id='c81e69bb-b0ac-4839-8c15-9475468fa00e', ...),</div></div><div class=\"0b8af743-88d8-4ad3-9a6f-a2bed7a21a1e\" style=\"display: none;\"><div style=\"display: table-cell;\"></div><div style=\"display: table-cell;\">visible&nbsp;=&nbsp;True,</div></div><div class=\"0b8af743-88d8-4ad3-9a6f-a2bed7a21a1e\" style=\"display: none;\"><div style=\"display: table-cell;\"></div><div style=\"display: table-cell;\">x_range_name&nbsp;=&nbsp;'default',</div></div><div class=\"0b8af743-88d8-4ad3-9a6f-a2bed7a21a1e\" style=\"display: none;\"><div style=\"display: table-cell;\"></div><div style=\"display: table-cell;\">y_range_name&nbsp;=&nbsp;'default')</div></div></div>\n",
       "<script>\n",
       "(function() {\n",
       "  var expanded = false;\n",
       "  var ellipsis = document.getElementById(\"4d8923a1-d5a1-4533-bd29-c3fe9360b9f6\");\n",
       "  ellipsis.addEventListener(\"click\", function() {\n",
       "    var rows = document.getElementsByClassName(\"0b8af743-88d8-4ad3-9a6f-a2bed7a21a1e\");\n",
       "    for (var i = 0; i < rows.length; i++) {\n",
       "      var el = rows[i];\n",
       "      el.style.display = expanded ? \"none\" : \"table-row\";\n",
       "    }\n",
       "    ellipsis.innerHTML = expanded ? \"&hellip;)\" : \"&lsaquo;&lsaquo;&lsaquo;\";\n",
       "    expanded = !expanded;\n",
       "  });\n",
       "})();\n",
       "</script>\n"
      ],
      "text/plain": [
       "GlyphRenderer(id='e5ad6a48-8f3e-4435-9fac-70a75a5857c8', ...)"
      ]
     },
     "execution_count": 117,
     "metadata": {},
     "output_type": "execute_result"
    }
   ],
   "source": [
    "# renders\n",
    "p1.line(X_run, Y_run, legend=\"Runnable\", line_color=\"red\", line_width=3)\n",
    "p1.line(X_call, Y_call, legend=\"Callable\", line_width=3)\n",
    "\n",
    "p2.line(X_run_c, Y_run_c, legend=\"Runnable\", line_color=\"red\", line_width=3)\n",
    "p2.line(X_call_c, Y_call_c, legend=\"Callable\", line_width=3)"
   ]
  },
  {
   "cell_type": "code",
   "execution_count": 118,
   "metadata": {},
   "outputs": [],
   "source": [
    "# output to static HTML file\n",
    "output_file(\"Executors.newWorkStealingPool.html\")"
   ]
  },
  {
   "cell_type": "code",
   "execution_count": 119,
   "metadata": {},
   "outputs": [
    {
     "data": {
      "text/html": [
       "\n",
       "<div class=\"bk-root\">\n",
       "    <div class=\"bk-plotdiv\" id=\"da6d3586-a21d-4f4c-9a9e-a3f4fb2e9311\"></div>\n",
       "</div>"
      ]
     },
     "metadata": {},
     "output_type": "display_data"
    },
    {
     "data": {
      "application/javascript": [
       "(function(root) {\n",
       "  function embed_document(root) {\n",
       "    var docs_json = {\"506091ef-4a21-47de-885a-1328225d1925\":{\"roots\":{\"references\":[{\"attributes\":{\"callback\":null,\"column_names\":[\"x\",\"y\"],\"data\":{\"x\":[1,2,3,4,5,6,7,8,9,10,11,12,13,14,15,16,17,18,19,20,21,22,23,24,25,26,27,28,29,30,31,32,33,34,35,36,37,38,39,40,41,42,43,44,45,46,47,48,49,50,51,52,53,54,55,56,57,58,59,60,61,62,63,64,65,66,67,68,69,70,71,72,73,74,75,76,77,78,79,80,81,82,83,84,85,86,87,88,89,90,91,92,93,94,95,96,97,98,99,100],\"y\":{\"__ndarray__\":\"AAAAAABhxUAAAAAAANO6QJqZmZmZLLNAMzMzMzPirUDNzMzMzOerQDMzMzMzpKlAzczMzMzop0AAAAAAAAynQM3MzMzMlKhAMzMzMzNhqEDNzMzMzCSoQDMzMzMz7adAzczMzMxzp0BmZmZmZgumQM3MzMzMiKVAzczMzMwgpkCamZmZmZqmQAAAAAAADadAMzMzMzP6pkCamZmZmZWmQJqZmZmZlKZAmpmZmZlipkDNzMzMzA2mQDMzMzMzEKZAzczMzMwqpkAAAAAAAC6mQGZmZmZmyKZAzczMzMzIpUDNzMzMzIGlQAAAAAAA4KVAmpmZmZn9pUDNzMzMzM6lQDMzMzMz3KVAMzMzMzOspUCamZmZmaKlQGZmZmZmHqZAAAAAAAAxpkAzMzMzMy2mQAAAAAAAC6ZAMzMzMzMDp0AzMzMzM5imQGZmZmZmy6VAAAAAAACYpUDNzMzMzEOlQDMzMzMzkKZAMzMzMzObpkCamZmZmZymQDMzMzMz26ZAAAAAAAC6pUBmZmZmZnSmQJqZmZmZGKdAMzMzMzPXpUAzMzMzM/2lQJqZmZmZiKVAmpmZmZnapUAzMzMzM5WlQDMzMzMzcKVAmpmZmZm4pUDNzMzMzNqkQGZmZmZmCaZAmpmZmZmhpUDNzMzMzJalQGZmZmZmxqVAMzMzMzN6pUDNzMzMzLOlQM3MzMzMfqVAmpmZmZlPpUBmZmZmZnylQAAAAAAAnqRAzczMzMzFpUAAAAAAAMakQGZmZmZmWqRAMzMzMzOhpUDNzMzMzE+lQM3MzMzM4qVAZmZmZmYrpUAAAAAAADukQM3MzMzMC6VAMzMzMzPspECamZmZmS6mQAAAAAAA6qVAzczMzMzupkCamZmZmfemQGZmZmZmGqZAzczMzMwgpkDNzMzMzPulQAAAAAAAC6ZAMzMzMzPWpkDNzMzMzPOlQM3MzMzMAqZAmpmZmZlwpUAzMzMzM96kQJqZmZmZxqVAZmZmZma2pUCamZmZmYGlQAAAAAAAW6VAzczMzMxupkAzMzMzM12lQDMzMzMz6aRAZmZmZmbepUA=\",\"dtype\":\"float64\",\"shape\":[100]}}},\"id\":\"3050ec1f-defc-490b-8b6e-bd150126bc86\",\"type\":\"ColumnDataSource\"},{\"attributes\":{\"active_drag\":\"auto\",\"active_inspect\":\"auto\",\"active_scroll\":\"auto\",\"active_tap\":\"auto\",\"tools\":[{\"id\":\"92e95d00-8fc4-4b94-ad4b-da9d02a6d940\",\"type\":\"PanTool\"},{\"id\":\"6aa7fec3-0a5e-48ad-b4a8-173f7cdb4286\",\"type\":\"WheelZoomTool\"},{\"id\":\"8da2e1cc-d6bc-4e93-b74b-556f56ed27b8\",\"type\":\"BoxZoomTool\"},{\"id\":\"d4cdf9bd-14ae-462b-9bc7-0045981e8528\",\"type\":\"SaveTool\"},{\"id\":\"b29c80fd-f1ef-4b6d-a7f3-0e9a142bb858\",\"type\":\"ResetTool\"},{\"id\":\"b297b6ee-c119-4430-8fff-1679f8385cab\",\"type\":\"HelpTool\"}]},\"id\":\"6046bead-9db4-411e-83c3-071154631c7a\",\"type\":\"Toolbar\"},{\"attributes\":{\"callback\":null,\"column_names\":[\"x\",\"y\"],\"data\":{\"x\":[1,2,3,4,5,6,7,8,9,10,11,12,13,14,15,16,17,18,19,20,21,22,23,24,25,26,27,28,29,30,31,32,33,34,35,36,37,38,39,40,41,42,43,44,45,46,47,48,49,50,51,52,53,54,55,56,57,58,59,60,61,62,63,64,65,66,67,68,69,70,71,72,73,74,75,76,77,78,79,80,81,82,83,84,85,86,87,88,89,90,91,92,93,94,95,96,97,98,99,100],\"y\":{\"__ndarray__\":\"ZmZmZibwxUAzMzMzM527QAAAAAAAv7NAAAAAAAAQr0AzMzMzM12tQGZmZmZm/qpAAAAAAAAwqUBmZmZmZtKnQM3MzMzMFKtAZmZmZmZXqkAAAAAAAEapQAAAAAAAZqdAAAAAAAAzqEDNzMzMzFyoQAAAAAAA3qdAzczMzMy/p0CamZmZmbmpQGZmZmZmCKlAZmZmZmbup0AzMzMzM8WoQM3MzMzMYqlAmpmZmZkTqEAAAAAAAGCnQM3MzMzM+adAAAAAAADHpkDNzMzMzFmnQAAAAAAAdKdAMzMzMzODp0DNzMzMzImmQDMzMzMzgKZAAAAAAABMp0AzMzMzMzmoQGZmZmZmB6dAAAAAAACKp0AAAAAAADmnQGZmZmZm1aZAZmZmZmZNp0AzMzMzMxWnQJqZmZmZsqZAZmZmZmZZp0CamZmZmUmnQM3MzMzMgqdAmpmZmZk+p0AAAAAAAFGnQGZmZmZm1aZAMzMzMzMkp0AzMzMzMy2nQJqZmZmZ+KZAzczMzMzspkDNzMzMzCmnQJqZmZmZVqdAAAAAAABEqkBmZmZmZtunQM3MzMzMCqdAmpmZmZnJpkCamZmZmeymQGZmZmZmZKdAZmZmZmYjp0AAAAAAALqnQGZmZmZmv6hAzczMzMz3qEBmZmZmZi2nQGZmZmZmQKdAmpmZmZmSp0BmZmZmZvmnQM3MzMzMR6dAAAAAAACgp0DNzMzMzJanQJqZmZmZeKdAAAAAAAAmp0AzMzMzM56mQGZmZmZmQKdAAAAAAACnp0AAAAAAAP6nQDMzMzMzu6dAzczMzMwrp0AzMzMzM32nQM3MzMzMbadAmpmZmZlqp0CamZmZmSCnQDMzMzMze6dAmpmZmZmMp0AzMzMzM5OnQGZmZmZmm6dAZmZmZmZup0BmZmZmZuOoQDMzMzMzvaZAAAAAAACTpkAzMzMzM2qnQDMzMzMzkqdAZmZmZmbdpkCamZmZmVWnQAAAAAAAh6dAMzMzMzPBp0DNzMzMzDenQDMzMzMzsadAAAAAAADip0BmZmZmZhmoQGZmZmZmAqpAAAAAAAAiqEA=\",\"dtype\":\"float64\",\"shape\":[100]}}},\"id\":\"6bcdf471-e51f-4879-b3df-ac20afbd8c55\",\"type\":\"ColumnDataSource\"},{\"attributes\":{},\"id\":\"19897b4f-f964-4eb7-a6f6-9de1011b9ec5\",\"type\":\"BasicTickFormatter\"},{\"attributes\":{},\"id\":\"9ce2dfa1-dfe9-4d43-adb9-53b681e19ff1\",\"type\":\"LinearScale\"},{\"attributes\":{\"line_color\":{\"value\":\"red\"},\"line_width\":{\"value\":3},\"x\":{\"field\":\"x\"},\"y\":{\"field\":\"y\"}},\"id\":\"d73980ee-6ede-4df8-a5a0-9335ebbe53c6\",\"type\":\"Line\"},{\"attributes\":{\"callback\":null},\"id\":\"c01174d0-4dd5-47ab-8c5a-e450c8fb3c88\",\"type\":\"DataRange1d\"},{\"attributes\":{\"line_alpha\":{\"value\":0.1},\"line_color\":{\"value\":\"#1f77b4\"},\"line_width\":{\"value\":3},\"x\":{\"field\":\"x\"},\"y\":{\"field\":\"y\"}},\"id\":\"a6e5c19b-db6b-422c-8957-8652a2cf1640\",\"type\":\"Line\"},{\"attributes\":{\"data_source\":{\"id\":\"6bcdf471-e51f-4879-b3df-ac20afbd8c55\",\"type\":\"ColumnDataSource\"},\"glyph\":{\"id\":\"d73980ee-6ede-4df8-a5a0-9335ebbe53c6\",\"type\":\"Line\"},\"hover_glyph\":null,\"muted_glyph\":null,\"nonselection_glyph\":{\"id\":\"a6e5c19b-db6b-422c-8957-8652a2cf1640\",\"type\":\"Line\"},\"selection_glyph\":null,\"view\":{\"id\":\"82baaeac-11d1-46a0-8a3d-730f1225f0e5\",\"type\":\"CDSView\"}},\"id\":\"31cdd44f-a3ff-47ce-8bab-2d21f102e2a2\",\"type\":\"GlyphRenderer\"},{\"attributes\":{\"plot\":null,\"text\":\"Executors.newWorkStealingPooll();\"},\"id\":\"f4746b0f-1124-47c4-8d50-d9699e6a695e\",\"type\":\"Title\"},{\"attributes\":{},\"id\":\"06edfda3-8803-4f6a-9918-e4280272b322\",\"type\":\"BasicTicker\"},{\"attributes\":{\"source\":{\"id\":\"6bcdf471-e51f-4879-b3df-ac20afbd8c55\",\"type\":\"ColumnDataSource\"}},\"id\":\"82baaeac-11d1-46a0-8a3d-730f1225f0e5\",\"type\":\"CDSView\"},{\"attributes\":{},\"id\":\"f311d9f5-232c-4a4d-9855-7c7fae828194\",\"type\":\"LinearScale\"},{\"attributes\":{\"axis_label\":\"# tasks\",\"formatter\":{\"id\":\"19897b4f-f964-4eb7-a6f6-9de1011b9ec5\",\"type\":\"BasicTickFormatter\"},\"plot\":{\"id\":\"806719cb-51d8-4328-a9e9-ad91a4b5bb9e\",\"subtype\":\"Figure\",\"type\":\"Plot\"},\"ticker\":{\"id\":\"06edfda3-8803-4f6a-9918-e4280272b322\",\"type\":\"BasicTicker\"}},\"id\":\"381e5c8d-99f0-4082-86f4-db992e0b7b7b\",\"type\":\"LinearAxis\"},{\"attributes\":{},\"id\":\"0caf7f2a-2866-44a3-97d0-6bd37298a10c\",\"type\":\"BasicTickFormatter\"},{\"attributes\":{\"callback\":null},\"id\":\"040932c5-f056-4efd-9e55-a3405aab3ad8\",\"type\":\"DataRange1d\"},{\"attributes\":{},\"id\":\"84931175-d728-4f52-9be4-689641db2bef\",\"type\":\"BasicTicker\"},{\"attributes\":{\"label\":{\"value\":\"Callable\"},\"renderers\":[{\"id\":\"af3c074e-5b86-4d1a-98c3-9b77e760e9cd\",\"type\":\"GlyphRenderer\"}]},\"id\":\"189399eb-f410-4497-a958-ee977210b069\",\"type\":\"LegendItem\"},{\"attributes\":{\"line_alpha\":{\"value\":0.1},\"line_color\":{\"value\":\"#1f77b4\"},\"line_width\":{\"value\":3},\"x\":{\"field\":\"x\"},\"y\":{\"field\":\"y\"}},\"id\":\"74c8b3ba-f004-48cc-b187-fd90af2574f6\",\"type\":\"Line\"},{\"attributes\":{\"data_source\":{\"id\":\"3050ec1f-defc-490b-8b6e-bd150126bc86\",\"type\":\"ColumnDataSource\"},\"glyph\":{\"id\":\"5f7a9d16-ccb0-4d72-8e53-9812050cacaf\",\"type\":\"Line\"},\"hover_glyph\":null,\"muted_glyph\":null,\"nonselection_glyph\":{\"id\":\"74c8b3ba-f004-48cc-b187-fd90af2574f6\",\"type\":\"Line\"},\"selection_glyph\":null,\"view\":{\"id\":\"ebb05578-2973-40da-a85c-c16e71ac6a29\",\"type\":\"CDSView\"}},\"id\":\"af3c074e-5b86-4d1a-98c3-9b77e760e9cd\",\"type\":\"GlyphRenderer\"},{\"attributes\":{\"axis_label\":\"time us\",\"formatter\":{\"id\":\"0caf7f2a-2866-44a3-97d0-6bd37298a10c\",\"type\":\"BasicTickFormatter\"},\"plot\":{\"id\":\"806719cb-51d8-4328-a9e9-ad91a4b5bb9e\",\"subtype\":\"Figure\",\"type\":\"Plot\"},\"ticker\":{\"id\":\"84931175-d728-4f52-9be4-689641db2bef\",\"type\":\"BasicTicker\"}},\"id\":\"6a894024-f98f-4d4c-bd08-a774dab5cc93\",\"type\":\"LinearAxis\"},{\"attributes\":{\"label\":{\"value\":\"Runnable\"},\"renderers\":[{\"id\":\"31cdd44f-a3ff-47ce-8bab-2d21f102e2a2\",\"type\":\"GlyphRenderer\"}]},\"id\":\"38d5b6d9-f58f-4e88-bc06-6ea3f802bbf4\",\"type\":\"LegendItem\"},{\"attributes\":{\"source\":{\"id\":\"3050ec1f-defc-490b-8b6e-bd150126bc86\",\"type\":\"ColumnDataSource\"}},\"id\":\"ebb05578-2973-40da-a85c-c16e71ac6a29\",\"type\":\"CDSView\"},{\"attributes\":{\"dimension\":1,\"plot\":{\"id\":\"806719cb-51d8-4328-a9e9-ad91a4b5bb9e\",\"subtype\":\"Figure\",\"type\":\"Plot\"},\"ticker\":{\"id\":\"84931175-d728-4f52-9be4-689641db2bef\",\"type\":\"BasicTicker\"}},\"id\":\"c36a5249-475d-4c74-93b5-d370b1c4f7af\",\"type\":\"Grid\"},{\"attributes\":{\"line_color\":{\"value\":\"#1f77b4\"},\"line_width\":{\"value\":3},\"x\":{\"field\":\"x\"},\"y\":{\"field\":\"y\"}},\"id\":\"5f7a9d16-ccb0-4d72-8e53-9812050cacaf\",\"type\":\"Line\"},{\"attributes\":{\"plot\":{\"id\":\"806719cb-51d8-4328-a9e9-ad91a4b5bb9e\",\"subtype\":\"Figure\",\"type\":\"Plot\"},\"ticker\":{\"id\":\"06edfda3-8803-4f6a-9918-e4280272b322\",\"type\":\"BasicTicker\"}},\"id\":\"00f7e0d7-2eae-4f1b-a79e-ef1ae9dc5f96\",\"type\":\"Grid\"},{\"attributes\":{},\"id\":\"92e95d00-8fc4-4b94-ad4b-da9d02a6d940\",\"type\":\"PanTool\"},{\"attributes\":{\"bottom_units\":\"screen\",\"fill_alpha\":{\"value\":0.5},\"fill_color\":{\"value\":\"lightgrey\"},\"left_units\":\"screen\",\"level\":\"overlay\",\"line_alpha\":{\"value\":1.0},\"line_color\":{\"value\":\"black\"},\"line_dash\":[4,4],\"line_width\":{\"value\":2},\"plot\":null,\"render_mode\":\"css\",\"right_units\":\"screen\",\"top_units\":\"screen\"},\"id\":\"716e28e2-f5da-4e7f-88a6-f1d613de1713\",\"type\":\"BoxAnnotation\"},{\"attributes\":{\"below\":[{\"id\":\"381e5c8d-99f0-4082-86f4-db992e0b7b7b\",\"type\":\"LinearAxis\"}],\"left\":[{\"id\":\"6a894024-f98f-4d4c-bd08-a774dab5cc93\",\"type\":\"LinearAxis\"}],\"renderers\":[{\"id\":\"381e5c8d-99f0-4082-86f4-db992e0b7b7b\",\"type\":\"LinearAxis\"},{\"id\":\"00f7e0d7-2eae-4f1b-a79e-ef1ae9dc5f96\",\"type\":\"Grid\"},{\"id\":\"6a894024-f98f-4d4c-bd08-a774dab5cc93\",\"type\":\"LinearAxis\"},{\"id\":\"c36a5249-475d-4c74-93b5-d370b1c4f7af\",\"type\":\"Grid\"},{\"id\":\"716e28e2-f5da-4e7f-88a6-f1d613de1713\",\"type\":\"BoxAnnotation\"},{\"id\":\"12be1fee-7e0a-41c8-b5ec-a72b6ba3064a\",\"type\":\"Legend\"},{\"id\":\"31cdd44f-a3ff-47ce-8bab-2d21f102e2a2\",\"type\":\"GlyphRenderer\"},{\"id\":\"af3c074e-5b86-4d1a-98c3-9b77e760e9cd\",\"type\":\"GlyphRenderer\"}],\"title\":{\"id\":\"f4746b0f-1124-47c4-8d50-d9699e6a695e\",\"type\":\"Title\"},\"toolbar\":{\"id\":\"6046bead-9db4-411e-83c3-071154631c7a\",\"type\":\"Toolbar\"},\"x_range\":{\"id\":\"c01174d0-4dd5-47ab-8c5a-e450c8fb3c88\",\"type\":\"DataRange1d\"},\"x_scale\":{\"id\":\"9ce2dfa1-dfe9-4d43-adb9-53b681e19ff1\",\"type\":\"LinearScale\"},\"y_range\":{\"id\":\"040932c5-f056-4efd-9e55-a3405aab3ad8\",\"type\":\"DataRange1d\"},\"y_scale\":{\"id\":\"f311d9f5-232c-4a4d-9855-7c7fae828194\",\"type\":\"LinearScale\"}},\"id\":\"806719cb-51d8-4328-a9e9-ad91a4b5bb9e\",\"subtype\":\"Figure\",\"type\":\"Plot\"},{\"attributes\":{},\"id\":\"6aa7fec3-0a5e-48ad-b4a8-173f7cdb4286\",\"type\":\"WheelZoomTool\"},{\"attributes\":{\"items\":[{\"id\":\"38d5b6d9-f58f-4e88-bc06-6ea3f802bbf4\",\"type\":\"LegendItem\"},{\"id\":\"189399eb-f410-4497-a958-ee977210b069\",\"type\":\"LegendItem\"}],\"plot\":{\"id\":\"806719cb-51d8-4328-a9e9-ad91a4b5bb9e\",\"subtype\":\"Figure\",\"type\":\"Plot\"}},\"id\":\"12be1fee-7e0a-41c8-b5ec-a72b6ba3064a\",\"type\":\"Legend\"},{\"attributes\":{\"overlay\":{\"id\":\"716e28e2-f5da-4e7f-88a6-f1d613de1713\",\"type\":\"BoxAnnotation\"}},\"id\":\"8da2e1cc-d6bc-4e93-b74b-556f56ed27b8\",\"type\":\"BoxZoomTool\"},{\"attributes\":{},\"id\":\"b297b6ee-c119-4430-8fff-1679f8385cab\",\"type\":\"HelpTool\"},{\"attributes\":{},\"id\":\"b29c80fd-f1ef-4b6d-a7f3-0e9a142bb858\",\"type\":\"ResetTool\"},{\"attributes\":{},\"id\":\"d4cdf9bd-14ae-462b-9bc7-0045981e8528\",\"type\":\"SaveTool\"}],\"root_ids\":[\"806719cb-51d8-4328-a9e9-ad91a4b5bb9e\"]},\"title\":\"Bokeh Application\",\"version\":\"0.12.9\"}};\n",
       "    var render_items = [{\"docid\":\"506091ef-4a21-47de-885a-1328225d1925\",\"elementid\":\"da6d3586-a21d-4f4c-9a9e-a3f4fb2e9311\",\"modelid\":\"806719cb-51d8-4328-a9e9-ad91a4b5bb9e\"}];\n",
       "\n",
       "    root.Bokeh.embed.embed_items(docs_json, render_items);\n",
       "  }\n",
       "\n",
       "  if (root.Bokeh !== undefined) {\n",
       "    embed_document(root);\n",
       "  } else {\n",
       "    var attempts = 0;\n",
       "    var timer = setInterval(function(root) {\n",
       "      if (root.Bokeh !== undefined) {\n",
       "        embed_document(root);\n",
       "        clearInterval(timer);\n",
       "      }\n",
       "      attempts++;\n",
       "      if (attempts > 100) {\n",
       "        console.log(\"Bokeh: ERROR: Unable to embed document because BokehJS library is missing\")\n",
       "        clearInterval(timer);\n",
       "      }\n",
       "    }, 10, root)\n",
       "  }\n",
       "})(window);"
      ],
      "application/vnd.bokehjs_exec.v0+json": ""
     },
     "metadata": {
      "application/vnd.bokehjs_exec.v0+json": {
       "id": "806719cb-51d8-4328-a9e9-ad91a4b5bb9e"
      }
     },
     "output_type": "display_data"
    }
   ],
   "source": [
    "show(p1)"
   ]
  },
  {
   "cell_type": "code",
   "execution_count": 120,
   "metadata": {},
   "outputs": [
    {
     "data": {
      "text/html": [
       "\n",
       "<div class=\"bk-root\">\n",
       "    <div class=\"bk-plotdiv\" id=\"5bac2547-4afe-4c5f-a0d8-efe88a7f5dbb\"></div>\n",
       "</div>"
      ]
     },
     "metadata": {},
     "output_type": "display_data"
    },
    {
     "data": {
      "application/javascript": [
       "(function(root) {\n",
       "  function embed_document(root) {\n",
       "    var docs_json = {\"13bb3729-0bec-4961-8eed-22fb3ee43d93\":{\"roots\":{\"references\":[{\"attributes\":{\"callback\":null},\"id\":\"c559d1e9-3bc2-4a77-a584-60c52d77c56e\",\"type\":\"DataRange1d\"},{\"attributes\":{},\"id\":\"19e7dd59-be11-4463-b672-4fc1fbcc0530\",\"type\":\"LinearScale\"},{\"attributes\":{\"plot\":null,\"text\":\"Executors.newCachedThreadPool();\"},\"id\":\"c816d1e2-dbe6-4212-82fb-141661ed6825\",\"type\":\"Title\"},{\"attributes\":{\"dimension\":1,\"plot\":{\"id\":\"ead07a2e-f23b-49b1-b81c-07dd5206632d\",\"subtype\":\"Figure\",\"type\":\"Plot\"},\"ticker\":{\"id\":\"bba1b043-93f9-4e29-8f1f-7c02e030ff9c\",\"type\":\"BasicTicker\"}},\"id\":\"3a1ec110-574e-4f7c-9a2b-87f320b810ca\",\"type\":\"Grid\"},{\"attributes\":{\"below\":[{\"id\":\"900b50e7-d7c9-4ebf-8f6c-73abb75bd15d\",\"type\":\"LinearAxis\"}],\"left\":[{\"id\":\"29302a79-8c67-4c3a-a684-612a7eac6c8a\",\"type\":\"LinearAxis\"}],\"renderers\":[{\"id\":\"900b50e7-d7c9-4ebf-8f6c-73abb75bd15d\",\"type\":\"LinearAxis\"},{\"id\":\"7b5bc6aa-96ae-4f4a-9e73-936b76cfddaa\",\"type\":\"Grid\"},{\"id\":\"29302a79-8c67-4c3a-a684-612a7eac6c8a\",\"type\":\"LinearAxis\"},{\"id\":\"3a1ec110-574e-4f7c-9a2b-87f320b810ca\",\"type\":\"Grid\"},{\"id\":\"bbea31c6-fa2a-49e3-8e30-ef113d984c72\",\"type\":\"BoxAnnotation\"},{\"id\":\"25fe8977-b85f-43c1-acec-561004c8a567\",\"type\":\"Legend\"},{\"id\":\"4c848e0d-4b7e-40e4-9fcc-93ac23bc34f3\",\"type\":\"GlyphRenderer\"},{\"id\":\"e5ad6a48-8f3e-4435-9fac-70a75a5857c8\",\"type\":\"GlyphRenderer\"}],\"title\":{\"id\":\"c816d1e2-dbe6-4212-82fb-141661ed6825\",\"type\":\"Title\"},\"toolbar\":{\"id\":\"808be4db-d388-403e-9f92-b2c18d7d7a10\",\"type\":\"Toolbar\"},\"x_range\":{\"id\":\"438867c5-cc17-4ef2-bfcc-cbc13b70709d\",\"type\":\"DataRange1d\"},\"x_scale\":{\"id\":\"19e7dd59-be11-4463-b672-4fc1fbcc0530\",\"type\":\"LinearScale\"},\"y_range\":{\"id\":\"c559d1e9-3bc2-4a77-a584-60c52d77c56e\",\"type\":\"DataRange1d\"},\"y_scale\":{\"id\":\"cca3f422-6674-4205-b6fc-aec8dcdaa0fd\",\"type\":\"LinearScale\"}},\"id\":\"ead07a2e-f23b-49b1-b81c-07dd5206632d\",\"subtype\":\"Figure\",\"type\":\"Plot\"},{\"attributes\":{},\"id\":\"643b42bc-3fc8-4831-b374-f45ac6a3ff68\",\"type\":\"SaveTool\"},{\"attributes\":{\"plot\":{\"id\":\"ead07a2e-f23b-49b1-b81c-07dd5206632d\",\"subtype\":\"Figure\",\"type\":\"Plot\"},\"ticker\":{\"id\":\"7f5a5950-94d1-4570-b618-47ddf02cf699\",\"type\":\"BasicTicker\"}},\"id\":\"7b5bc6aa-96ae-4f4a-9e73-936b76cfddaa\",\"type\":\"Grid\"},{\"attributes\":{\"active_drag\":\"auto\",\"active_inspect\":\"auto\",\"active_scroll\":\"auto\",\"active_tap\":\"auto\",\"tools\":[{\"id\":\"324416c8-21fa-454b-b2f3-6c2b91fbd004\",\"type\":\"PanTool\"},{\"id\":\"fe76dc14-a005-48ce-aeeb-7098c50303d7\",\"type\":\"WheelZoomTool\"},{\"id\":\"42600d2f-d86b-4224-b90f-b7dee8e06f35\",\"type\":\"BoxZoomTool\"},{\"id\":\"643b42bc-3fc8-4831-b374-f45ac6a3ff68\",\"type\":\"SaveTool\"},{\"id\":\"c6f3ee3a-6f8b-449e-a11d-145f8bd1df28\",\"type\":\"ResetTool\"},{\"id\":\"4696c792-1ac9-4a82-8f98-bd0db10007b3\",\"type\":\"HelpTool\"}]},\"id\":\"808be4db-d388-403e-9f92-b2c18d7d7a10\",\"type\":\"Toolbar\"},{\"attributes\":{},\"id\":\"7f5a5950-94d1-4570-b618-47ddf02cf699\",\"type\":\"BasicTicker\"},{\"attributes\":{\"axis_label\":\"time us\",\"formatter\":{\"id\":\"b2a9e6f8-e56a-4d77-b07c-32d1cb8343d1\",\"type\":\"BasicTickFormatter\"},\"plot\":{\"id\":\"ead07a2e-f23b-49b1-b81c-07dd5206632d\",\"subtype\":\"Figure\",\"type\":\"Plot\"},\"ticker\":{\"id\":\"bba1b043-93f9-4e29-8f1f-7c02e030ff9c\",\"type\":\"BasicTicker\"}},\"id\":\"29302a79-8c67-4c3a-a684-612a7eac6c8a\",\"type\":\"LinearAxis\"},{\"attributes\":{\"callback\":null,\"column_names\":[\"x\",\"y\"],\"data\":{\"x\":[1,2,3,4,5,6,7,8,9,10,11,12,13,14,15,16,17,18,19,20,21,22,23,24,25,26,27,28,29,30,31,32,33,34,35,36,37,38,39,40,41,42,43,44,45,46,47,48,49,50,51,52,53,54,55,56,57,58,59,60,61,62,63,64,65,66,67,68,69,70,71,72,73,74,75,76,77,78,79,80,81,82,83,84,85,86,87,88,89,90,91,92,93,94,95,96,97,98,99,100],\"y\":{\"__ndarray__\":\"ZmZmZibwxUAzMzMzM527QAAAAAAAv7NAAAAAAAAQr0AzMzMzM12tQGZmZmZm/qpAAAAAAAAwqUBmZmZmZtKnQM3MzMzMFKtAZmZmZmZXqkAAAAAAAEapQAAAAAAAZqdAAAAAAAAzqEDNzMzMzFyoQAAAAAAA3qdAzczMzMy/p0CamZmZmbmpQGZmZmZmCKlAZmZmZmbup0AzMzMzM8WoQM3MzMzMYqlAmpmZmZkTqEAAAAAAAGCnQM3MzMzM+adAAAAAAADHpkDNzMzMzFmnQAAAAAAAdKdAMzMzMzODp0DNzMzMzImmQDMzMzMzgKZAAAAAAABMp0AzMzMzMzmoQGZmZmZmB6dAAAAAAACKp0AAAAAAADmnQGZmZmZm1aZAZmZmZmZNp0AzMzMzMxWnQJqZmZmZsqZAZmZmZmZZp0CamZmZmUmnQM3MzMzMgqdAmpmZmZk+p0AAAAAAAFGnQGZmZmZm1aZAMzMzMzMkp0AzMzMzMy2nQJqZmZmZ+KZAzczMzMzspkDNzMzMzCmnQJqZmZmZVqdAAAAAAABEqkBmZmZmZtunQM3MzMzMCqdAmpmZmZnJpkCamZmZmeymQGZmZmZmZKdAZmZmZmYjp0AAAAAAALqnQGZmZmZmv6hAzczMzMz3qEBmZmZmZi2nQGZmZmZmQKdAmpmZmZmSp0BmZmZmZvmnQM3MzMzMR6dAAAAAAACgp0DNzMzMzJanQJqZmZmZeKdAAAAAAAAmp0AzMzMzM56mQGZmZmZmQKdAAAAAAACnp0AAAAAAAP6nQDMzMzMzu6dAzczMzMwrp0AzMzMzM32nQM3MzMzMbadAmpmZmZlqp0CamZmZmSCnQDMzMzMze6dAmpmZmZmMp0AzMzMzM5OnQGZmZmZmm6dAZmZmZmZup0BmZmZmZuOoQDMzMzMzvaZAAAAAAACTpkAzMzMzM2qnQDMzMzMzkqdAZmZmZmbdpkCamZmZmVWnQAAAAAAAh6dAMzMzMzPBp0DNzMzMzDenQDMzMzMzsadAAAAAAADip0BmZmZmZhmoQGZmZmZmAqpAAAAAAAAiqEA=\",\"dtype\":\"float64\",\"shape\":[100]}}},\"id\":\"1c315f11-18b6-4987-bc1c-31686cf71c69\",\"type\":\"ColumnDataSource\"},{\"attributes\":{},\"id\":\"324416c8-21fa-454b-b2f3-6c2b91fbd004\",\"type\":\"PanTool\"},{\"attributes\":{\"callback\":null,\"column_names\":[\"x\",\"y\"],\"data\":{\"x\":[1,2,3,4,5,6,7,8,9,10,11,12,13,14,15,16,17,18,19,20,21,22,23,24,25,26,27,28,29,30,31,32,33,34,35,36,37,38,39,40,41,42,43,44,45,46,47,48,49,50,51,52,53,54,55,56,57,58,59,60,61,62,63,64,65,66,67,68,69,70,71,72,73,74,75,76,77,78,79,80,81,82,83,84,85,86,87,88,89,90,91,92,93,94,95,96,97,98,99,100],\"y\":{\"__ndarray__\":\"AAAAAABhxUAAAAAAANO6QJqZmZmZLLNAMzMzMzPirUDNzMzMzOerQDMzMzMzpKlAzczMzMzop0AAAAAAAAynQM3MzMzMlKhAMzMzMzNhqEDNzMzMzCSoQDMzMzMz7adAzczMzMxzp0BmZmZmZgumQM3MzMzMiKVAzczMzMwgpkCamZmZmZqmQAAAAAAADadAMzMzMzP6pkCamZmZmZWmQJqZmZmZlKZAmpmZmZlipkDNzMzMzA2mQDMzMzMzEKZAzczMzMwqpkAAAAAAAC6mQGZmZmZmyKZAzczMzMzIpUDNzMzMzIGlQAAAAAAA4KVAmpmZmZn9pUDNzMzMzM6lQDMzMzMz3KVAMzMzMzOspUCamZmZmaKlQGZmZmZmHqZAAAAAAAAxpkAzMzMzMy2mQAAAAAAAC6ZAMzMzMzMDp0AzMzMzM5imQGZmZmZmy6VAAAAAAACYpUDNzMzMzEOlQDMzMzMzkKZAMzMzMzObpkCamZmZmZymQDMzMzMz26ZAAAAAAAC6pUBmZmZmZnSmQJqZmZmZGKdAMzMzMzPXpUAzMzMzM/2lQJqZmZmZiKVAmpmZmZnapUAzMzMzM5WlQDMzMzMzcKVAmpmZmZm4pUDNzMzMzNqkQGZmZmZmCaZAmpmZmZmhpUDNzMzMzJalQGZmZmZmxqVAMzMzMzN6pUDNzMzMzLOlQM3MzMzMfqVAmpmZmZlPpUBmZmZmZnylQAAAAAAAnqRAzczMzMzFpUAAAAAAAMakQGZmZmZmWqRAMzMzMzOhpUDNzMzMzE+lQM3MzMzM4qVAZmZmZmYrpUAAAAAAADukQM3MzMzMC6VAMzMzMzPspECamZmZmS6mQAAAAAAA6qVAzczMzMzupkCamZmZmfemQGZmZmZmGqZAzczMzMwgpkDNzMzMzPulQAAAAAAAC6ZAMzMzMzPWpkDNzMzMzPOlQM3MzMzMAqZAmpmZmZlwpUAzMzMzM96kQJqZmZmZxqVAZmZmZma2pUCamZmZmYGlQAAAAAAAW6VAzczMzMxupkAzMzMzM12lQDMzMzMz6aRAZmZmZmbepUA=\",\"dtype\":\"float64\",\"shape\":[100]}}},\"id\":\"72d7dc80-bb23-4a0c-9844-1e2044bdc434\",\"type\":\"ColumnDataSource\"},{\"attributes\":{},\"id\":\"bba1b043-93f9-4e29-8f1f-7c02e030ff9c\",\"type\":\"BasicTicker\"},{\"attributes\":{\"axis_label\":\"# tasks\",\"formatter\":{\"id\":\"225efb47-2eed-43f6-bc44-2980d662a614\",\"type\":\"BasicTickFormatter\"},\"plot\":{\"id\":\"ead07a2e-f23b-49b1-b81c-07dd5206632d\",\"subtype\":\"Figure\",\"type\":\"Plot\"},\"ticker\":{\"id\":\"7f5a5950-94d1-4570-b618-47ddf02cf699\",\"type\":\"BasicTicker\"}},\"id\":\"900b50e7-d7c9-4ebf-8f6c-73abb75bd15d\",\"type\":\"LinearAxis\"},{\"attributes\":{},\"id\":\"fe76dc14-a005-48ce-aeeb-7098c50303d7\",\"type\":\"WheelZoomTool\"},{\"attributes\":{\"bottom_units\":\"screen\",\"fill_alpha\":{\"value\":0.5},\"fill_color\":{\"value\":\"lightgrey\"},\"left_units\":\"screen\",\"level\":\"overlay\",\"line_alpha\":{\"value\":1.0},\"line_color\":{\"value\":\"black\"},\"line_dash\":[4,4],\"line_width\":{\"value\":2},\"plot\":null,\"render_mode\":\"css\",\"right_units\":\"screen\",\"top_units\":\"screen\"},\"id\":\"bbea31c6-fa2a-49e3-8e30-ef113d984c72\",\"type\":\"BoxAnnotation\"},{\"attributes\":{},\"id\":\"225efb47-2eed-43f6-bc44-2980d662a614\",\"type\":\"BasicTickFormatter\"},{\"attributes\":{\"line_color\":{\"value\":\"red\"},\"line_width\":{\"value\":3},\"x\":{\"field\":\"x\"},\"y\":{\"field\":\"y\"}},\"id\":\"5154c459-a2cf-415a-900b-80722bec9bf1\",\"type\":\"Line\"},{\"attributes\":{},\"id\":\"4696c792-1ac9-4a82-8f98-bd0db10007b3\",\"type\":\"HelpTool\"},{\"attributes\":{},\"id\":\"c6f3ee3a-6f8b-449e-a11d-145f8bd1df28\",\"type\":\"ResetTool\"},{\"attributes\":{\"line_alpha\":{\"value\":0.1},\"line_color\":{\"value\":\"#1f77b4\"},\"line_width\":{\"value\":3},\"x\":{\"field\":\"x\"},\"y\":{\"field\":\"y\"}},\"id\":\"af9528b2-e08c-4af8-bf82-b5d95bb0a62f\",\"type\":\"Line\"},{\"attributes\":{\"overlay\":{\"id\":\"bbea31c6-fa2a-49e3-8e30-ef113d984c72\",\"type\":\"BoxAnnotation\"}},\"id\":\"42600d2f-d86b-4224-b90f-b7dee8e06f35\",\"type\":\"BoxZoomTool\"},{\"attributes\":{\"callback\":null},\"id\":\"438867c5-cc17-4ef2-bfcc-cbc13b70709d\",\"type\":\"DataRange1d\"},{\"attributes\":{\"data_source\":{\"id\":\"1c315f11-18b6-4987-bc1c-31686cf71c69\",\"type\":\"ColumnDataSource\"},\"glyph\":{\"id\":\"5154c459-a2cf-415a-900b-80722bec9bf1\",\"type\":\"Line\"},\"hover_glyph\":null,\"muted_glyph\":null,\"nonselection_glyph\":{\"id\":\"af9528b2-e08c-4af8-bf82-b5d95bb0a62f\",\"type\":\"Line\"},\"selection_glyph\":null,\"view\":{\"id\":\"1d656268-1ea2-4ebc-b7b1-f3ec75c12e44\",\"type\":\"CDSView\"}},\"id\":\"4c848e0d-4b7e-40e4-9fcc-93ac23bc34f3\",\"type\":\"GlyphRenderer\"},{\"attributes\":{\"items\":[{\"id\":\"211bcb6f-5412-4a53-877f-49105a38cac4\",\"type\":\"LegendItem\"},{\"id\":\"2386e5a0-e382-4067-975d-e960c1797513\",\"type\":\"LegendItem\"}],\"plot\":{\"id\":\"ead07a2e-f23b-49b1-b81c-07dd5206632d\",\"subtype\":\"Figure\",\"type\":\"Plot\"}},\"id\":\"25fe8977-b85f-43c1-acec-561004c8a567\",\"type\":\"Legend\"},{\"attributes\":{},\"id\":\"b2a9e6f8-e56a-4d77-b07c-32d1cb8343d1\",\"type\":\"BasicTickFormatter\"},{\"attributes\":{\"source\":{\"id\":\"1c315f11-18b6-4987-bc1c-31686cf71c69\",\"type\":\"ColumnDataSource\"}},\"id\":\"1d656268-1ea2-4ebc-b7b1-f3ec75c12e44\",\"type\":\"CDSView\"},{\"attributes\":{\"label\":{\"value\":\"Runnable\"},\"renderers\":[{\"id\":\"4c848e0d-4b7e-40e4-9fcc-93ac23bc34f3\",\"type\":\"GlyphRenderer\"}]},\"id\":\"211bcb6f-5412-4a53-877f-49105a38cac4\",\"type\":\"LegendItem\"},{\"attributes\":{\"label\":{\"value\":\"Callable\"},\"renderers\":[{\"id\":\"e5ad6a48-8f3e-4435-9fac-70a75a5857c8\",\"type\":\"GlyphRenderer\"}]},\"id\":\"2386e5a0-e382-4067-975d-e960c1797513\",\"type\":\"LegendItem\"},{\"attributes\":{\"line_alpha\":{\"value\":0.1},\"line_color\":{\"value\":\"#1f77b4\"},\"line_width\":{\"value\":3},\"x\":{\"field\":\"x\"},\"y\":{\"field\":\"y\"}},\"id\":\"d1849c15-4984-4126-a475-22007d851f61\",\"type\":\"Line\"},{\"attributes\":{\"data_source\":{\"id\":\"72d7dc80-bb23-4a0c-9844-1e2044bdc434\",\"type\":\"ColumnDataSource\"},\"glyph\":{\"id\":\"b1033b38-ff1f-43b9-9aa0-a4e53227a0c4\",\"type\":\"Line\"},\"hover_glyph\":null,\"muted_glyph\":null,\"nonselection_glyph\":{\"id\":\"d1849c15-4984-4126-a475-22007d851f61\",\"type\":\"Line\"},\"selection_glyph\":null,\"view\":{\"id\":\"c81e69bb-b0ac-4839-8c15-9475468fa00e\",\"type\":\"CDSView\"}},\"id\":\"e5ad6a48-8f3e-4435-9fac-70a75a5857c8\",\"type\":\"GlyphRenderer\"},{\"attributes\":{\"source\":{\"id\":\"72d7dc80-bb23-4a0c-9844-1e2044bdc434\",\"type\":\"ColumnDataSource\"}},\"id\":\"c81e69bb-b0ac-4839-8c15-9475468fa00e\",\"type\":\"CDSView\"},{\"attributes\":{\"line_color\":{\"value\":\"#1f77b4\"},\"line_width\":{\"value\":3},\"x\":{\"field\":\"x\"},\"y\":{\"field\":\"y\"}},\"id\":\"b1033b38-ff1f-43b9-9aa0-a4e53227a0c4\",\"type\":\"Line\"},{\"attributes\":{},\"id\":\"cca3f422-6674-4205-b6fc-aec8dcdaa0fd\",\"type\":\"LinearScale\"}],\"root_ids\":[\"ead07a2e-f23b-49b1-b81c-07dd5206632d\"]},\"title\":\"Bokeh Application\",\"version\":\"0.12.9\"}};\n",
       "    var render_items = [{\"docid\":\"13bb3729-0bec-4961-8eed-22fb3ee43d93\",\"elementid\":\"5bac2547-4afe-4c5f-a0d8-efe88a7f5dbb\",\"modelid\":\"ead07a2e-f23b-49b1-b81c-07dd5206632d\"}];\n",
       "\n",
       "    root.Bokeh.embed.embed_items(docs_json, render_items);\n",
       "  }\n",
       "\n",
       "  if (root.Bokeh !== undefined) {\n",
       "    embed_document(root);\n",
       "  } else {\n",
       "    var attempts = 0;\n",
       "    var timer = setInterval(function(root) {\n",
       "      if (root.Bokeh !== undefined) {\n",
       "        embed_document(root);\n",
       "        clearInterval(timer);\n",
       "      }\n",
       "      attempts++;\n",
       "      if (attempts > 100) {\n",
       "        console.log(\"Bokeh: ERROR: Unable to embed document because BokehJS library is missing\")\n",
       "        clearInterval(timer);\n",
       "      }\n",
       "    }, 10, root)\n",
       "  }\n",
       "})(window);"
      ],
      "application/vnd.bokehjs_exec.v0+json": ""
     },
     "metadata": {
      "application/vnd.bokehjs_exec.v0+json": {
       "id": "ead07a2e-f23b-49b1-b81c-07dd5206632d"
      }
     },
     "output_type": "display_data"
    }
   ],
   "source": [
    "show(p2)"
   ]
  }
 ],
 "metadata": {
  "kernelspec": {
   "display_name": "Python 3",
   "language": "python",
   "name": "python3"
  },
  "language_info": {
   "codemirror_mode": {
    "name": "ipython",
    "version": 3
   },
   "file_extension": ".py",
   "mimetype": "text/x-python",
   "name": "python",
   "nbconvert_exporter": "python",
   "pygments_lexer": "ipython3",
   "version": "3.6.2"
  }
 },
 "nbformat": 4,
 "nbformat_minor": 2
}
